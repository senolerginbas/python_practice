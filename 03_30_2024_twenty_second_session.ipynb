{
 "cells": [
  {
   "cell_type": "code",
   "execution_count": 1,
   "metadata": {},
   "outputs": [
    {
     "name": "stdout",
     "output_type": "stream",
     "text": [
      "the odd numbers list: [1, 15, 5, 89, 45, 71, 45, 95, 61]\n",
      "the even numbers list: [2, 36, 62, 52, 30, 56, 48]\n"
     ]
    }
   ],
   "source": [
    "num_list = [1,15,2,36,5,89,45,62,52,71,30,56,45,95,61,48]\n",
    "\n",
    "odds = []\n",
    "evens = []\n",
    "\n",
    "for i in num_list:\n",
    "    if i % 2 == 0:\n",
    "        evens.append(i)\n",
    "    else:\n",
    "        odds.append(i)\n",
    "\n",
    "print(f\"the odd numbers list: {odds}\")\n",
    "print(f\"the even numbers list: {evens}\")"
   ]
  },
  {
   "cell_type": "code",
   "execution_count": 2,
   "metadata": {},
   "outputs": [],
   "source": [
    "def odd_even_check(list1, num_type):\n",
    "\n",
    "    \"\"\"this function takes a list and a number type differentiator, to bring the odd or even elements present inside the list.\"\"\"\n",
    "\n",
    "    odds = []\n",
    "    evens = []\n",
    "\n",
    "    for i in list1:\n",
    "        if i % 2 == 0:\n",
    "            evens.append(i)\n",
    "        else:\n",
    "            odds.append(i)\n",
    "\n",
    "    if num_type == \"even\":\n",
    "        return evens\n",
    "    elif num_type == \"odd\":\n",
    "        return odds\n",
    "    else:\n",
    "        return \"not suitable number type\""
   ]
  },
  {
   "cell_type": "code",
   "execution_count": 3,
   "metadata": {},
   "outputs": [
    {
     "data": {
      "text/plain": [
       "[1, 3, 5, 7, 9]"
      ]
     },
     "execution_count": 3,
     "metadata": {},
     "output_type": "execute_result"
    }
   ],
   "source": [
    "odd_even_check([1, 2, 3, 4, 5, 6, 7, 8, 9, 10],\"odd\")"
   ]
  },
  {
   "cell_type": "code",
   "execution_count": 4,
   "metadata": {},
   "outputs": [
    {
     "data": {
      "text/plain": [
       "[2, 4, 6, 8, 10]"
      ]
     },
     "execution_count": 4,
     "metadata": {},
     "output_type": "execute_result"
    }
   ],
   "source": [
    "odd_even_check([1, 2, 3, 4, 5, 6, 7, 8, 9, 10],\"even\")"
   ]
  },
  {
   "cell_type": "code",
   "execution_count": 5,
   "metadata": {},
   "outputs": [
    {
     "data": {
      "text/plain": [
       "[43, 23, 889, 65, 87]"
      ]
     },
     "execution_count": 5,
     "metadata": {},
     "output_type": "execute_result"
    }
   ],
   "source": [
    "listofnum = [43, 56, 12, 23, 889, 65, 44, 87, 80]\n",
    "odd_even_check(listofnum, \"odd\")"
   ]
  },
  {
   "cell_type": "code",
   "execution_count": 6,
   "metadata": {},
   "outputs": [
    {
     "data": {
      "text/plain": [
       "[56, 12, 44, 80]"
      ]
     },
     "execution_count": 6,
     "metadata": {},
     "output_type": "execute_result"
    }
   ],
   "source": [
    "odd_even_check(listofnum, \"even\")"
   ]
  },
  {
   "cell_type": "code",
   "execution_count": 7,
   "metadata": {},
   "outputs": [
    {
     "data": {
      "text/plain": [
       "'not suitable number type'"
      ]
     },
     "execution_count": 7,
     "metadata": {},
     "output_type": "execute_result"
    }
   ],
   "source": [
    "odd_even_check(listofnum, \"negative\")"
   ]
  },
  {
   "cell_type": "code",
   "execution_count": 9,
   "metadata": {},
   "outputs": [
    {
     "data": {
      "text/plain": [
       "[]"
      ]
     },
     "execution_count": 9,
     "metadata": {},
     "output_type": "execute_result"
    }
   ],
   "source": [
    "odd_even_check([], \"odd\")"
   ]
  },
  {
   "cell_type": "code",
   "execution_count": 10,
   "metadata": {},
   "outputs": [],
   "source": [
    "def odd_even_check(list1, num_type):\n",
    "\n",
    "    \"\"\"this function takes a list and a number type differentiator, to bring the odd or even elements present inside the list.\"\"\"\n",
    "\n",
    "    odds = []\n",
    "    evens = []\n",
    "\n",
    "    for i in list1:\n",
    "        if i % 2 == 0:\n",
    "            evens.append(i)\n",
    "        else:\n",
    "            odds.append(i)\n",
    "\n",
    "    odds.sort()\n",
    "    evens.sort()\n",
    "    if num_type == \"even\":\n",
    "        return evens\n",
    "    elif num_type == \"odd\":\n",
    "        return odds\n",
    "    else:\n",
    "        return \"not suitable number type\""
   ]
  },
  {
   "cell_type": "code",
   "execution_count": 11,
   "metadata": {},
   "outputs": [
    {
     "data": {
      "text/plain": [
       "[23, 43, 65, 87, 889]"
      ]
     },
     "execution_count": 11,
     "metadata": {},
     "output_type": "execute_result"
    }
   ],
   "source": [
    "listofnum = [43, 56, 12, 23, 889, 65, 44, 87, 80]\n",
    "odd_even_check(listofnum, \"odd\")"
   ]
  },
  {
   "cell_type": "code",
   "execution_count": 12,
   "metadata": {},
   "outputs": [
    {
     "data": {
      "text/plain": [
       "[12, 44, 56, 80]"
      ]
     },
     "execution_count": 12,
     "metadata": {},
     "output_type": "execute_result"
    }
   ],
   "source": [
    "listofnum = [43, 56, 12, 23, 889, 65, 44, 87, 80]\n",
    "odd_even_check(listofnum, \"even\")"
   ]
  },
  {
   "cell_type": "code",
   "execution_count": 17,
   "metadata": {},
   "outputs": [],
   "source": [
    "def earn_per_ur_name(name):\n",
    "\n",
    "    \"\"\"this function predicts your salary based on the number of vowels present in your name\"\"\"\n",
    "    counter = 0\n",
    "\n",
    "    for i in name.lower():\n",
    "        if i in \"aeiou\":\n",
    "            counter += 1\n",
    "\n",
    "    return f\"based on your name, you must have a salary of ${counter * 1000}\"\n",
    "\n"
   ]
  },
  {
   "cell_type": "code",
   "execution_count": 18,
   "metadata": {},
   "outputs": [
    {
     "data": {
      "text/plain": [
       "'based on your name, you must have a salary of $3000'"
      ]
     },
     "execution_count": 18,
     "metadata": {},
     "output_type": "execute_result"
    }
   ],
   "source": [
    "earn_per_ur_name(\"NIKOLA\")"
   ]
  },
  {
   "cell_type": "code",
   "execution_count": 19,
   "metadata": {},
   "outputs": [],
   "source": [
    "def earn_per_ur_name2(name):\n",
    "\n",
    "    \"\"\"this function predicts your salary based on the number of vowels present in your name\"\"\"\n",
    "    mylist = [1 for i in name.lower() if i in \"aeiou\"]\n",
    "    return f\"based on your name, you must have a salary of ${len(mylist) * 1000}\""
   ]
  },
  {
   "cell_type": "code",
   "execution_count": 20,
   "metadata": {},
   "outputs": [
    {
     "data": {
      "text/plain": [
       "'based on your name, you must have a salary of $2000'"
      ]
     },
     "execution_count": 20,
     "metadata": {},
     "output_type": "execute_result"
    }
   ],
   "source": [
    "earn_per_ur_name2(\"Jalil\")"
   ]
  },
  {
   "cell_type": "code",
   "execution_count": 21,
   "metadata": {},
   "outputs": [],
   "source": [
    "colleagues = [\"elnur\", \"ekrem\", \"jalil\", \"tahereh\", \"neslihan\"]"
   ]
  },
  {
   "cell_type": "code",
   "execution_count": 24,
   "metadata": {},
   "outputs": [
    {
     "name": "stdout",
     "output_type": "stream",
     "text": [
      "hi, elnur based on your name, you must have a salary of $2000\n",
      "hi, ekrem based on your name, you must have a salary of $2000\n",
      "hi, jalil based on your name, you must have a salary of $2000\n",
      "hi, tahereh based on your name, you must have a salary of $3000\n",
      "hi, neslihan based on your name, you must have a salary of $3000\n"
     ]
    }
   ],
   "source": [
    "for i in colleagues:\n",
    "    print(f\"hi, {i}\",earn_per_ur_name2(i))"
   ]
  },
  {
   "cell_type": "code",
   "execution_count": 25,
   "metadata": {},
   "outputs": [],
   "source": [
    "def earn_per_ur_name3(name):\n",
    "\n",
    "    \"\"\"this function predicts your salary based on the number of vowels present in your name\"\"\"\n",
    "    mylist = [1 for i in name.lower() if i in \"aeiou\"]\n",
    "    return f\"${len(mylist) * 1000}\""
   ]
  },
  {
   "cell_type": "code",
   "execution_count": 26,
   "metadata": {},
   "outputs": [
    {
     "data": {
      "text/plain": [
       "'$3000'"
      ]
     },
     "execution_count": 26,
     "metadata": {},
     "output_type": "execute_result"
    }
   ],
   "source": [
    "earn_per_ur_name3(\"george\")"
   ]
  },
  {
   "cell_type": "code",
   "execution_count": 27,
   "metadata": {},
   "outputs": [
    {
     "data": {
      "text/plain": [
       "['elnur', 'ekrem', 'jalil', 'tahereh', 'neslihan']"
      ]
     },
     "execution_count": 27,
     "metadata": {},
     "output_type": "execute_result"
    }
   ],
   "source": [
    "colleagues"
   ]
  },
  {
   "cell_type": "code",
   "execution_count": 28,
   "metadata": {},
   "outputs": [
    {
     "data": {
      "text/plain": [
       "{'elnur': '$2000',\n",
       " 'ekrem': '$2000',\n",
       " 'jalil': '$2000',\n",
       " 'tahereh': '$3000',\n",
       " 'neslihan': '$3000'}"
      ]
     },
     "execution_count": 28,
     "metadata": {},
     "output_type": "execute_result"
    }
   ],
   "source": [
    "resultant = {}\n",
    "\n",
    "for i in colleagues:\n",
    "    resultant[i] = earn_per_ur_name3(i)\n",
    "resultant"
   ]
  },
  {
   "cell_type": "code",
   "execution_count": 29,
   "metadata": {},
   "outputs": [],
   "source": [
    "names = {\"ahmad\":\"student\", \"kasim\":\"colleague\"}"
   ]
  },
  {
   "cell_type": "code",
   "execution_count": null,
   "metadata": {},
   "outputs": [],
   "source": [
    "names[\"nawab\"] = \"friend\""
   ]
  },
  {
   "cell_type": "code",
   "execution_count": 33,
   "metadata": {},
   "outputs": [
    {
     "name": "stdout",
     "output_type": "stream",
     "text": [
      "the number you entered 158 is not an armstrong number\n"
     ]
    }
   ],
   "source": [
    "num = input(\"enter the number you want to check for armstrong\")\n",
    "\n",
    "digits = len(num)\n",
    "\n",
    "summation = 0\n",
    "\n",
    "for i in num:\n",
    "    summation += int(i) ** digits\n",
    "\n",
    "if summation == int(num):\n",
    "    print(f\"the number you entered {num} is an armstrong number\")\n",
    "else:\n",
    "    print(f\"the number you entered {num} is not an armstrong number\")"
   ]
  },
  {
   "cell_type": "code",
   "execution_count": 38,
   "metadata": {},
   "outputs": [],
   "source": [
    "def armstrong_check(num):\n",
    "\n",
    "    \"\"\"This function checks whether a given number is armstrong or not.\"\"\"\n",
    "\n",
    "    num = str(num)\n",
    "    \n",
    "    digit = len(num)\n",
    "    summation = 0\n",
    "    for i in num:\n",
    "        summation += int(i) ** digit\n",
    "\n",
    "    if summation == int(num):\n",
    "        return int(num)"
   ]
  },
  {
   "cell_type": "code",
   "execution_count": 39,
   "metadata": {},
   "outputs": [],
   "source": [
    "armstrong_check(34)"
   ]
  },
  {
   "cell_type": "code",
   "execution_count": 40,
   "metadata": {},
   "outputs": [
    {
     "data": {
      "text/plain": [
       "6"
      ]
     },
     "execution_count": 40,
     "metadata": {},
     "output_type": "execute_result"
    }
   ],
   "source": [
    "armstrong_check(6)"
   ]
  },
  {
   "cell_type": "code",
   "execution_count": 41,
   "metadata": {},
   "outputs": [],
   "source": [
    "armstrong_check(351)"
   ]
  },
  {
   "cell_type": "code",
   "execution_count": 44,
   "metadata": {},
   "outputs": [],
   "source": [
    "def armstrong_check2(num):\n",
    "    num = str(num)\n",
    "    digit = len(num)\n",
    "    summation = sum([int(i) ** digit for i in num])\n",
    "\n",
    "    if summation == int(num):\n",
    "        return int(num)"
   ]
  },
  {
   "cell_type": "code",
   "execution_count": 45,
   "metadata": {},
   "outputs": [],
   "source": [
    "armstrong_check2(4321)"
   ]
  },
  {
   "cell_type": "code",
   "execution_count": 46,
   "metadata": {},
   "outputs": [],
   "source": [
    "armstrong_check2(67546)"
   ]
  },
  {
   "cell_type": "code",
   "execution_count": 47,
   "metadata": {},
   "outputs": [
    {
     "data": {
      "text/plain": [
       "3"
      ]
     },
     "execution_count": 47,
     "metadata": {},
     "output_type": "execute_result"
    }
   ],
   "source": [
    "armstrong_check2(3)"
   ]
  },
  {
   "cell_type": "code",
   "execution_count": 48,
   "metadata": {},
   "outputs": [],
   "source": [
    "def armstrong_check3(num):\n",
    "    num = str(num)\n",
    "    digit = len(num)\n",
    "    if int(num) == sum([int(i) ** digit for i in num]):\n",
    "        return int(num)"
   ]
  },
  {
   "cell_type": "code",
   "execution_count": 49,
   "metadata": {},
   "outputs": [
    {
     "data": {
      "text/plain": [
       "153"
      ]
     },
     "execution_count": 49,
     "metadata": {},
     "output_type": "execute_result"
    }
   ],
   "source": [
    "armstrong_check3(153)"
   ]
  },
  {
   "cell_type": "code",
   "execution_count": 50,
   "metadata": {},
   "outputs": [
    {
     "data": {
      "text/plain": [
       "370"
      ]
     },
     "execution_count": 50,
     "metadata": {},
     "output_type": "execute_result"
    }
   ],
   "source": [
    "armstrong_check3(370)"
   ]
  },
  {
   "cell_type": "code",
   "execution_count": 51,
   "metadata": {},
   "outputs": [],
   "source": [
    "armstrong_check3(435)"
   ]
  },
  {
   "cell_type": "code",
   "execution_count": 52,
   "metadata": {},
   "outputs": [
    {
     "data": {
      "text/plain": [
       "[1, 2, 3, 4, 5, 6, 7, 8, 9, 153, 370, 371, 407, 1634, 8208, 9474]"
      ]
     },
     "execution_count": 52,
     "metadata": {},
     "output_type": "execute_result"
    }
   ],
   "source": [
    "result = []\n",
    "for i in range(1, 10001):\n",
    "    if armstrong_check3(i) != None:\n",
    "        result.append(armstrong_check3(i))\n",
    "\n",
    "result"
   ]
  },
  {
   "cell_type": "code",
   "execution_count": 53,
   "metadata": {},
   "outputs": [
    {
     "data": {
      "text/plain": [
       "[1, 2, 3, 4, 5, 6, 7, 8, 9, 153, 370, 371, 407, 1634, 8208, 9474]"
      ]
     },
     "execution_count": 53,
     "metadata": {},
     "output_type": "execute_result"
    }
   ],
   "source": [
    "[i for i in range(1, 10001) if armstrong_check3(i) != None]"
   ]
  },
  {
   "cell_type": "code",
   "execution_count": 54,
   "metadata": {},
   "outputs": [
    {
     "name": "stdout",
     "output_type": "stream",
     "text": [
      "9 is a prime number\n",
      "9 is not a prime number\n",
      "9 is not a prime number\n",
      "9 is not a prime number\n",
      "9 is not a prime number\n",
      "9 is not a prime number\n",
      "9 is not a prime number\n"
     ]
    }
   ],
   "source": [
    "x = int(input(\"enter a number you want to check for prime\"))\n",
    "\n",
    "if x > 1:\n",
    "    count = 0\n",
    "    for i in range(2, x):\n",
    "        if x % i == 0:\n",
    "            count += 1\n",
    "        if count == 0:\n",
    "            print(f\"{x} is a prime number\")\n",
    "        else:\n",
    "            print(f\"{x} is not a prime number\")\n",
    "else:\n",
    "    print(\"please provide a number higher than 1.\")"
   ]
  },
  {
   "cell_type": "code",
   "execution_count": 55,
   "metadata": {},
   "outputs": [
    {
     "name": "stdout",
     "output_type": "stream",
     "text": [
      "9 is not a prime number\n"
     ]
    }
   ],
   "source": [
    "x = int(input(\"enter a number you want to check for prime\"))\n",
    "\n",
    "if x > 1:\n",
    "    count = 0\n",
    "    for i in range(2, x):\n",
    "        if x % i == 0:\n",
    "            count += 1\n",
    "    if count == 0:\n",
    "        print(f\"{x} is a prime number\")\n",
    "    else:\n",
    "        print(f\"{x} is not a prime number\")\n",
    "else:\n",
    "    print(\"please provide a number higher than 1.\")"
   ]
  },
  {
   "cell_type": "code",
   "execution_count": 61,
   "metadata": {},
   "outputs": [
    {
     "name": "stdout",
     "output_type": "stream",
     "text": [
      "9 is a prime number\n",
      "9 is not a prime number\n",
      "9 is a prime number\n",
      "9 is a prime number\n",
      "9 is a prime number\n",
      "9 is a prime number\n",
      "9 is a prime number\n"
     ]
    }
   ],
   "source": [
    "x = int(input(\"enter a number\"))\n",
    "if x > 1:\n",
    "    for i in range(2, x):\n",
    "        if x % i == 0:\n",
    "            print(f\"{x} is not a prime number\")\n",
    "        else:\n",
    "            print(f\"{x} is a prime number\")\n",
    "else:\n",
    "    print(\"must enter a number higher than 1\")"
   ]
  },
  {
   "cell_type": "code",
   "execution_count": 58,
   "metadata": {},
   "outputs": [
    {
     "name": "stdout",
     "output_type": "stream",
     "text": [
      "9 is a prime number\n",
      "9 is not a prime number\n"
     ]
    }
   ],
   "source": [
    "x = int(input(\"enter a number\"))\n",
    "if x > 1:\n",
    "    for i in range(2, x):\n",
    "        if x % i == 0:\n",
    "            print(f\"{x} is not a prime number\")\n",
    "            break\n",
    "        else:\n",
    "            print(f\"{x} is a prime number\")\n",
    "else:\n",
    "    print(\"must enter a number higher than 1\")"
   ]
  },
  {
   "cell_type": "code",
   "execution_count": 60,
   "metadata": {},
   "outputs": [
    {
     "name": "stdout",
     "output_type": "stream",
     "text": [
      "11 is a prime number\n"
     ]
    }
   ],
   "source": [
    "x = int(input(\"enter a number\"))\n",
    "if x > 1:\n",
    "    for i in range(2, x):\n",
    "        if x % i == 0:\n",
    "            print(f\"{x} is not a prime number\")\n",
    "            break\n",
    "    else:\n",
    "        print(f\"{x} is a prime number\")\n",
    "else:\n",
    "    print(\"must enter a number higher than 1\")"
   ]
  },
  {
   "cell_type": "code",
   "execution_count": 62,
   "metadata": {},
   "outputs": [
    {
     "name": "stdout",
     "output_type": "stream",
     "text": [
      "4 is not a prime number\n",
      "4 is a prime number\n"
     ]
    }
   ],
   "source": [
    "x = int(input(\"enter a number\"))\n",
    "if x > 1:\n",
    "    for i in range(2, x):\n",
    "        if x % i == 0:\n",
    "            print(f\"{x} is not a prime number\")\n",
    "            break\n",
    "    \n",
    "    print(f\"{x} is a prime number\")\n",
    "else:\n",
    "    print(\"must enter a number higher than 1\")"
   ]
  },
  {
   "cell_type": "code",
   "execution_count": null,
   "metadata": {},
   "outputs": [],
   "source": []
  }
 ],
 "metadata": {
  "kernelspec": {
   "display_name": "Python 3",
   "language": "python",
   "name": "python3"
  },
  "language_info": {
   "codemirror_mode": {
    "name": "ipython",
    "version": 3
   },
   "file_extension": ".py",
   "mimetype": "text/x-python",
   "name": "python",
   "nbconvert_exporter": "python",
   "pygments_lexer": "ipython3",
   "version": "3.11.1"
  }
 },
 "nbformat": 4,
 "nbformat_minor": 2
}
