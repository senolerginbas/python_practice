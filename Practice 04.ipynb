{
 "cells": [
  {
   "cell_type": "markdown",
   "metadata": {},
   "source": [
    "#### f-string"
   ]
  },
  {
   "cell_type": "code",
   "execution_count": 1,
   "metadata": {},
   "outputs": [],
   "source": [
    "name = \"techpro\""
   ]
  },
  {
   "cell_type": "code",
   "execution_count": 2,
   "metadata": {},
   "outputs": [
    {
     "data": {
      "text/plain": [
       "'techpro'"
      ]
     },
     "execution_count": 2,
     "metadata": {},
     "output_type": "execute_result"
    }
   ],
   "source": [
    "name"
   ]
  },
  {
   "cell_type": "code",
   "execution_count": 3,
   "metadata": {},
   "outputs": [
    {
     "name": "stdout",
     "output_type": "stream",
     "text": [
      "hi we are students of name\n"
     ]
    }
   ],
   "source": [
    "print(\"hi we are students of name\")"
   ]
  },
  {
   "cell_type": "code",
   "execution_count": 4,
   "metadata": {},
   "outputs": [
    {
     "name": "stdout",
     "output_type": "stream",
     "text": [
      "hi we are students of  techpro\n"
     ]
    }
   ],
   "source": [
    "print(\"hi we are students of \", name)"
   ]
  },
  {
   "cell_type": "code",
   "execution_count": 5,
   "metadata": {},
   "outputs": [
    {
     "name": "stdout",
     "output_type": "stream",
     "text": [
      "hi we are students of techpro\n"
     ]
    }
   ],
   "source": [
    "print(f\"hi we are students of {name}\")"
   ]
  },
  {
   "cell_type": "code",
   "execution_count": 8,
   "metadata": {},
   "outputs": [
    {
     "name": "stdout",
     "output_type": "stream",
     "text": [
      "techpro   \n",
      " techpro  \n",
      "   techpro\n"
     ]
    }
   ],
   "source": [
    "# alignment\n",
    "print(f\"{name:<10}\")\n",
    "print(f\"{name:^10}\")\n",
    "print(f\"{name:>10}\")\n"
   ]
  },
  {
   "cell_type": "code",
   "execution_count": 9,
   "metadata": {},
   "outputs": [
    {
     "name": "stdout",
     "output_type": "stream",
     "text": [
      "techpro   \n"
     ]
    }
   ],
   "source": [
    "# alignment not specified\n",
    "print(f\"{name:10}\")\n",
    "# by default, the alignment is left to right"
   ]
  },
  {
   "cell_type": "code",
   "execution_count": 13,
   "metadata": {},
   "outputs": [
    {
     "name": "stdout",
     "output_type": "stream",
     "text": [
      "techpro\n"
     ]
    }
   ],
   "source": [
    "# alignment not specified\n",
    "print(f\"{name:5}\")\n",
    "# by default, the alignment is left to right"
   ]
  },
  {
   "cell_type": "code",
   "execution_count": 14,
   "metadata": {},
   "outputs": [
    {
     "name": "stdout",
     "output_type": "stream",
     "text": [
      "techpro             \n"
     ]
    }
   ],
   "source": [
    "# alignment not specified\n",
    "print(f\"{name:20}\")\n",
    "# by default, the alignment is left to right"
   ]
  },
  {
   "cell_type": "code",
   "execution_count": 15,
   "metadata": {},
   "outputs": [
    {
     "data": {
      "text/plain": [
       "[1, 2, 3, 4, 5]"
      ]
     },
     "execution_count": 15,
     "metadata": {},
     "output_type": "execute_result"
    }
   ],
   "source": [
    "[1, 2, 3, 4, 5][0:100]"
   ]
  },
  {
   "cell_type": "code",
   "execution_count": 12,
   "metadata": {},
   "outputs": [
    {
     "name": "stdout",
     "output_type": "stream",
     "text": [
      "hello all techpro   \n"
     ]
    }
   ],
   "source": [
    "# alignment not specified\n",
    "print(f\"hello all {name:10}\")\n",
    "# by default, the alignment is left to right"
   ]
  },
  {
   "cell_type": "code",
   "execution_count": 10,
   "metadata": {},
   "outputs": [
    {
     "name": "stdout",
     "output_type": "stream",
     "text": [
      "3.14\n"
     ]
    }
   ],
   "source": [
    "# float data type\n",
    "pi = 3.1415926\n",
    "print(f\"{pi:.2f}\")"
   ]
  },
  {
   "cell_type": "code",
   "execution_count": 11,
   "metadata": {},
   "outputs": [
    {
     "name": "stdout",
     "output_type": "stream",
     "text": [
      "3.142\n"
     ]
    }
   ],
   "source": [
    "# float data type\n",
    "pi = 3.1415926\n",
    "print(f\"{pi:.3f}\")\n",
    "# performed round operation"
   ]
  },
  {
   "cell_type": "code",
   "execution_count": 19,
   "metadata": {},
   "outputs": [
    {
     "name": "stdout",
     "output_type": "stream",
     "text": [
      "25.0%\n"
     ]
    }
   ],
   "source": [
    "# percentage data type\n",
    "quarter = 0.25\n",
    "print(f\"{quarter:.1%}\")"
   ]
  },
  {
   "cell_type": "code",
   "execution_count": 20,
   "metadata": {},
   "outputs": [
    {
     "name": "stdout",
     "output_type": "stream",
     "text": [
      "50.0%\n"
     ]
    }
   ],
   "source": [
    "half = 0.5\n",
    "print(f\"{half:.1%}\")"
   ]
  },
  {
   "cell_type": "code",
   "execution_count": 21,
   "metadata": {},
   "outputs": [
    {
     "ename": "ValueError",
     "evalue": "Format specifier missing precision",
     "output_type": "error",
     "traceback": [
      "\u001b[1;31m---------------------------------------------------------------------------\u001b[0m",
      "\u001b[1;31mValueError\u001b[0m                                Traceback (most recent call last)",
      "Cell \u001b[1;32mIn[21], line 2\u001b[0m\n\u001b[0;32m      1\u001b[0m half \u001b[38;5;241m=\u001b[39m \u001b[38;5;241m0.5\u001b[39m\n\u001b[1;32m----> 2\u001b[0m \u001b[38;5;28mprint\u001b[39m(\u001b[38;5;124mf\u001b[39m\u001b[38;5;124m\"\u001b[39m\u001b[38;5;132;01m{\u001b[39;00mhalf\u001b[38;5;132;01m:\u001b[39;00m\u001b[38;5;124m.%\u001b[39m\u001b[38;5;132;01m}\u001b[39;00m\u001b[38;5;124m\"\u001b[39m)\n",
      "\u001b[1;31mValueError\u001b[0m: Format specifier missing precision"
     ]
    }
   ],
   "source": [
    "half = 0.5\n",
    "print(f\"{half:.%}\")"
   ]
  },
  {
   "cell_type": "code",
   "execution_count": 30,
   "metadata": {},
   "outputs": [
    {
     "name": "stdout",
     "output_type": "stream",
     "text": [
      "23\n",
      "23.000000\n",
      "10111\n",
      "1.000000e+06\n",
      "+23\n",
      "-23\n",
      "23\n"
     ]
    }
   ],
   "source": [
    "# data type conversion in f-strings\n",
    "age = 23\n",
    "print(f\"{age:d}\") # decimal integer\n",
    "print(f\"{age:f}\") # float\n",
    "print(f\"{age:b}\") # binary\n",
    "million = 1000000\n",
    "print(f\"{million:e}\")\n",
    "# sign as -ve and +ve\n",
    "print(f\"{age:+}\")\n",
    "print(f\"-{age}\")\n",
    "print(f\"{age:-}\") \n",
    "# negative sign specifier doesn't exist, should write it as a string like above example"
   ]
  },
  {
   "cell_type": "markdown",
   "metadata": {},
   "source": [
    "# .format formatting of string"
   ]
  },
  {
   "cell_type": "code",
   "execution_count": 31,
   "metadata": {},
   "outputs": [
    {
     "data": {
      "text/plain": [
       "23"
      ]
     },
     "execution_count": 31,
     "metadata": {},
     "output_type": "execute_result"
    }
   ],
   "source": [
    "age"
   ]
  },
  {
   "cell_type": "code",
   "execution_count": 32,
   "metadata": {},
   "outputs": [
    {
     "data": {
      "text/plain": [
       "1000000"
      ]
     },
     "execution_count": 32,
     "metadata": {},
     "output_type": "execute_result"
    }
   ],
   "source": [
    "million"
   ]
  },
  {
   "cell_type": "code",
   "execution_count": 33,
   "metadata": {},
   "outputs": [
    {
     "name": "stdout",
     "output_type": "stream",
     "text": [
      "I am 23 years old, while the milky way galaxy is 1000000\n"
     ]
    }
   ],
   "source": [
    "print(\"I am {} years old, while the milky way galaxy is {}\".format(age, million))"
   ]
  },
  {
   "cell_type": "code",
   "execution_count": 2,
   "metadata": {},
   "outputs": [
    {
     "data": {
      "text/plain": [
       "True"
      ]
     },
     "execution_count": 2,
     "metadata": {},
     "output_type": "execute_result"
    }
   ],
   "source": [
    "def DIF(a,b) :\n",
    "    if abs(a-b) < 5:\n",
    "        return True\n",
    "    else :\n",
    "        return False\n",
    "    \n",
    "DIF(15,16)"
   ]
  },
  {
   "cell_type": "code",
   "execution_count": 10,
   "metadata": {},
   "outputs": [
    {
     "data": {
      "text/plain": [
       "9"
      ]
     },
     "execution_count": 10,
     "metadata": {},
     "output_type": "execute_result"
    }
   ],
   "source": [
    "def max(a,b,c) :\n",
    "    if a > b and a > c :\n",
    "        return a\n",
    "    elif b > c:\n",
    "        \n",
    "        return b\n",
    "    else :\n",
    "     return c\n",
    "    \n",
    "\n",
    "   \n",
    "max(9,-88,2)"
   ]
  },
  {
   "cell_type": "code",
   "execution_count": 23,
   "metadata": {},
   "outputs": [
    {
     "name": "stdout",
     "output_type": "stream",
     "text": [
      "my name is senol and i am a Iceman\n"
     ]
    }
   ],
   "source": [
    "def message(a,b) :\n",
    "\n",
    "    if b[0] in 'aeuio' :\n",
    "        article = 'an'\n",
    "    else :\n",
    "        article = \"a\"\n",
    "    print(f\"my name is {a} and i am {article} {b}\")\n",
    "\n",
    "\n",
    "\n",
    "message('senol','Iceman')"
   ]
  },
  {
   "cell_type": "code",
   "execution_count": 27,
   "metadata": {},
   "outputs": [
    {
     "data": {
      "text/plain": [
       "'b'"
      ]
     },
     "execution_count": 27,
     "metadata": {},
     "output_type": "execute_result"
    }
   ],
   "source": [
    "def planet(id) :\n",
    "\n",
    "    p = {1:'a',2: 'b'}\n",
    "    return p[id]\n",
    "\n",
    "planet(2)"
   ]
  },
  {
   "cell_type": "code",
   "execution_count": 44,
   "metadata": {},
   "outputs": [
    {
     "data": {
      "text/plain": [
       "0"
      ]
     },
     "execution_count": 44,
     "metadata": {},
     "output_type": "execute_result"
    }
   ],
   "source": [
    "\n",
    "def sumzero(list) :\n",
    "   s = 0\n",
    "   for e in list :\n",
    "      if e % 10 ==0 :\n",
    "        s+=e\n",
    "   return s  \n",
    "\n",
    "      \n",
    "      \n",
    "            \n",
    "   \n",
    "       \n",
    "\n",
    "      \n",
    "      \n",
    "\n",
    "list = [106,236,561,508]\n",
    "sumzero(list)"
   ]
  },
  {
   "cell_type": "code",
   "execution_count": 45,
   "metadata": {},
   "outputs": [
    {
     "data": {
      "text/plain": [
       "{2: 1, 6: 3}"
      ]
     },
     "execution_count": 45,
     "metadata": {},
     "output_type": "execute_result"
    }
   ],
   "source": [
    "def invert(d) :\n",
    "    newd= {}\n",
    "\n",
    "    for k,v in d.items() :\n",
    "        newd[v]=k\n",
    "    return newd\n",
    "\n",
    "\n",
    "invert({1:2,3:6})"
   ]
  },
  {
   "cell_type": "code",
   "execution_count": 59,
   "metadata": {},
   "outputs": [
    {
     "name": "stdout",
     "output_type": "stream",
     "text": [
      "(5, 3)\n"
     ]
    }
   ],
   "source": [
    "def count(phrase) :\n",
    "\n",
    "    lower= 0\n",
    "    upper = 0\n",
    "\n",
    "    for  a in phrase :\n",
    "      if a.islower() :\n",
    "         lower+=1\n",
    "      elif a.isupper():\n",
    "           upper+=1\n",
    "\n",
    "    return lower,upper\n",
    "\n",
    "\n",
    "print(count(\"ABCdefk....l\")  )"
   ]
  }
 ],
 "metadata": {
  "kernelspec": {
   "display_name": "Python 3",
   "language": "python",
   "name": "python3"
  },
  "language_info": {
   "codemirror_mode": {
    "name": "ipython",
    "version": 3
   },
   "file_extension": ".py",
   "mimetype": "text/x-python",
   "name": "python",
   "nbconvert_exporter": "python",
   "pygments_lexer": "ipython3",
   "version": "3.10.4"
  }
 },
 "nbformat": 4,
 "nbformat_minor": 2
}
