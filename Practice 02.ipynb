{
 "cells": [
  {
   "cell_type": "markdown",
   "id": "c5c17f4a",
   "metadata": {},
   "source": [
    "## Strings"
   ]
  },
  {
   "cell_type": "markdown",
   "id": "ae6ede43",
   "metadata": {},
   "source": [
    "I have the following variable called name. What is the result of the following codes?"
   ]
  },
  {
   "cell_type": "code",
   "execution_count": 14,
   "id": "1487b280",
   "metadata": {
    "ExecuteTime": {
     "end_time": "2024-03-10T12:23:12.306254Z",
     "start_time": "2024-03-10T12:23:12.299632Z"
    }
   },
   "outputs": [],
   "source": [
    "name = \"Data science course\""
   ]
  },
  {
   "cell_type": "code",
   "execution_count": 15,
   "id": "a9fb8447",
   "metadata": {},
   "outputs": [
    {
     "data": {
      "text/plain": [
       "'D'"
      ]
     },
     "execution_count": 15,
     "metadata": {},
     "output_type": "execute_result"
    }
   ],
   "source": [
    "name[0]"
   ]
  },
  {
   "cell_type": "code",
   "execution_count": 6,
   "id": "748beafb",
   "metadata": {},
   "outputs": [
    {
     "data": {
      "text/plain": [
       "' '"
      ]
     },
     "execution_count": 6,
     "metadata": {},
     "output_type": "execute_result"
    }
   ],
   "source": [
    "name[4]"
   ]
  },
  {
   "cell_type": "code",
   "execution_count": 7,
   "id": "18de055e",
   "metadata": {},
   "outputs": [
    {
     "data": {
      "text/plain": [
       "'e'"
      ]
     },
     "execution_count": 7,
     "metadata": {},
     "output_type": "execute_result"
    }
   ],
   "source": [
    "name[-1]"
   ]
  },
  {
   "cell_type": "code",
   "execution_count": 8,
   "id": "21e06f85",
   "metadata": {},
   "outputs": [
    {
     "data": {
      "text/plain": [
       "19"
      ]
     },
     "execution_count": 8,
     "metadata": {},
     "output_type": "execute_result"
    }
   ],
   "source": [
    "len(name)"
   ]
  },
  {
   "cell_type": "code",
   "execution_count": 9,
   "id": "c003df7c",
   "metadata": {},
   "outputs": [
    {
     "ename": "IndexError",
     "evalue": "string index out of range",
     "output_type": "error",
     "traceback": [
      "\u001b[1;31m---------------------------------------------------------------------------\u001b[0m",
      "\u001b[1;31mIndexError\u001b[0m                                Traceback (most recent call last)",
      "Cell \u001b[1;32mIn[9], line 1\u001b[0m\n\u001b[1;32m----> 1\u001b[0m \u001b[43mname\u001b[49m\u001b[43m[\u001b[49m\u001b[38;5;28;43mlen\u001b[39;49m\u001b[43m(\u001b[49m\u001b[43mname\u001b[49m\u001b[43m)\u001b[49m\u001b[43m]\u001b[49m\n",
      "\u001b[1;31mIndexError\u001b[0m: string index out of range"
     ]
    }
   ],
   "source": [
    "name[len(name)]"
   ]
  },
  {
   "cell_type": "code",
   "execution_count": 10,
   "id": "8c4377cc",
   "metadata": {},
   "outputs": [
    {
     "ename": "IndexError",
     "evalue": "string index out of range",
     "output_type": "error",
     "traceback": [
      "\u001b[1;31m---------------------------------------------------------------------------\u001b[0m",
      "\u001b[1;31mIndexError\u001b[0m                                Traceback (most recent call last)",
      "Cell \u001b[1;32mIn[10], line 1\u001b[0m\n\u001b[1;32m----> 1\u001b[0m \u001b[43mname\u001b[49m\u001b[43m[\u001b[49m\u001b[38;5;241;43m100\u001b[39;49m\u001b[43m]\u001b[49m\n",
      "\u001b[1;31mIndexError\u001b[0m: string index out of range"
     ]
    }
   ],
   "source": [
    "name[100]"
   ]
  },
  {
   "cell_type": "code",
   "execution_count": 11,
   "id": "a722ea8c",
   "metadata": {},
   "outputs": [
    {
     "data": {
      "text/plain": [
       "'Data science courseis the Future'"
      ]
     },
     "execution_count": 11,
     "metadata": {},
     "output_type": "execute_result"
    }
   ],
   "source": [
    "name + \"is the Future\""
   ]
  },
  {
   "cell_type": "code",
   "execution_count": 12,
   "id": "4e882a82",
   "metadata": {},
   "outputs": [
    {
     "data": {
      "text/plain": [
       "'Data science courseis the future'"
      ]
     },
     "execution_count": 12,
     "metadata": {},
     "output_type": "execute_result"
    }
   ],
   "source": [
    "name + \"\" + \"is the future\""
   ]
  },
  {
   "cell_type": "code",
   "execution_count": 16,
   "id": "efcd852d",
   "metadata": {},
   "outputs": [
    {
     "data": {
      "text/plain": [
       "'Data science course is the future'"
      ]
     },
     "execution_count": 16,
     "metadata": {},
     "output_type": "execute_result"
    }
   ],
   "source": [
    "name + \" \" + \"is the future\""
   ]
  },
  {
   "cell_type": "code",
   "execution_count": 13,
   "id": "3f54fe88",
   "metadata": {},
   "outputs": [
    {
     "data": {
      "text/plain": [
       "'Data science courseData science courseData science course'"
      ]
     },
     "execution_count": 13,
     "metadata": {},
     "output_type": "execute_result"
    }
   ],
   "source": [
    "name * 3"
   ]
  },
  {
   "cell_type": "code",
   "execution_count": null,
   "id": "850a1531",
   "metadata": {},
   "outputs": [],
   "source": [
    "\"name\" * 3"
   ]
  },
  {
   "cell_type": "code",
   "execution_count": null,
   "id": "36a5b0ea",
   "metadata": {},
   "outputs": [],
   "source": [
    "name + 5"
   ]
  },
  {
   "cell_type": "code",
   "execution_count": null,
   "id": "dd22d891",
   "metadata": {},
   "outputs": [],
   "source": [
    "name + \"5\""
   ]
  },
  {
   "cell_type": "code",
   "execution_count": null,
   "id": "0bb0c99a",
   "metadata": {},
   "outputs": [],
   "source": [
    "\"name\" + \"5\""
   ]
  },
  {
   "cell_type": "code",
   "execution_count": 17,
   "id": "b0652ca0",
   "metadata": {
    "ExecuteTime": {
     "end_time": "2024-03-10T12:26:29.109891Z",
     "start_time": "2024-03-10T12:26:29.099780Z"
    }
   },
   "outputs": [
    {
     "data": {
      "text/plain": [
       "'aieHiii'"
      ]
     },
     "execution_count": 17,
     "metadata": {},
     "output_type": "execute_result"
    }
   ],
   "source": [
    "name[3] + name[7] + name[-1] + \"Hiii\""
   ]
  },
  {
   "cell_type": "code",
   "execution_count": 20,
   "id": "589d660c",
   "metadata": {},
   "outputs": [
    {
     "data": {
      "text/plain": [
       "'Data science course'"
      ]
     },
     "execution_count": 20,
     "metadata": {},
     "output_type": "execute_result"
    }
   ],
   "source": [
    "name[:]"
   ]
  },
  {
   "cell_type": "code",
   "execution_count": 18,
   "id": "8b08349b",
   "metadata": {},
   "outputs": [
    {
     "data": {
      "text/plain": [
       "'name'"
      ]
     },
     "execution_count": 18,
     "metadata": {},
     "output_type": "execute_result"
    }
   ],
   "source": [
    "\"name\"[:]"
   ]
  },
  {
   "cell_type": "code",
   "execution_count": 19,
   "id": "b209ada0",
   "metadata": {},
   "outputs": [
    {
     "data": {
      "text/plain": [
       "'Data science course'"
      ]
     },
     "execution_count": 19,
     "metadata": {},
     "output_type": "execute_result"
    }
   ],
   "source": [
    "name[0:]"
   ]
  },
  {
   "cell_type": "code",
   "execution_count": null,
   "id": "dd98acb5",
   "metadata": {},
   "outputs": [],
   "source": [
    "name[:-1]"
   ]
  },
  {
   "cell_type": "code",
   "execution_count": 21,
   "id": "be6b5e99",
   "metadata": {
    "ExecuteTime": {
     "end_time": "2024-03-10T12:27:54.247497Z",
     "start_time": "2024-03-10T12:27:54.244001Z"
    }
   },
   "outputs": [
    {
     "data": {
      "text/plain": [
       "'esruoc ecneics ataD'"
      ]
     },
     "execution_count": 21,
     "metadata": {},
     "output_type": "execute_result"
    }
   ],
   "source": [
    "name[::-1]"
   ]
  },
  {
   "cell_type": "code",
   "execution_count": 22,
   "id": "b40bfba5",
   "metadata": {
    "ExecuteTime": {
     "end_time": "2024-03-10T12:28:20.008839Z",
     "start_time": "2024-03-10T12:28:20.005362Z"
    }
   },
   "outputs": [
    {
     "data": {
      "text/plain": [
       "'D'"
      ]
     },
     "execution_count": 22,
     "metadata": {},
     "output_type": "execute_result"
    }
   ],
   "source": [
    "name[0::-1]"
   ]
  },
  {
   "cell_type": "code",
   "execution_count": 23,
   "id": "b1ebbddd",
   "metadata": {
    "ExecuteTime": {
     "end_time": "2024-03-10T12:28:40.829068Z",
     "start_time": "2024-03-10T12:28:40.823000Z"
    }
   },
   "outputs": [
    {
     "data": {
      "text/plain": [
       "'aasin'"
      ]
     },
     "execution_count": 23,
     "metadata": {},
     "output_type": "execute_result"
    }
   ],
   "source": [
    "name[1:10:2]"
   ]
  },
  {
   "cell_type": "code",
   "execution_count": null,
   "id": "3a02dc14",
   "metadata": {},
   "outputs": [],
   "source": [
    "name[10:1:2]"
   ]
  },
  {
   "cell_type": "code",
   "execution_count": null,
   "id": "04f5566a",
   "metadata": {},
   "outputs": [],
   "source": [
    "name[1:10:-1]"
   ]
  },
  {
   "cell_type": "code",
   "execution_count": null,
   "id": "ece013d9",
   "metadata": {},
   "outputs": [],
   "source": [
    "name[10:1:-1]"
   ]
  },
  {
   "cell_type": "markdown",
   "id": "95d219db",
   "metadata": {},
   "source": [
    "## String Methods"
   ]
  },
  {
   "cell_type": "code",
   "execution_count": 27,
   "id": "7f6498eb",
   "metadata": {},
   "outputs": [
    {
     "data": {
      "text/plain": [
       "'data science course'"
      ]
     },
     "execution_count": 27,
     "metadata": {},
     "output_type": "execute_result"
    }
   ],
   "source": [
    "name.lower()"
   ]
  },
  {
   "cell_type": "code",
   "execution_count": 28,
   "id": "7871da00",
   "metadata": {},
   "outputs": [
    {
     "data": {
      "text/plain": [
       "'Data science course'"
      ]
     },
     "execution_count": 28,
     "metadata": {},
     "output_type": "execute_result"
    }
   ],
   "source": [
    "name.capitalize()"
   ]
  },
  {
   "cell_type": "code",
   "execution_count": 30,
   "id": "d5b91c26",
   "metadata": {},
   "outputs": [
    {
     "data": {
      "text/plain": [
       "'DATA SCIENCE COURSE'"
      ]
     },
     "execution_count": 30,
     "metadata": {},
     "output_type": "execute_result"
    }
   ],
   "source": [
    "name.upper()"
   ]
  },
  {
   "cell_type": "code",
   "execution_count": 31,
   "id": "7d4c9c4c",
   "metadata": {
    "ExecuteTime": {
     "end_time": "2024-03-10T12:32:08.895597Z",
     "start_time": "2024-03-10T12:32:08.890910Z"
    }
   },
   "outputs": [
    {
     "data": {
      "text/plain": [
       "'43'"
      ]
     },
     "execution_count": 31,
     "metadata": {},
     "output_type": "execute_result"
    }
   ],
   "source": [
    "\"43\".upper()"
   ]
  },
  {
   "cell_type": "code",
   "execution_count": 36,
   "id": "155371c9",
   "metadata": {},
   "outputs": [
    {
     "name": "stdout",
     "output_type": "stream",
     "text": [
      "Help on method_descriptor:\n",
      "\n",
      "lower(self, /)\n",
      "    Return a copy of the string converted to lowercase.\n",
      "\n"
     ]
    }
   ],
   "source": [
    "help(str.lower)"
   ]
  },
  {
   "cell_type": "code",
   "execution_count": 37,
   "id": "f8394fa3",
   "metadata": {},
   "outputs": [
    {
     "name": "stdout",
     "output_type": "stream",
     "text": [
      "Help on method_descriptor:\n",
      "\n",
      "lower(self, /)\n",
      "    Return a copy of the string converted to lowercase.\n",
      "\n"
     ]
    }
   ],
   "source": [
    "help(str.lower)"
   ]
  },
  {
   "cell_type": "code",
   "execution_count": null,
   "id": "08f1d4d9",
   "metadata": {},
   "outputs": [],
   "source": [
    "\"\"\"Hi everyone, hope you guys are doing good.\n",
    "We are at the first stages of our datascience journey.\n",
    "Keep practicing, no negative energy; if no motivation, no matter\n",
    "we don't progress with motivation, but with discipline.\n",
    "Execute, Act, motivation and inspiration will come.\n",
    "Action doesn't need motivation, but rather births it.\"\"\".title()"
   ]
  },
  {
   "cell_type": "code",
   "execution_count": 38,
   "id": "7ca665d3",
   "metadata": {},
   "outputs": [
    {
     "name": "stdout",
     "output_type": "stream",
     "text": [
      "Watch Your Thopughts; They Become Words;\n",
      "They Become Actions.\n",
      "Watch Your Actions; They Become A Habit.\n",
      "Watch Your Habits; They Become A Character.\n",
      "Watch Your Character; It Becomes Your Destiny.\n"
     ]
    }
   ],
   "source": [
    "print(\"\"\"Watch your thopughts; they become words;\n",
    "they become actions.\n",
    "Watch your actions; they become a habit.\n",
    "Watch your habits; they become a character.\n",
    "Watch your character; it becomes your destiny.\"\"\".title())"
   ]
  },
  {
   "cell_type": "code",
   "execution_count": 39,
   "id": "83c75000",
   "metadata": {},
   "outputs": [
    {
     "data": {
      "text/plain": [
       "'Data science course'"
      ]
     },
     "execution_count": 39,
     "metadata": {},
     "output_type": "execute_result"
    }
   ],
   "source": [
    "name.lower().upper().capitalize()"
   ]
  },
  {
   "cell_type": "code",
   "execution_count": 41,
   "id": "be201bc6",
   "metadata": {},
   "outputs": [
    {
     "data": {
      "text/plain": [
       "'dATA SCIENCE COURSE'"
      ]
     },
     "execution_count": 41,
     "metadata": {},
     "output_type": "execute_result"
    }
   ],
   "source": [
    "name.lower().capitalize().swapcase()"
   ]
  },
  {
   "cell_type": "code",
   "execution_count": 42,
   "id": "b195b415",
   "metadata": {},
   "outputs": [
    {
     "data": {
      "text/plain": [
       "'UAINdt CEC OTap'"
      ]
     },
     "execution_count": 42,
     "metadata": {},
     "output_type": "execute_result"
    }
   ],
   "source": [
    "\"Techpro EDucation DATa science bootCAMP\"[10::2].swapcase()"
   ]
  },
  {
   "cell_type": "code",
   "execution_count": 43,
   "id": "b7be5341",
   "metadata": {},
   "outputs": [
    {
     "ename": "AttributeError",
     "evalue": "'str' object has no attribute 'Swapcase'",
     "output_type": "error",
     "traceback": [
      "\u001b[1;31m---------------------------------------------------------------------------\u001b[0m",
      "\u001b[1;31mAttributeError\u001b[0m                            Traceback (most recent call last)",
      "Cell \u001b[1;32mIn[43], line 1\u001b[0m\n\u001b[1;32m----> 1\u001b[0m \u001b[38;5;124;43m\"\u001b[39;49m\u001b[38;5;124;43mTechpro EDucation DATa science bootCAMP\u001b[39;49m\u001b[38;5;124;43m\"\u001b[39;49m\u001b[43m[\u001b[49m\u001b[38;5;241;43m10\u001b[39;49m\u001b[43m:\u001b[49m\u001b[43m:\u001b[49m\u001b[38;5;241;43m2\u001b[39;49m\u001b[43m]\u001b[49m\u001b[38;5;241;43m.\u001b[39;49m\u001b[43mSwapcase\u001b[49m()\n",
      "\u001b[1;31mAttributeError\u001b[0m: 'str' object has no attribute 'Swapcase'"
     ]
    }
   ],
   "source": [
    "\"Techpro EDucation DATa science bootCAMP\"[10::2].Swapcase()"
   ]
  },
  {
   "cell_type": "code",
   "execution_count": 44,
   "id": "b6a3ce5e",
   "metadata": {},
   "outputs": [
    {
     "data": {
      "text/plain": [
       "'HiiiHiii Data Science BootcHiiiHiiiampHiiiHiiiHiii'"
      ]
     },
     "execution_count": 44,
     "metadata": {},
     "output_type": "execute_result"
    }
   ],
   "source": [
    "\"?? Data Science Bootc??amp???\".replace(\"?\",\"Hiii\")"
   ]
  },
  {
   "cell_type": "code",
   "execution_count": 45,
   "id": "b3b78327",
   "metadata": {},
   "outputs": [
    {
     "data": {
      "text/plain": [
       "'       Data Science Bootc      amp         '"
      ]
     },
     "execution_count": 45,
     "metadata": {},
     "output_type": "execute_result"
    }
   ],
   "source": [
    "\"?? Data Science Bootc??amp???\".replace(\"?\",\"   \")"
   ]
  },
  {
   "cell_type": "code",
   "execution_count": null,
   "id": "d463c999",
   "metadata": {},
   "outputs": [],
   "source": [
    "\"?? Data Science Bootc??amp???\".replace(\"?\",\"\")"
   ]
  },
  {
   "cell_type": "code",
   "execution_count": null,
   "id": "cb2c77af",
   "metadata": {
    "ExecuteTime": {
     "end_time": "2024-03-10T12:40:21.190465Z",
     "start_time": "2024-03-10T12:40:21.183379Z"
    }
   },
   "outputs": [],
   "source": [
    "\"D?t? science bootc?amp\".replace(\"?\",\"a\")"
   ]
  },
  {
   "cell_type": "code",
   "execution_count": null,
   "id": "d8babaa0",
   "metadata": {},
   "outputs": [],
   "source": [
    "\"D?t? science bootc?amp\".replace(\"?\",\"a\",2)"
   ]
  },
  {
   "cell_type": "code",
   "execution_count": null,
   "id": "5c3b41f0",
   "metadata": {},
   "outputs": [],
   "source": [
    "\"D?t? science bootc?amp\".replace(\"?\",\"a\",-1)"
   ]
  },
  {
   "cell_type": "code",
   "execution_count": null,
   "id": "19a6fc8e",
   "metadata": {},
   "outputs": [],
   "source": [
    "\"D?t? science bootc?amp\".replace(\"?\",\"a\",-100)"
   ]
  },
  {
   "cell_type": "code",
   "execution_count": null,
   "id": "eb2ee09d",
   "metadata": {},
   "outputs": [],
   "source": [
    "\"Datea Sceience bootcamp\".replace(\"e\",\"\",2)"
   ]
  },
  {
   "cell_type": "code",
   "execution_count": null,
   "id": "07543815",
   "metadata": {},
   "outputs": [],
   "source": [
    "\"Datea Sceience bootcamp\".replace(\"e\",\"\",2).capitalize().swapcase()"
   ]
  },
  {
   "cell_type": "code",
   "execution_count": 8,
   "id": "81a93c6e",
   "metadata": {
    "ExecuteTime": {
     "end_time": "2024-03-10T12:43:17.144463Z",
     "start_time": "2024-03-10T12:43:17.137783Z"
    }
   },
   "outputs": [],
   "source": [
    "name = \"Techpro Education\""
   ]
  },
  {
   "cell_type": "code",
   "execution_count": null,
   "id": "6b965536",
   "metadata": {},
   "outputs": [],
   "source": [
    "name.count(\"e\")"
   ]
  },
  {
   "cell_type": "code",
   "execution_count": 46,
   "id": "03c59a7d",
   "metadata": {},
   "outputs": [
    {
     "ename": "TypeError",
     "evalue": "can only concatenate str (not \"int\") to str",
     "output_type": "error",
     "traceback": [
      "\u001b[1;31m---------------------------------------------------------------------------\u001b[0m",
      "\u001b[1;31mTypeError\u001b[0m                                 Traceback (most recent call last)",
      "Cell \u001b[1;32mIn[46], line 1\u001b[0m\n\u001b[1;32m----> 1\u001b[0m \u001b[43mname\u001b[49m\u001b[43m \u001b[49m\u001b[38;5;241;43m+\u001b[39;49m\u001b[43m \u001b[49m\u001b[38;5;124;43m\"\u001b[39;49m\u001b[38;5;124;43m333\u001b[39;49m\u001b[38;5;124;43m\"\u001b[39;49m\u001b[38;5;241;43m.\u001b[39;49m\u001b[43mcount\u001b[49m\u001b[43m(\u001b[49m\u001b[38;5;124;43m\"\u001b[39;49m\u001b[38;5;124;43m3\u001b[39;49m\u001b[38;5;124;43m\"\u001b[39;49m\u001b[43m)\u001b[49m\n",
      "\u001b[1;31mTypeError\u001b[0m: can only concatenate str (not \"int\") to str"
     ]
    }
   ],
   "source": [
    "name + \"333\".count(\"3\")"
   ]
  },
  {
   "cell_type": "code",
   "execution_count": null,
   "id": "c5568705",
   "metadata": {},
   "outputs": [],
   "source": [
    "(name + \"333\").count(\"3\")"
   ]
  },
  {
   "cell_type": "code",
   "execution_count": null,
   "id": "eee6af0b",
   "metadata": {},
   "outputs": [],
   "source": [
    "(name + \"333\").count(\"3\").isdigit()"
   ]
  },
  {
   "cell_type": "code",
   "execution_count": null,
   "id": "23071fe5",
   "metadata": {},
   "outputs": [],
   "source": [
    "name.lower().count(\"e\" and \"a\") * 4"
   ]
  },
  {
   "cell_type": "code",
   "execution_count": null,
   "id": "b07ed59b",
   "metadata": {},
   "outputs": [],
   "source": [
    "name.lower().count(\"e\" or \"a\") * 4"
   ]
  },
  {
   "cell_type": "code",
   "execution_count": 10,
   "id": "9d5ba9c0",
   "metadata": {
    "ExecuteTime": {
     "end_time": "2024-03-10T12:46:16.443085Z",
     "start_time": "2024-03-10T12:46:16.440477Z"
    }
   },
   "outputs": [],
   "source": [
    "string1 = \"We are living in the era of Artificial Intelligence\""
   ]
  },
  {
   "cell_type": "code",
   "execution_count": 1,
   "id": "f558d436",
   "metadata": {},
   "outputs": [
    {
     "ename": "NameError",
     "evalue": "name 'string1' is not defined",
     "output_type": "error",
     "traceback": [
      "\u001b[1;31m---------------------------------------------------------------------------\u001b[0m",
      "\u001b[1;31mNameError\u001b[0m                                 Traceback (most recent call last)",
      "Cell \u001b[1;32mIn[1], line 1\u001b[0m\n\u001b[1;32m----> 1\u001b[0m \u001b[43mstring1\u001b[49m\u001b[38;5;241m.\u001b[39msplit()\n",
      "\u001b[1;31mNameError\u001b[0m: name 'string1' is not defined"
     ]
    }
   ],
   "source": [
    "string1.split()"
   ]
  },
  {
   "cell_type": "code",
   "execution_count": null,
   "id": "5100ac11",
   "metadata": {},
   "outputs": [],
   "source": [
    "string1.split(\"s\")"
   ]
  },
  {
   "cell_type": "code",
   "execution_count": null,
   "id": "bd67756a",
   "metadata": {},
   "outputs": [],
   "source": [
    "string1.split(maxsplit=2)"
   ]
  },
  {
   "cell_type": "code",
   "execution_count": null,
   "id": "a2e02687",
   "metadata": {},
   "outputs": [],
   "source": [
    "string1.split(\"e\",maxsplit=3)"
   ]
  },
  {
   "cell_type": "code",
   "execution_count": null,
   "id": "75ef8e90",
   "metadata": {},
   "outputs": [],
   "source": [
    "\"   Hiii    \".strip()"
   ]
  },
  {
   "cell_type": "code",
   "execution_count": null,
   "id": "1970cbae",
   "metadata": {},
   "outputs": [],
   "source": [
    "\"   Hiii    \".rstrip()"
   ]
  },
  {
   "cell_type": "code",
   "execution_count": 49,
   "id": "a4b926ba",
   "metadata": {},
   "outputs": [
    {
     "data": {
      "text/plain": [
       "'Hiii    '"
      ]
     },
     "execution_count": 49,
     "metadata": {},
     "output_type": "execute_result"
    }
   ],
   "source": [
    "\"   Hiii    \".lstrip()"
   ]
  },
  {
   "cell_type": "code",
   "execution_count": 50,
   "id": "32475e3e",
   "metadata": {},
   "outputs": [
    {
     "data": {
      "text/plain": [
       "'Hiii'"
      ]
     },
     "execution_count": 50,
     "metadata": {},
     "output_type": "execute_result"
    }
   ],
   "source": [
    "\"???Hiii???\".strip(\"?\")"
   ]
  },
  {
   "cell_type": "code",
   "execution_count": 53,
   "id": "6a7ed22b",
   "metadata": {},
   "outputs": [
    {
     "data": {
      "text/plain": [
       "' ???Hiii'"
      ]
     },
     "execution_count": 53,
     "metadata": {},
     "output_type": "execute_result"
    }
   ],
   "source": [
    "\" ???Hiii???\".strip(\"?\")"
   ]
  },
  {
   "cell_type": "code",
   "execution_count": 54,
   "id": "b7e57437",
   "metadata": {},
   "outputs": [
    {
     "data": {
      "text/plain": [
       "'   ???Hiii???'"
      ]
     },
     "execution_count": 54,
     "metadata": {},
     "output_type": "execute_result"
    }
   ],
   "source": [
    "\"   ???Hiii???\".lstrip(\"?\")"
   ]
  },
  {
   "cell_type": "code",
   "execution_count": 55,
   "id": "fe20ca7f",
   "metadata": {},
   "outputs": [
    {
     "data": {
      "text/plain": [
       "'Hiii???    '"
      ]
     },
     "execution_count": 55,
     "metadata": {},
     "output_type": "execute_result"
    }
   ],
   "source": [
    "\"???Hiii???    \".strip(\"?\")"
   ]
  },
  {
   "cell_type": "code",
   "execution_count": 57,
   "id": "befb9790",
   "metadata": {},
   "outputs": [
    {
     "data": {
      "text/plain": [
       "'???Hiii'"
      ]
     },
     "execution_count": 57,
     "metadata": {},
     "output_type": "execute_result"
    }
   ],
   "source": [
    "\"???Hiii???\".rstrip(\"?\")"
   ]
  },
  {
   "cell_type": "code",
   "execution_count": null,
   "id": "63a7f255",
   "metadata": {},
   "outputs": [],
   "source": [
    "len(\"Hiiii\")"
   ]
  },
  {
   "cell_type": "code",
   "execution_count": null,
   "id": "447fc7bd",
   "metadata": {},
   "outputs": [],
   "source": [
    "len(\"name\")"
   ]
  },
  {
   "cell_type": "code",
   "execution_count": null,
   "id": "7c42ce22",
   "metadata": {},
   "outputs": [],
   "source": [
    "name = \"Ahmad\"\n",
    "len(name)"
   ]
  },
  {
   "cell_type": "code",
   "execution_count": null,
   "id": "7a170d35",
   "metadata": {},
   "outputs": [],
   "source": [
    "len(3453)"
   ]
  },
  {
   "cell_type": "code",
   "execution_count": null,
   "id": "fd2634b6",
   "metadata": {},
   "outputs": [],
   "source": [
    "len(\"4532\")"
   ]
  }
 ],
 "metadata": {
  "hide_input": false,
  "kernelspec": {
   "display_name": "Python 3 (ipykernel)",
   "language": "python",
   "name": "python3"
  },
  "language_info": {
   "codemirror_mode": {
    "name": "ipython",
    "version": 3
   },
   "file_extension": ".py",
   "mimetype": "text/x-python",
   "name": "python",
   "nbconvert_exporter": "python",
   "pygments_lexer": "ipython3",
   "version": "3.10.4"
  },
  "nbTranslate": {
   "displayLangs": [
    "*"
   ],
   "hotkey": "alt-t",
   "langInMainMenu": true,
   "sourceLang": "en",
   "targetLang": "fr",
   "useGoogleTranslate": true
  },
  "toc": {
   "base_numbering": 1,
   "nav_menu": {},
   "number_sections": true,
   "sideBar": true,
   "skip_h1_title": false,
   "title_cell": "Table of Contents",
   "title_sidebar": "Contents",
   "toc_cell": false,
   "toc_position": {},
   "toc_section_display": true,
   "toc_window_display": false
  },
  "varInspector": {
   "cols": {
    "lenName": 16,
    "lenType": 16,
    "lenVar": 40
   },
   "kernels_config": {
    "python": {
     "delete_cmd_postfix": "",
     "delete_cmd_prefix": "del ",
     "library": "var_list.py",
     "varRefreshCmd": "print(var_dic_list())"
    },
    "r": {
     "delete_cmd_postfix": ") ",
     "delete_cmd_prefix": "rm(",
     "library": "var_list.r",
     "varRefreshCmd": "cat(var_dic_list()) "
    }
   },
   "types_to_exclude": [
    "module",
    "function",
    "builtin_function_or_method",
    "instance",
    "_Feature"
   ],
   "window_display": false
  }
 },
 "nbformat": 4,
 "nbformat_minor": 5
}
