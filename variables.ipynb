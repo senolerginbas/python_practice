{
 "cells": [
  {
   "cell_type": "code",
   "execution_count": null,
   "metadata": {},
   "outputs": [
    {
     "name": "stdout",
     "output_type": "stream",
     "text": [
      "10\n"
     ]
    }
   ],
   "source": [
    "a=10\n",
    "print(a)"
   ]
  },
  {
   "cell_type": "code",
   "execution_count": null,
   "metadata": {},
   "outputs": [
    {
     "name": "stdout",
     "output_type": "stream",
     "text": [
      "36\n"
     ]
    },
    {
     "data": {
      "text/plain": [
       "str"
      ]
     },
     "execution_count": 13,
     "metadata": {},
     "output_type": "execute_result"
    }
   ],
   "source": [
    "a,b,c='10',2,36\n",
    "type(a)\n",
    "print(c)\n",
    "type(a)"
   ]
  },
  {
   "cell_type": "code",
   "execution_count": null,
   "metadata": {},
   "outputs": [
    {
     "name": "stdout",
     "output_type": "stream",
     "text": [
      "1555555555555555555555555555555 1555555555555555555555555555555 1555555555555555555555555555555\n",
      "40\n"
     ]
    }
   ],
   "source": [
    "x=y=z=1555555555555555555555555555555\n",
    "print (x,y,z)\n",
    "print(x.__sizeof__())"
   ]
  },
  {
   "cell_type": "code",
   "execution_count": 1,
   "metadata": {},
   "outputs": [
    {
     "data": {
      "text/plain": [
       "'5'"
      ]
     },
     "execution_count": 1,
     "metadata": {},
     "output_type": "execute_result"
    }
   ],
   "source": [
    "\n",
    "input(\"enter a number\")"
   ]
  },
  {
   "cell_type": "code",
   "execution_count": 7,
   "metadata": {},
   "outputs": [
    {
     "name": "stdout",
     "output_type": "stream",
     "text": [
      "5\n",
      "fg\n"
     ]
    }
   ],
   "source": [
    "number = 45\n",
    "number2 = 56\n",
    "if number > number2:\n",
    "    print(\"hi\")\n",
    "elif number == number2:\n",
    "    print('5')\n",
    "else:\n",
    "    print(5)\n",
    "print(\"fg\")"
   ]
  },
  {
   "cell_type": "code",
   "execution_count": 11,
   "metadata": {},
   "outputs": [
    {
     "data": {
      "text/plain": [
       "12"
      ]
     },
     "execution_count": 11,
     "metadata": {},
     "output_type": "execute_result"
    }
   ],
   "source": [
    "x = 7\n",
    "if x == 8:\n",
    "    print(8 * 4)\n",
    "elif x == 9:\n",
    "    print(\"this will not run\")\n",
    "elif x > 90:\n",
    "    print(\"True\")\n",
    "else:\n",
    "  5  \n",
    "3 * 4"
   ]
  },
  {
   "cell_type": "code",
   "execution_count": 17,
   "metadata": {},
   "outputs": [
    {
     "name": "stdout",
     "output_type": "stream",
     "text": [
      "2.23606797749979\n"
     ]
    }
   ],
   "source": [
    "if False:\n",
    "    print (\"hi\")\n",
    "elif False:\n",
    "    print(5**0.5)\n",
    "else:\n",
    "    print(5**.5)"
   ]
  },
  {
   "cell_type": "code",
   "execution_count": 20,
   "metadata": {},
   "outputs": [
    {
     "name": "stdout",
     "output_type": "stream",
     "text": [
      "experienced\n"
     ]
    }
   ],
   "source": [
    "age = int(input(\"write your age\"))\n",
    "\n",
    "if age < 18 :\n",
    "    print(\"teeneager\")\n",
    "elif age >18 and age < 40 :\n",
    "    print( \"adult\")\n",
    "elif age > 40  <= 55:\n",
    "    print(\"experienced\")\n",
    "elif 55:\n",
    "    print(' emjoy retirement')\n",
    "else:\n",
    "    print(\"enjoy\")\n",
    "\n",
    "\n",
    "\n"
   ]
  },
  {
   "cell_type": "code",
   "execution_count": 24,
   "metadata": {},
   "outputs": [
    {
     "name": "stdout",
     "output_type": "stream",
     "text": [
      "(0, 'A')\n",
      "(1, 'B')\n",
      "(2, 'C')\n"
     ]
    },
    {
     "data": {
      "text/plain": [
       "dict"
      ]
     },
     "execution_count": 24,
     "metadata": {},
     "output_type": "execute_result"
    }
   ],
   "source": [
    "L1 = ['A','B','C']\n",
    "for item in enumerate(L1):\n",
    "    print(item)\n",
    "dict4 = dict(enumerate(L1))\n",
    "dict4\n",
    "type(dict4)"
   ]
  },
  {
   "cell_type": "code",
   "execution_count": 1,
   "metadata": {},
   "outputs": [
    {
     "name": "stdout",
     "output_type": "stream",
     "text": [
      "10 0\n",
      "8\n"
     ]
    }
   ],
   "source": [
    "birtdays = { 'sachin': '03/14/2003',\n",
    "            'carl': '01/17/2001',\n",
    "            'khan':'12/10/2006',\n",
    "            'donald': '06/14/2010',\n",
    "            'rohan':'0/6/2005'}\n",
    "\n",
    "keys= list(birtdays.keys())\n",
    "keys\n",
    "values= list(birtdays.values())\n",
    "values\n",
    "lens= [len(x) for x in values]\n",
    "print(max(lens),lens.index(max(lens)))\n",
    "print(min(lens))\n",
    "\n",
    "\n",
    "# name = input('write your name')\n",
    "\n",
    "# if name in birtdays:\n",
    "#     print('mr./miss {} was born on {} '.format(name,birtdays[name]))\n",
    "# else:\n",
    "#     print('sorry')\n",
    "\n"
   ]
  },
  {
   "cell_type": "code",
   "execution_count": 38,
   "metadata": {},
   "outputs": [
    {
     "data": {
      "text/plain": [
       "[1, 2, 2, 3, '1', '2', '3']"
      ]
     },
     "execution_count": 38,
     "metadata": {},
     "output_type": "execute_result"
    }
   ],
   "source": [
    "list11 =[1,2,2,3]\n",
    "\n",
    "\n",
    "list11.extend(\"123\")\n",
    "list11"
   ]
  },
  {
   "cell_type": "code",
   "execution_count": 63,
   "metadata": {},
   "outputs": [
    {
     "data": {
      "text/plain": [
       "(2, 3, ['125', 1, 6])"
      ]
     },
     "execution_count": 63,
     "metadata": {},
     "output_type": "execute_result"
    }
   ],
   "source": [
    "\n",
    "a= (2,3,[\"125\",1,5])\n",
    "a[2][2]=6\n",
    "a"
   ]
  },
  {
   "cell_type": "code",
   "execution_count": 6,
   "metadata": {},
   "outputs": [
    {
     "data": {
      "text/plain": [
       "{1, 2, 3, 4, 5}"
      ]
     },
     "execution_count": 6,
     "metadata": {},
     "output_type": "execute_result"
    }
   ],
   "source": [
    "set1 = {1,2,3,4,5}\n",
    "type(set1)\n",
    "dict1 = {\"1\": 2, \"3\": 6}\n",
    "dict1\n",
    "set1"
   ]
  },
  {
   "cell_type": "code",
   "execution_count": 19,
   "metadata": {},
   "outputs": [
    {
     "data": {
      "text/plain": [
       "{'book', 'orange juice', 'pen'}"
      ]
     },
     "execution_count": 19,
     "metadata": {},
     "output_type": "execute_result"
    }
   ],
   "source": [
    "list1 = (1,2,3)\n",
    "list2 = []\n",
    "list3 = {\"book\", \"pen\", \"orange juice\", \"book\", \"pen\"}\n",
    "list3"
   ]
  },
  {
   "cell_type": "code",
   "execution_count": 29,
   "metadata": {},
   "outputs": [
    {
     "name": "stdout",
     "output_type": "stream",
     "text": [
      "3\n",
      "5\n",
      "7\n",
      "9\n",
      "11\n"
     ]
    }
   ],
   "source": [
    "x =1\n",
    "while x < 10 :\n",
    "    x = x + 2\n",
    "    print(x)"
   ]
  }
 ],
 "metadata": {
  "kernelspec": {
   "display_name": "Python 3",
   "language": "python",
   "name": "python3"
  },
  "language_info": {
   "codemirror_mode": {
    "name": "ipython",
    "version": 3
   },
   "file_extension": ".py",
   "mimetype": "text/x-python",
   "name": "python",
   "nbconvert_exporter": "python",
   "pygments_lexer": "ipython3",
   "version": "3.10.4"
  }
 },
 "nbformat": 4,
 "nbformat_minor": 2
}
