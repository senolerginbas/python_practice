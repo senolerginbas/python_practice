{
 "cells": [
  {
   "cell_type": "markdown",
   "id": "be60f240",
   "metadata": {},
   "source": [
    "## Part 01"
   ]
  },
  {
   "cell_type": "markdown",
   "id": "ae8c1f88",
   "metadata": {},
   "source": [
    "Write a Python code to print \"Hello World\"."
   ]
  },
  {
   "cell_type": "markdown",
   "id": "218f6527",
   "metadata": {},
   "source": [
    "Correct the following code to print \"Hello World\": Print(\"Hello World\")."
   ]
  },
  {
   "cell_type": "markdown",
   "id": "4057c27e",
   "metadata": {},
   "source": [
    "Fix the syntax error in the following code: print(\"Hello World\" # if a parenthesis is opened, you must close."
   ]
  },
  {
   "cell_type": "markdown",
   "id": "3d8d9697",
   "metadata": {},
   "source": [
    "Fix the syntax error in the following code: print(\"hello world)."
   ]
  },
  {
   "cell_type": "markdown",
   "id": "b3d94f38",
   "metadata": {},
   "source": [
    "Write a Python code to print \"Hello\" and \"World\" on separate lines."
   ]
  },
  {
   "cell_type": "markdown",
   "id": "e66fdf78",
   "metadata": {},
   "source": [
    "Correct the following code to print \"Hello\" and \"World\" separately:"
   ]
  },
  {
   "cell_type": "code",
   "execution_count": null,
   "id": "81123afd",
   "metadata": {
    "ExecuteTime": {
     "end_time": "2024-03-03T12:28:25.172137Z",
     "start_time": "2024-03-03T12:28:25.163947Z"
    }
   },
   "outputs": [],
   "source": [
    "\"Hello\"\n",
    "\"World\""
   ]
  },
  {
   "cell_type": "markdown",
   "id": "3aeedbdc",
   "metadata": {},
   "source": [
    "Write a Python code to create a multi-line string and print it using triple quotes."
   ]
  },
  {
   "cell_type": "markdown",
   "id": "6c40913a",
   "metadata": {
    "ExecuteTime": {
     "end_time": "2024-03-03T12:29:13.317417Z",
     "start_time": "2024-03-03T12:29:13.306153Z"
    }
   },
   "source": [
    "Correct the syntax error in the following code:"
   ]
  },
  {
   "cell_type": "code",
   "execution_count": null,
   "id": "35de1e5d",
   "metadata": {
    "ExecuteTime": {
     "end_time": "2024-03-03T12:29:27.009873Z",
     "start_time": "2024-03-03T12:29:26.989620Z"
    }
   },
   "outputs": [],
   "source": [
    "print(\"\"\"this \n",
    "      is a\n",
    "        sample \n",
    "        string\n",
    "        \"\"\")"
   ]
  },
  {
   "cell_type": "markdown",
   "id": "7df994e3",
   "metadata": {},
   "source": [
    "Fix the syntax error in the following code: print('hello world\")."
   ]
  },
  {
   "cell_type": "markdown",
   "id": "6c153f58",
   "metadata": {},
   "source": [
    "Correct the syntax error in the following code: print(\"\"\"\"\"\"\")."
   ]
  },
  {
   "cell_type": "markdown",
   "id": "4c89611c",
   "metadata": {},
   "source": [
    "Write a Python code to print the string ' '."
   ]
  },
  {
   "cell_type": "markdown",
   "id": "97de8410",
   "metadata": {},
   "source": [
    "What will be the output of the following code?"
   ]
  },
  {
   "cell_type": "code",
   "execution_count": null,
   "id": "97a5501b",
   "metadata": {},
   "outputs": [],
   "source": [
    "print(\"\"\"\"\"\")\n",
    "print(\"\"\"\"\")\n",
    "print(\"\"\"\"\"\"\")"
   ]
  },
  {
   "cell_type": "markdown",
   "id": "5fa05132",
   "metadata": {},
   "source": [
    "## Part 02"
   ]
  },
  {
   "cell_type": "markdown",
   "id": "da6dec63",
   "metadata": {},
   "source": [
    "### A) Creating variables"
   ]
  },
  {
   "cell_type": "markdown",
   "id": "aacac62a",
   "metadata": {},
   "source": [
    "Declare a variable called name and assign it the value \"John\"."
   ]
  },
  {
   "cell_type": "markdown",
   "id": "a62185ff",
   "metadata": {},
   "source": [
    "Create a variable named age and set it to 25."
   ]
  },
  {
   "cell_type": "markdown",
   "id": "41685320",
   "metadata": {},
   "source": [
    "Initialize a variable named pi and assign it the value 3.14."
   ]
  },
  {
   "cell_type": "markdown",
   "id": "8544b6aa",
   "metadata": {},
   "source": [
    "Assign the string \"Python\" to a variable called language."
   ]
  },
  {
   "cell_type": "markdown",
   "id": "a371e5f6",
   "metadata": {},
   "source": [
    "Declare a variable named is_student and set it to True."
   ]
  },
  {
   "cell_type": "markdown",
   "id": "786fb617",
   "metadata": {},
   "source": [
    "### B) Variable Names"
   ]
  },
  {
   "cell_type": "markdown",
   "id": "986e99c1",
   "metadata": {},
   "source": [
    "Which of the following variable names is valid in Python: my_var, 123var, variable_name, or Var$?"
   ]
  },
  {
   "cell_type": "markdown",
   "id": "2af648f9",
   "metadata": {},
   "source": [
    "True or False: Variable names in Python are case-sensitive."
   ]
  },
  {
   "cell_type": "markdown",
   "id": "4f910b91",
   "metadata": {},
   "source": [
    "Is my_variable a valid variable name?"
   ]
  },
  {
   "cell_type": "markdown",
   "id": "82fa5bfd",
   "metadata": {},
   "source": [
    "Identify the incorrect variable name: my_variable, MyVariable, my-variable, or my_variable_123?"
   ]
  },
  {
   "cell_type": "markdown",
   "id": "f3c39a2e",
   "metadata": {},
   "source": [
    "Which of the following is a valid variable name: my_variable, my variable, or my-variable?"
   ]
  },
  {
   "cell_type": "markdown",
   "id": "c1579772",
   "metadata": {},
   "source": [
    "### C) Declaring multiple variables"
   ]
  },
  {
   "cell_type": "markdown",
   "id": "7a1af1b7",
   "metadata": {},
   "source": [
    "Create three variables x, y, and z and assign them values 10, 20, and 30 respectively in a single line."
   ]
  },
  {
   "cell_type": "markdown",
   "id": "07c796fc",
   "metadata": {},
   "source": [
    "Initialize two variables a and b with the same value of 5 in a single line."
   ]
  },
  {
   "cell_type": "markdown",
   "id": "f9ae0126",
   "metadata": {},
   "source": [
    "### D) Data Types and Conversion"
   ]
  },
  {
   "cell_type": "markdown",
   "id": "1cc6213b",
   "metadata": {},
   "source": [
    "Convert the string \"10\" to an integer."
   ]
  },
  {
   "cell_type": "markdown",
   "id": "a2738d59",
   "metadata": {},
   "source": [
    "Convert the integer 25 to a string."
   ]
  },
  {
   "cell_type": "markdown",
   "id": "1fadb43e",
   "metadata": {},
   "source": [
    "Change the float value 3.14 to an integer."
   ]
  },
  {
   "cell_type": "markdown",
   "id": "7f925535",
   "metadata": {},
   "source": [
    "Convert the boolean value True to an integer."
   ]
  },
  {
   "cell_type": "markdown",
   "id": "508652ab",
   "metadata": {},
   "source": [
    "Convert the string \"3.14\" to a float."
   ]
  },
  {
   "cell_type": "markdown",
   "id": "43ea7cef",
   "metadata": {},
   "source": [
    "Convert the string \"3.14\" to a int."
   ]
  },
  {
   "cell_type": "markdown",
   "id": "ecf902c4",
   "metadata": {},
   "source": [
    "### E) Arithmetic Operations"
   ]
  },
  {
   "cell_type": "markdown",
   "id": "adde7bf2",
   "metadata": {},
   "source": [
    "Perform addition of 10 and 5."
   ]
  },
  {
   "cell_type": "markdown",
   "id": "748b94ed",
   "metadata": {},
   "source": [
    "Calculate the result of 25 minus 7."
   ]
  },
  {
   "cell_type": "markdown",
   "id": "c0fe44a3",
   "metadata": {},
   "source": [
    "Multiply 5 by 4."
   ]
  },
  {
   "cell_type": "markdown",
   "id": "4be326c7",
   "metadata": {},
   "source": [
    "Divide 20 by 3."
   ]
  },
  {
   "cell_type": "markdown",
   "id": "f752c33e",
   "metadata": {},
   "source": [
    "Calculate the integer division of 21 by 4."
   ]
  },
  {
   "cell_type": "markdown",
   "id": "1cb8b3d9",
   "metadata": {},
   "source": [
    "Find the remainder when 17 is divided by 5."
   ]
  },
  {
   "cell_type": "markdown",
   "id": "73c83bc5",
   "metadata": {},
   "source": [
    "Calculate 2 raised to the power of 5."
   ]
  },
  {
   "cell_type": "markdown",
   "id": "f6f2423e",
   "metadata": {},
   "source": [
    "Compute the square root of 144."
   ]
  },
  {
   "cell_type": "markdown",
   "id": "6fd0f370",
   "metadata": {},
   "source": [
    "Calculate the value of 7 squared."
   ]
  },
  {
   "cell_type": "markdown",
   "id": "bbe835b4",
   "metadata": {},
   "source": [
    "What is the result of 9 raised to the power of 0?"
   ]
  },
  {
   "cell_type": "markdown",
   "id": "8e1da009",
   "metadata": {},
   "source": [
    "### F) Variable Shortcuts"
   ]
  },
  {
   "cell_type": "markdown",
   "id": "572af8bd",
   "metadata": {},
   "source": [
    "Given x = 10, perform the operation x += 5. What is the new value of x?"
   ]
  },
  {
   "cell_type": "markdown",
   "id": "9d197546",
   "metadata": {},
   "source": [
    "If y = 8, apply the operation y -= 3. What is the updated value of y?"
   ]
  },
  {
   "cell_type": "markdown",
   "id": "8ba2afc3",
   "metadata": {},
   "source": [
    "Initialize a with the value 15. Use the shortcut a *= 3. What is the new value of a?"
   ]
  },
  {
   "cell_type": "markdown",
   "id": "7954437e",
   "metadata": {},
   "source": [
    "If b = 20, apply the operation b /= 4. What is the resulting value of b?"
   ]
  },
  {
   "cell_type": "markdown",
   "id": "eb32a6d4",
   "metadata": {},
   "source": [
    "Start with c = 5. Use the shortcut c += 10. What is the final value of c?"
   ]
  },
  {
   "cell_type": "markdown",
   "id": "ec5f167b",
   "metadata": {},
   "source": [
    "Given d = 12, perform d //= 4. What is the updated value of d?"
   ]
  },
  {
   "cell_type": "markdown",
   "id": "33794e1d",
   "metadata": {},
   "source": [
    "Initialize e with the value 25. Use the shortcut e **= 2. What is the new value of e?"
   ]
  },
  {
   "cell_type": "markdown",
   "id": "b81a7b33",
   "metadata": {},
   "source": [
    "If f = 16, apply the operation f %= 7. What is the resulting value of f?"
   ]
  },
  {
   "cell_type": "markdown",
   "id": "a3b4e57d",
   "metadata": {},
   "source": [
    "Start with g = 7. Use the shortcut g *= 3. What is the final value of g?"
   ]
  },
  {
   "cell_type": "markdown",
   "id": "5ec01559",
   "metadata": {},
   "source": [
    "Given h = 30, perform h //= 5. What is the updated value of h?"
   ]
  },
  {
   "cell_type": "markdown",
   "id": "6fe40610",
   "metadata": {},
   "source": [
    "## Part 04"
   ]
  },
  {
   "cell_type": "markdown",
   "id": "536512cd",
   "metadata": {},
   "source": [
    "Modify the following codes to print the expected output:"
   ]
  },
  {
   "cell_type": "code",
   "execution_count": null,
   "id": "d3dda93a",
   "metadata": {},
   "outputs": [],
   "source": [
    "print(\"Hello\", \"World\") # Expected Output Hello World"
   ]
  },
  {
   "cell_type": "code",
   "execution_count": null,
   "id": "ad174421",
   "metadata": {
    "ExecuteTime": {
     "end_time": "2024-03-03T12:56:03.955665Z",
     "start_time": "2024-03-03T12:56:03.948717Z"
    }
   },
   "outputs": [],
   "source": [
    "print(1,2,3) # expected output 1-2-3"
   ]
  },
  {
   "cell_type": "code",
   "execution_count": null,
   "id": "7a118fda",
   "metadata": {},
   "outputs": [],
   "source": [
    "print(\"apple\", \"banana\", \"cherry\") # expected output apple, banana, cherry"
   ]
  },
  {
   "cell_type": "code",
   "execution_count": null,
   "id": "613417b3",
   "metadata": {},
   "outputs": [],
   "source": [
    "print(10, 20, 30) # expected output 10: 20: 30"
   ]
  },
  {
   "cell_type": "markdown",
   "id": "478cdee7",
   "metadata": {
    "ExecuteTime": {
     "end_time": "2024-03-03T12:58:30.187702Z",
     "start_time": "2024-03-03T12:58:30.180376Z"
    }
   },
   "source": [
    "Modify the following Python code snippet to print \"Good\" and \"Morning\" on separate lines. Make sure not to add another print function. Expected output:\n"
   ]
  },
  {
   "cell_type": "markdown",
   "id": "79cd0a48",
   "metadata": {},
   "source": [
    "Good"
   ]
  },
  {
   "cell_type": "markdown",
   "id": "53dd5d9a",
   "metadata": {},
   "source": [
    "Morning"
   ]
  },
  {
   "cell_type": "code",
   "execution_count": null,
   "id": "a9767862",
   "metadata": {},
   "outputs": [],
   "source": [
    "print(\"Good\",\"Morning\")"
   ]
  },
  {
   "cell_type": "markdown",
   "id": "f3e0646e",
   "metadata": {},
   "source": [
    "Prompt the user to enter their name and greet them with \"Hello, [name]! How are you today?\""
   ]
  },
  {
   "cell_type": "markdown",
   "id": "b3538042",
   "metadata": {},
   "source": [
    "Ask the user to input their birth year and calculate their current age. Then, print a message stating their age."
   ]
  },
  {
   "cell_type": "markdown",
   "id": "08ef8d0c",
   "metadata": {},
   "source": [
    "Request the user to input two numbers, add them together, and display the result."
   ]
  },
  {
   "cell_type": "markdown",
   "id": "07a70319",
   "metadata": {
    "ExecuteTime": {
     "end_time": "2024-03-03T13:12:43.671197Z",
     "start_time": "2024-03-03T13:12:43.664371Z"
    }
   },
   "source": [
    "Ask the user to input their favorite color and print a message including their input."
   ]
  },
  {
   "cell_type": "markdown",
   "id": "ef0b0b5b",
   "metadata": {},
   "source": [
    "Prompt the user to input their age in months and convert it to years. Then, display the result."
   ]
  },
  {
   "cell_type": "code",
   "execution_count": null,
   "id": "651f2ace",
   "metadata": {},
   "outputs": [],
   "source": []
  }
 ],
 "metadata": {
  "hide_input": false,
  "kernelspec": {
   "display_name": "Python 3 (ipykernel)",
   "language": "python",
   "name": "python3"
  },
  "language_info": {
   "codemirror_mode": {
    "name": "ipython",
    "version": 3
   },
   "file_extension": ".py",
   "mimetype": "text/x-python",
   "name": "python",
   "nbconvert_exporter": "python",
   "pygments_lexer": "ipython3",
   "version": "3.11.5"
  },
  "nbTranslate": {
   "displayLangs": [
    "*"
   ],
   "hotkey": "alt-t",
   "langInMainMenu": true,
   "sourceLang": "en",
   "targetLang": "fr",
   "useGoogleTranslate": true
  },
  "toc": {
   "base_numbering": 1,
   "nav_menu": {},
   "number_sections": true,
   "sideBar": true,
   "skip_h1_title": false,
   "title_cell": "Table of Contents",
   "title_sidebar": "Contents",
   "toc_cell": false,
   "toc_position": {},
   "toc_section_display": true,
   "toc_window_display": false
  },
  "varInspector": {
   "cols": {
    "lenName": 16,
    "lenType": 16,
    "lenVar": 40
   },
   "kernels_config": {
    "python": {
     "delete_cmd_postfix": "",
     "delete_cmd_prefix": "del ",
     "library": "var_list.py",
     "varRefreshCmd": "print(var_dic_list())"
    },
    "r": {
     "delete_cmd_postfix": ") ",
     "delete_cmd_prefix": "rm(",
     "library": "var_list.r",
     "varRefreshCmd": "cat(var_dic_list()) "
    }
   },
   "types_to_exclude": [
    "module",
    "function",
    "builtin_function_or_method",
    "instance",
    "_Feature"
   ],
   "window_display": false
  }
 },
 "nbformat": 4,
 "nbformat_minor": 5
}
