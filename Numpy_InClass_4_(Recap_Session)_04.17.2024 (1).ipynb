{
 "cells": [
  {
   "cell_type": "code",
   "execution_count": 1,
   "metadata": {},
   "outputs": [],
   "source": [
    "import numpy as np "
   ]
  },
  {
   "cell_type": "code",
   "execution_count": 2,
   "metadata": {},
   "outputs": [
    {
     "data": {
      "text/plain": [
       "array(5)"
      ]
     },
     "execution_count": 2,
     "metadata": {},
     "output_type": "execute_result"
    }
   ],
   "source": [
    "# 0D array \n",
    "np.array(5)"
   ]
  },
  {
   "cell_type": "code",
   "execution_count": 3,
   "metadata": {},
   "outputs": [
    {
     "data": {
      "text/plain": [
       "array([1, 2, 3])"
      ]
     },
     "execution_count": 3,
     "metadata": {},
     "output_type": "execute_result"
    }
   ],
   "source": [
    "# 1D array \n",
    "np.array([1,2,3])"
   ]
  },
  {
   "cell_type": "code",
   "execution_count": 4,
   "metadata": {},
   "outputs": [
    {
     "data": {
      "text/plain": [
       "array([[1., 2., 3.]])"
      ]
     },
     "execution_count": 4,
     "metadata": {},
     "output_type": "execute_result"
    }
   ],
   "source": [
    "# 2D array type float64\n",
    "np.array([[1,2,3]], dtype=\"float64\")"
   ]
  },
  {
   "cell_type": "code",
   "execution_count": 5,
   "metadata": {},
   "outputs": [
    {
     "ename": "TypeError",
     "evalue": "unsupported operand type(s) for /: 'int' and 'tuple'",
     "output_type": "error",
     "traceback": [
      "\u001b[1;31m---------------------------------------------------------------------------\u001b[0m",
      "\u001b[1;31mTypeError\u001b[0m                                 Traceback (most recent call last)",
      "Cell \u001b[1;32mIn[5], line 1\u001b[0m\n\u001b[1;32m----> 1\u001b[0m \u001b[43mnp\u001b[49m\u001b[38;5;241;43m.\u001b[39;49m\u001b[43marange\u001b[49m\u001b[43m(\u001b[49m\u001b[38;5;241;43m1\u001b[39;49m\u001b[43m,\u001b[49m\u001b[38;5;241;43m51\u001b[39;49m\u001b[43m,\u001b[49m\u001b[43m \u001b[49m\u001b[43m(\u001b[49m\u001b[38;5;241;43m5\u001b[39;49m\u001b[43m,\u001b[49m\u001b[38;5;241;43m-\u001b[39;49m\u001b[38;5;241;43m1\u001b[39;49m\u001b[43m)\u001b[49m\u001b[43m)\u001b[49m\n",
      "\u001b[1;31mTypeError\u001b[0m: unsupported operand type(s) for /: 'int' and 'tuple'"
     ]
    }
   ],
   "source": [
    "np.arange(1,51, (5,-1))"
   ]
  },
  {
   "cell_type": "code",
   "execution_count": 6,
   "metadata": {},
   "outputs": [
    {
     "data": {
      "text/plain": [
       "array([[ 1,  2,  3,  4,  5,  6,  7,  8,  9, 10],\n",
       "       [11, 12, 13, 14, 15, 16, 17, 18, 19, 20],\n",
       "       [21, 22, 23, 24, 25, 26, 27, 28, 29, 30],\n",
       "       [31, 32, 33, 34, 35, 36, 37, 38, 39, 40],\n",
       "       [41, 42, 43, 44, 45, 46, 47, 48, 49, 50]])"
      ]
     },
     "execution_count": 6,
     "metadata": {},
     "output_type": "execute_result"
    }
   ],
   "source": [
    "np.arange(1,51).reshape(5,-1)"
   ]
  },
  {
   "cell_type": "code",
   "execution_count": 7,
   "metadata": {},
   "outputs": [
    {
     "data": {
      "text/plain": [
       "array([[[1, 2],\n",
       "        [3, 4]]])"
      ]
     },
     "execution_count": 7,
     "metadata": {},
     "output_type": "execute_result"
    }
   ],
   "source": [
    "# 3D array \n",
    "np.array([[[1,2],[3,4]]])"
   ]
  },
  {
   "cell_type": "code",
   "execution_count": 8,
   "metadata": {},
   "outputs": [
    {
     "data": {
      "text/plain": [
       "array([[[[1, 2],\n",
       "         [2, 3]],\n",
       "\n",
       "        [[3, 4],\n",
       "         [4, 5]]]])"
      ]
     },
     "execution_count": 8,
     "metadata": {},
     "output_type": "execute_result"
    }
   ],
   "source": [
    "# 3D array \n",
    "np.array([[[[1,2],[2,3]],[[3,4],[4,5]]]])"
   ]
  },
  {
   "cell_type": "code",
   "execution_count": 9,
   "metadata": {},
   "outputs": [
    {
     "data": {
      "text/plain": [
       "array([ 0,  1,  2,  3,  4,  5,  6,  7,  8,  9, 10, 11, 12, 13, 14, 15, 16,\n",
       "       17, 18, 19, 20, 21, 22, 23])"
      ]
     },
     "execution_count": 9,
     "metadata": {},
     "output_type": "execute_result"
    }
   ],
   "source": [
    "a = np.arange(24)\n",
    "a"
   ]
  },
  {
   "cell_type": "code",
   "execution_count": 10,
   "metadata": {},
   "outputs": [
    {
     "data": {
      "text/plain": [
       "array([[[ 0,  1,  2,  3],\n",
       "        [ 4,  5,  6,  7],\n",
       "        [ 8,  9, 10, 11]],\n",
       "\n",
       "       [[12, 13, 14, 15],\n",
       "        [16, 17, 18, 19],\n",
       "        [20, 21, 22, 23]]])"
      ]
     },
     "execution_count": 10,
     "metadata": {},
     "output_type": "execute_result"
    }
   ],
   "source": [
    "a.reshape(2,3,4)"
   ]
  },
  {
   "cell_type": "code",
   "execution_count": 11,
   "metadata": {},
   "outputs": [
    {
     "data": {
      "text/plain": [
       "array([[1., 1., 1.],\n",
       "       [1., 1., 1.],\n",
       "       [1., 1., 1.]])"
      ]
     },
     "execution_count": 11,
     "metadata": {},
     "output_type": "execute_result"
    }
   ],
   "source": [
    "# ones()\n",
    "np.ones((3,3))"
   ]
  },
  {
   "cell_type": "code",
   "execution_count": 12,
   "metadata": {},
   "outputs": [
    {
     "data": {
      "text/plain": [
       "array([[[ 0,  1,  2,  3],\n",
       "        [ 4,  5,  6,  7],\n",
       "        [ 8,  9, 10, 11]],\n",
       "\n",
       "       [[12, 13, 14, 15],\n",
       "        [16, 17, 18, 19],\n",
       "        [20, 21, 22, 23]]])"
      ]
     },
     "execution_count": 12,
     "metadata": {},
     "output_type": "execute_result"
    }
   ],
   "source": [
    "a.reshape(2,3,4)"
   ]
  },
  {
   "cell_type": "code",
   "execution_count": 13,
   "metadata": {},
   "outputs": [
    {
     "data": {
      "text/plain": [
       "array([1, 1, 1, 1, 1, 1, 1, 1, 1, 1, 1, 1, 1, 1, 1, 1, 1, 1, 1, 1, 1, 1,\n",
       "       1, 1])"
      ]
     },
     "execution_count": 13,
     "metadata": {},
     "output_type": "execute_result"
    }
   ],
   "source": [
    "np.ones_like(a)"
   ]
  },
  {
   "cell_type": "code",
   "execution_count": 14,
   "metadata": {},
   "outputs": [
    {
     "data": {
      "text/plain": [
       "array([[[1, 1, 1, 1],\n",
       "        [1, 1, 1, 1],\n",
       "        [1, 1, 1, 1]],\n",
       "\n",
       "       [[1, 1, 1, 1],\n",
       "        [1, 1, 1, 1],\n",
       "        [1, 1, 1, 1]]])"
      ]
     },
     "execution_count": 14,
     "metadata": {},
     "output_type": "execute_result"
    }
   ],
   "source": [
    "np.ones_like(a.reshape(2,3,4))"
   ]
  },
  {
   "cell_type": "code",
   "execution_count": 15,
   "metadata": {},
   "outputs": [
    {
     "data": {
      "text/plain": [
       "array([[1., 0., 0., 0., 0.],\n",
       "       [0., 1., 0., 0., 0.],\n",
       "       [0., 0., 1., 0., 0.],\n",
       "       [0., 0., 0., 1., 0.],\n",
       "       [0., 0., 0., 0., 1.]])"
      ]
     },
     "execution_count": 15,
     "metadata": {},
     "output_type": "execute_result"
    }
   ],
   "source": [
    "np.eye(5)"
   ]
  },
  {
   "cell_type": "code",
   "execution_count": 16,
   "metadata": {},
   "outputs": [
    {
     "data": {
      "text/plain": [
       "array([[0., 0., 0., 0., 0.],\n",
       "       [0., 0., 0., 0., 0.],\n",
       "       [1., 0., 0., 0., 0.],\n",
       "       [0., 1., 0., 0., 0.],\n",
       "       [0., 0., 1., 0., 0.]])"
      ]
     },
     "execution_count": 16,
     "metadata": {},
     "output_type": "execute_result"
    }
   ],
   "source": [
    "np.eye(5, k = -2)"
   ]
  },
  {
   "cell_type": "code",
   "execution_count": 17,
   "metadata": {},
   "outputs": [
    {
     "data": {
      "text/plain": [
       "array([30, 30, 30, 30, 30])"
      ]
     },
     "execution_count": 17,
     "metadata": {},
     "output_type": "execute_result"
    }
   ],
   "source": [
    "np.full(5,30)"
   ]
  },
  {
   "cell_type": "code",
   "execution_count": 18,
   "metadata": {},
   "outputs": [
    {
     "ename": "TypeError",
     "evalue": "_full_like_dispatcher() missing 1 required positional argument: 'fill_value'",
     "output_type": "error",
     "traceback": [
      "\u001b[1;31m---------------------------------------------------------------------------\u001b[0m",
      "\u001b[1;31mTypeError\u001b[0m                                 Traceback (most recent call last)",
      "\u001b[1;32m~\\AppData\\Local\\Temp/ipykernel_20496/4135896.py\u001b[0m in \u001b[0;36m<cell line: 1>\u001b[1;34m()\u001b[0m\n\u001b[1;32m----> 1\u001b[1;33m \u001b[0mnp\u001b[0m\u001b[1;33m.\u001b[0m\u001b[0mfull_like\u001b[0m\u001b[1;33m(\u001b[0m\u001b[0ma\u001b[0m\u001b[1;33m)\u001b[0m\u001b[1;33m\u001b[0m\u001b[1;33m\u001b[0m\u001b[0m\n\u001b[0m",
      "\u001b[1;32m<__array_function__ internals>\u001b[0m in \u001b[0;36mfull_like\u001b[1;34m(*args, **kwargs)\u001b[0m\n",
      "\u001b[1;31mTypeError\u001b[0m: _full_like_dispatcher() missing 1 required positional argument: 'fill_value'"
     ]
    }
   ],
   "source": [
    "np.full_like()"
   ]
  },
  {
   "cell_type": "code",
   "execution_count": 19,
   "metadata": {},
   "outputs": [
    {
     "data": {
      "text/plain": [
       "array([30, 30, 30, 30, 30, 30, 30, 30, 30, 30, 30, 30, 30, 30, 30, 30, 30,\n",
       "       30, 30, 30, 30, 30, 30, 30])"
      ]
     },
     "execution_count": 19,
     "metadata": {},
     "output_type": "execute_result"
    }
   ],
   "source": [
    "np.full_like(a,30)"
   ]
  },
  {
   "cell_type": "markdown",
   "metadata": {},
   "source": [
    "- np.rand\n",
    "- np.randn\n",
    "- np.randint"
   ]
  },
  {
   "cell_type": "code",
   "execution_count": 21,
   "metadata": {},
   "outputs": [
    {
     "data": {
      "text/plain": [
       "array([[0.2528893 , 0.49345906, 0.30354019, 0.58155275, 0.05725675,\n",
       "        0.65209443, 0.51925498, 0.05931365, 0.71863884, 0.72718237]])"
      ]
     },
     "execution_count": 21,
     "metadata": {},
     "output_type": "execute_result"
    }
   ],
   "source": [
    "np.random.rand(1,10)"
   ]
  },
  {
   "cell_type": "code",
   "execution_count": 22,
   "metadata": {},
   "outputs": [
    {
     "data": {
      "text/plain": [
       "array([[ 0.45333783, -0.31322852, -0.52796645, -1.51918205],\n",
       "       [ 0.97966797,  1.18076655, -1.40944236,  0.90746635],\n",
       "       [ 1.77498672,  0.98440922,  0.8205319 , -0.84173112]])"
      ]
     },
     "execution_count": 22,
     "metadata": {},
     "output_type": "execute_result"
    }
   ],
   "source": [
    "np.random.randn(3,4)"
   ]
  },
  {
   "cell_type": "code",
   "execution_count": 24,
   "metadata": {},
   "outputs": [
    {
     "data": {
      "text/plain": [
       "array([[30, 13, 30],\n",
       "       [41, 22, 43],\n",
       "       [34, 43, 16]])"
      ]
     },
     "execution_count": 24,
     "metadata": {},
     "output_type": "execute_result"
    }
   ],
   "source": [
    "np.random.randint(1,50,(3,3))"
   ]
  },
  {
   "cell_type": "code",
   "execution_count": 26,
   "metadata": {},
   "outputs": [
    {
     "data": {
      "text/plain": [
       "(array([ 0.        ,  0.1010101 ,  0.2020202 ,  0.3030303 ,  0.4040404 ,\n",
       "         0.50505051,  0.60606061,  0.70707071,  0.80808081,  0.90909091,\n",
       "         1.01010101,  1.11111111,  1.21212121,  1.31313131,  1.41414141,\n",
       "         1.51515152,  1.61616162,  1.71717172,  1.81818182,  1.91919192,\n",
       "         2.02020202,  2.12121212,  2.22222222,  2.32323232,  2.42424242,\n",
       "         2.52525253,  2.62626263,  2.72727273,  2.82828283,  2.92929293,\n",
       "         3.03030303,  3.13131313,  3.23232323,  3.33333333,  3.43434343,\n",
       "         3.53535354,  3.63636364,  3.73737374,  3.83838384,  3.93939394,\n",
       "         4.04040404,  4.14141414,  4.24242424,  4.34343434,  4.44444444,\n",
       "         4.54545455,  4.64646465,  4.74747475,  4.84848485,  4.94949495,\n",
       "         5.05050505,  5.15151515,  5.25252525,  5.35353535,  5.45454545,\n",
       "         5.55555556,  5.65656566,  5.75757576,  5.85858586,  5.95959596,\n",
       "         6.06060606,  6.16161616,  6.26262626,  6.36363636,  6.46464646,\n",
       "         6.56565657,  6.66666667,  6.76767677,  6.86868687,  6.96969697,\n",
       "         7.07070707,  7.17171717,  7.27272727,  7.37373737,  7.47474747,\n",
       "         7.57575758,  7.67676768,  7.77777778,  7.87878788,  7.97979798,\n",
       "         8.08080808,  8.18181818,  8.28282828,  8.38383838,  8.48484848,\n",
       "         8.58585859,  8.68686869,  8.78787879,  8.88888889,  8.98989899,\n",
       "         9.09090909,  9.19191919,  9.29292929,  9.39393939,  9.49494949,\n",
       "         9.5959596 ,  9.6969697 ,  9.7979798 ,  9.8989899 , 10.        ]),\n",
       " 0.10101010101010101)"
      ]
     },
     "execution_count": 26,
     "metadata": {},
     "output_type": "execute_result"
    }
   ],
   "source": [
    "np.linspace(0,10,100, retstep=True)"
   ]
  },
  {
   "cell_type": "code",
   "execution_count": 28,
   "metadata": {},
   "outputs": [
    {
     "name": "stdout",
     "output_type": "stream",
     "text": [
      "[ 1.          1.09090909  1.18181818  1.27272727  1.36363636  1.45454545\n",
      "  1.54545455  1.63636364  1.72727273  1.81818182  1.90909091  2.\n",
      "  2.09090909  2.18181818  2.27272727  2.36363636  2.45454545  2.54545455\n",
      "  2.63636364  2.72727273  2.81818182  2.90909091  3.          3.09090909\n",
      "  3.18181818  3.27272727  3.36363636  3.45454545  3.54545455  3.63636364\n",
      "  3.72727273  3.81818182  3.90909091  4.          4.09090909  4.18181818\n",
      "  4.27272727  4.36363636  4.45454545  4.54545455  4.63636364  4.72727273\n",
      "  4.81818182  4.90909091  5.          5.09090909  5.18181818  5.27272727\n",
      "  5.36363636  5.45454545  5.54545455  5.63636364  5.72727273  5.81818182\n",
      "  5.90909091  6.          6.09090909  6.18181818  6.27272727  6.36363636\n",
      "  6.45454545  6.54545455  6.63636364  6.72727273  6.81818182  6.90909091\n",
      "  7.          7.09090909  7.18181818  7.27272727  7.36363636  7.45454545\n",
      "  7.54545455  7.63636364  7.72727273  7.81818182  7.90909091  8.\n",
      "  8.09090909  8.18181818  8.27272727  8.36363636  8.45454545  8.54545455\n",
      "  8.63636364  8.72727273  8.81818182  8.90909091  9.          9.09090909\n",
      "  9.18181818  9.27272727  9.36363636  9.45454545  9.54545455  9.63636364\n",
      "  9.72727273  9.81818182  9.90909091 10.        ]\n"
     ]
    }
   ],
   "source": [
    "x = np.linspace(1,10,100)\n",
    "y = np.cos(x)\n",
    "print(x)\n"
   ]
  },
  {
   "cell_type": "code",
   "execution_count": 29,
   "metadata": {},
   "outputs": [
    {
     "data": {
      "text/plain": [
       "array([ 0.54030231,  0.46167915,  0.37924309,  0.29367495,  0.20568142,\n",
       "        0.11598921,  0.02533907, -0.06552034, -0.15583863, -0.24486989,\n",
       "       -0.33187882, -0.41614684, -0.49697799, -0.57370472, -0.64569335,\n",
       "       -0.71234935, -0.77312222, -0.82751004, -0.87506365, -0.91539031,\n",
       "       -0.94815696, -0.97309301, -0.9899925 , -0.99871586, -0.99919106,\n",
       "       -0.99141417, -0.97544941, -0.95142864, -0.91955024, -0.88007748,\n",
       "       -0.83333636, -0.7797129 , -0.71964997, -0.65364362, -0.58223897,\n",
       "       -0.50602575, -0.42563337, -0.34172578, -0.25499596, -0.16616018,\n",
       "       -0.07595213,  0.0148832 ,  0.10559561,  0.19543593,  0.28366219,\n",
       "        0.36954574,  0.45237731,  0.53147279,  0.60617896,  0.67587883,\n",
       "        0.73999678,  0.79800326,  0.84941921,  0.89382   ,  0.93083894,\n",
       "        0.96017029,  0.98157181,  0.99486675,  0.99994532,  0.99676556,\n",
       "        0.98535374,  0.96580411,  0.93827813,  0.90300312,  0.86027041,\n",
       "        0.81043292,  0.75390225,  0.69114528,  0.62268029,  0.54907273,\n",
       "        0.4709305 ,  0.38889897,  0.3036556 ,  0.21590442,  0.12637012,\n",
       "        0.03579217, -0.05508138, -0.14550003, -0.23471703, -0.32199555,\n",
       "       -0.40661479, -0.48787588, -0.56510772, -0.63767247, -0.70497082,\n",
       "       -0.76644698, -0.82159322, -0.86995412, -0.91113026, -0.94478159,\n",
       "       -0.97063017, -0.98846255, -0.99813143, -0.99955698, -0.99272741,\n",
       "       -0.97769914, -0.95459626, -0.9236096 , -0.88499505, -0.83907153])"
      ]
     },
     "execution_count": 29,
     "metadata": {},
     "output_type": "execute_result"
    }
   ],
   "source": [
    "y"
   ]
  },
  {
   "cell_type": "code",
   "execution_count": 33,
   "metadata": {},
   "outputs": [
    {
     "data": {
      "text/plain": [
       "array([    10,     12,     14,     17,     21,     25,     30,     37,\n",
       "           44,     54,     65,     79,     95,    115,    138,    167,\n",
       "          202,    244,    294,    355,    429,    517,    625,    754,\n",
       "          910,   1098,   1325,   1599,   1930,   2329,   2811,   3393,\n",
       "         4094,   4941,   5963,   7196,   8685,  10481,  12648,  15264,\n",
       "        18420,  22229,  26826,  32374,  39069,  47148,  56898,  68664,\n",
       "        82864, 100000])"
      ]
     },
     "execution_count": 33,
     "metadata": {},
     "output_type": "execute_result"
    }
   ],
   "source": [
    "np.logspace(1,5, dtype=\"int\")"
   ]
  },
  {
   "cell_type": "code",
   "execution_count": 35,
   "metadata": {},
   "outputs": [
    {
     "data": {
      "text/plain": [
       "array([1, 2, 3, 4, 5, 6, 7, 8, 9])"
      ]
     },
     "execution_count": 35,
     "metadata": {},
     "output_type": "execute_result"
    }
   ],
   "source": [
    "a = np.arange(1,10)\n",
    "a"
   ]
  },
  {
   "cell_type": "code",
   "execution_count": 37,
   "metadata": {},
   "outputs": [
    {
     "name": "stdout",
     "output_type": "stream",
     "text": [
      "(9,)\n",
      "int32\n",
      "9\n",
      "1\n"
     ]
    }
   ],
   "source": [
    "print(a.shape)\n",
    "print(a.dtype)\n",
    "print(a.size)\n",
    "print(a.ndim)"
   ]
  },
  {
   "cell_type": "code",
   "execution_count": 38,
   "metadata": {},
   "outputs": [
    {
     "data": {
      "text/plain": [
       "[array([1, 2, 3]), array([4, 5, 6]), array([7, 8, 9])]"
      ]
     },
     "execution_count": 38,
     "metadata": {},
     "output_type": "execute_result"
    }
   ],
   "source": [
    "np.split(a,3)"
   ]
  },
  {
   "cell_type": "code",
   "execution_count": 39,
   "metadata": {},
   "outputs": [
    {
     "ename": "ValueError",
     "evalue": "array split does not result in an equal division",
     "output_type": "error",
     "traceback": [
      "\u001b[1;31m---------------------------------------------------------------------------\u001b[0m",
      "\u001b[1;31mValueError\u001b[0m                                Traceback (most recent call last)",
      "\u001b[1;32m~\\AppData\\Local\\Temp/ipykernel_20496/1567051694.py\u001b[0m in \u001b[0;36m<cell line: 1>\u001b[1;34m()\u001b[0m\n\u001b[1;32m----> 1\u001b[1;33m \u001b[0mnp\u001b[0m\u001b[1;33m.\u001b[0m\u001b[0msplit\u001b[0m\u001b[1;33m(\u001b[0m\u001b[0ma\u001b[0m\u001b[1;33m,\u001b[0m\u001b[1;36m4\u001b[0m\u001b[1;33m)\u001b[0m\u001b[1;33m\u001b[0m\u001b[1;33m\u001b[0m\u001b[0m\n\u001b[0m",
      "\u001b[1;32m<__array_function__ internals>\u001b[0m in \u001b[0;36msplit\u001b[1;34m(*args, **kwargs)\u001b[0m\n",
      "\u001b[1;32mc:\\Users\\bycvk\\anaconda3\\lib\\site-packages\\numpy\\lib\\shape_base.py\u001b[0m in \u001b[0;36msplit\u001b[1;34m(ary, indices_or_sections, axis)\u001b[0m\n\u001b[0;32m    870\u001b[0m         \u001b[0mN\u001b[0m \u001b[1;33m=\u001b[0m \u001b[0mary\u001b[0m\u001b[1;33m.\u001b[0m\u001b[0mshape\u001b[0m\u001b[1;33m[\u001b[0m\u001b[0maxis\u001b[0m\u001b[1;33m]\u001b[0m\u001b[1;33m\u001b[0m\u001b[1;33m\u001b[0m\u001b[0m\n\u001b[0;32m    871\u001b[0m         \u001b[1;32mif\u001b[0m \u001b[0mN\u001b[0m \u001b[1;33m%\u001b[0m \u001b[0msections\u001b[0m\u001b[1;33m:\u001b[0m\u001b[1;33m\u001b[0m\u001b[1;33m\u001b[0m\u001b[0m\n\u001b[1;32m--> 872\u001b[1;33m             raise ValueError(\n\u001b[0m\u001b[0;32m    873\u001b[0m                 'array split does not result in an equal division') from None\n\u001b[0;32m    874\u001b[0m     \u001b[1;32mreturn\u001b[0m \u001b[0marray_split\u001b[0m\u001b[1;33m(\u001b[0m\u001b[0mary\u001b[0m\u001b[1;33m,\u001b[0m \u001b[0mindices_or_sections\u001b[0m\u001b[1;33m,\u001b[0m \u001b[0maxis\u001b[0m\u001b[1;33m)\u001b[0m\u001b[1;33m\u001b[0m\u001b[1;33m\u001b[0m\u001b[0m\n",
      "\u001b[1;31mValueError\u001b[0m: array split does not result in an equal division"
     ]
    }
   ],
   "source": [
    "np.split(a,4)"
   ]
  },
  {
   "cell_type": "code",
   "execution_count": 40,
   "metadata": {},
   "outputs": [
    {
     "data": {
      "text/plain": [
       "[array([1, 2, 3]), array([4, 5]), array([6, 7]), array([8, 9])]"
      ]
     },
     "execution_count": 40,
     "metadata": {},
     "output_type": "execute_result"
    }
   ],
   "source": [
    "np.array_split(a,4)"
   ]
  },
  {
   "cell_type": "code",
   "execution_count": 42,
   "metadata": {},
   "outputs": [
    {
     "data": {
      "text/plain": [
       "array([[ 0,  1,  2],\n",
       "       [ 3,  4,  5],\n",
       "       [ 6,  7,  8],\n",
       "       [ 9, 10, 11]])"
      ]
     },
     "execution_count": 42,
     "metadata": {},
     "output_type": "execute_result"
    }
   ],
   "source": [
    "b = np.arange(12).reshape(4,3)\n",
    "b"
   ]
  },
  {
   "cell_type": "code",
   "execution_count": 43,
   "metadata": {},
   "outputs": [
    {
     "data": {
      "text/plain": [
       "[array([[0],\n",
       "        [3],\n",
       "        [6],\n",
       "        [9]]),\n",
       " array([[ 1,  2],\n",
       "        [ 4,  5],\n",
       "        [ 7,  8],\n",
       "        [10, 11]])]"
      ]
     },
     "execution_count": 43,
     "metadata": {},
     "output_type": "execute_result"
    }
   ],
   "source": [
    "np.hsplit(b,[1])"
   ]
  },
  {
   "cell_type": "code",
   "execution_count": 45,
   "metadata": {},
   "outputs": [
    {
     "data": {
      "text/plain": [
       "[array([[0],\n",
       "        [3],\n",
       "        [6],\n",
       "        [9]]),\n",
       " array([[ 1,  2],\n",
       "        [ 4,  5],\n",
       "        [ 7,  8],\n",
       "        [10, 11]])]"
      ]
     },
     "execution_count": 45,
     "metadata": {},
     "output_type": "execute_result"
    }
   ],
   "source": [
    "np.split(b,[1], axis = 1)"
   ]
  },
  {
   "cell_type": "code",
   "execution_count": 46,
   "metadata": {},
   "outputs": [
    {
     "data": {
      "text/plain": [
       "array([[ 0,  1,  2],\n",
       "       [ 3,  4,  5],\n",
       "       [ 6,  7,  8],\n",
       "       [ 9, 10, 11]])"
      ]
     },
     "execution_count": 46,
     "metadata": {},
     "output_type": "execute_result"
    }
   ],
   "source": [
    "b"
   ]
  },
  {
   "cell_type": "code",
   "execution_count": 47,
   "metadata": {},
   "outputs": [
    {
     "data": {
      "text/plain": [
       "[array([[0, 1, 2],\n",
       "        [3, 4, 5]]),\n",
       " array([[ 6,  7,  8],\n",
       "        [ 9, 10, 11]])]"
      ]
     },
     "execution_count": 47,
     "metadata": {},
     "output_type": "execute_result"
    }
   ],
   "source": [
    "np.vsplit(b,[2])"
   ]
  },
  {
   "cell_type": "code",
   "execution_count": 49,
   "metadata": {},
   "outputs": [
    {
     "data": {
      "text/plain": [
       "[array([[0, 1, 2],\n",
       "        [3, 4, 5]]),\n",
       " array([[ 6,  7,  8],\n",
       "        [ 9, 10, 11]])]"
      ]
     },
     "execution_count": 49,
     "metadata": {},
     "output_type": "execute_result"
    }
   ],
   "source": [
    "np.split(b,[2], axis = 0)"
   ]
  },
  {
   "cell_type": "code",
   "execution_count": 53,
   "metadata": {},
   "outputs": [
    {
     "data": {
      "text/plain": [
       "array([[0, 1, 2],\n",
       "       [3, 4, 5]])"
      ]
     },
     "execution_count": 53,
     "metadata": {},
     "output_type": "execute_result"
    }
   ],
   "source": [
    "c,d = np.split(b,[2], axis = 0)\n",
    "c"
   ]
  },
  {
   "cell_type": "code",
   "execution_count": 54,
   "metadata": {},
   "outputs": [
    {
     "data": {
      "text/plain": [
       "array([[ 6,  7,  8],\n",
       "       [ 9, 10, 11]])"
      ]
     },
     "execution_count": 54,
     "metadata": {},
     "output_type": "execute_result"
    }
   ],
   "source": [
    "d"
   ]
  },
  {
   "cell_type": "code",
   "execution_count": 50,
   "metadata": {},
   "outputs": [
    {
     "data": {
      "text/plain": [
       "<function numpy.split(ary, indices_or_sections, axis=0)>"
      ]
     },
     "execution_count": 50,
     "metadata": {},
     "output_type": "execute_result"
    }
   ],
   "source": [
    "np.split"
   ]
  },
  {
   "cell_type": "code",
   "execution_count": 55,
   "metadata": {},
   "outputs": [
    {
     "data": {
      "text/plain": [
       "2593300288272"
      ]
     },
     "execution_count": 55,
     "metadata": {},
     "output_type": "execute_result"
    }
   ],
   "source": [
    "id(np.split)"
   ]
  },
  {
   "cell_type": "code",
   "execution_count": 52,
   "metadata": {},
   "outputs": [
    {
     "data": {
      "text/plain": [
       "<function numpy.linspace(start, stop, num=50, endpoint=True, retstep=False, dtype=None, axis=0)>"
      ]
     },
     "execution_count": 52,
     "metadata": {},
     "output_type": "execute_result"
    }
   ],
   "source": [
    "np.linspace"
   ]
  },
  {
   "cell_type": "code",
   "execution_count": 56,
   "metadata": {},
   "outputs": [
    {
     "data": {
      "text/plain": [
       "array([1, 2, 5])"
      ]
     },
     "execution_count": 56,
     "metadata": {},
     "output_type": "execute_result"
    }
   ],
   "source": [
    "a = np.array([1,2,3])\n",
    "b = a \n",
    "a[2] = 5\n",
    "a"
   ]
  },
  {
   "cell_type": "code",
   "execution_count": 57,
   "metadata": {},
   "outputs": [
    {
     "data": {
      "text/plain": [
       "array([1, 2, 5])"
      ]
     },
     "execution_count": 57,
     "metadata": {},
     "output_type": "execute_result"
    }
   ],
   "source": [
    "b"
   ]
  },
  {
   "cell_type": "code",
   "execution_count": 58,
   "metadata": {},
   "outputs": [
    {
     "name": "stdout",
     "output_type": "stream",
     "text": [
      "2593326913936 2593326913936\n"
     ]
    }
   ],
   "source": [
    "print(id(a),id(b))"
   ]
  },
  {
   "cell_type": "code",
   "execution_count": 60,
   "metadata": {},
   "outputs": [
    {
     "data": {
      "text/plain": [
       "array([9, 2, 5])"
      ]
     },
     "execution_count": 60,
     "metadata": {},
     "output_type": "execute_result"
    }
   ],
   "source": [
    "b = a.copy()\n",
    "a[0] = 9\n",
    "a"
   ]
  },
  {
   "cell_type": "code",
   "execution_count": 61,
   "metadata": {},
   "outputs": [
    {
     "data": {
      "text/plain": [
       "array([1, 2, 5])"
      ]
     },
     "execution_count": 61,
     "metadata": {},
     "output_type": "execute_result"
    }
   ],
   "source": [
    "b"
   ]
  },
  {
   "cell_type": "code",
   "execution_count": 62,
   "metadata": {},
   "outputs": [
    {
     "name": "stdout",
     "output_type": "stream",
     "text": [
      "2593326913936 2593326891728\n"
     ]
    }
   ],
   "source": [
    "print(id(a),id(b))"
   ]
  },
  {
   "cell_type": "code",
   "execution_count": 63,
   "metadata": {},
   "outputs": [
    {
     "data": {
      "text/plain": [
       "5"
      ]
     },
     "execution_count": 63,
     "metadata": {},
     "output_type": "execute_result"
    }
   ],
   "source": [
    "aa = 5 \n",
    "bb = aa\n",
    "\n",
    "aa = 10\n",
    "bb"
   ]
  },
  {
   "cell_type": "code",
   "execution_count": 64,
   "metadata": {},
   "outputs": [
    {
     "name": "stdout",
     "output_type": "stream",
     "text": [
      "140722465546272 140722465546112\n"
     ]
    }
   ],
   "source": [
    "print(id(aa), id(bb))"
   ]
  },
  {
   "cell_type": "code",
   "execution_count": 65,
   "metadata": {},
   "outputs": [
    {
     "data": {
      "text/plain": [
       "(4, 5)"
      ]
     },
     "execution_count": 65,
     "metadata": {},
     "output_type": "execute_result"
    }
   ],
   "source": [
    "aa = (4,5)\n",
    "bb = aa\n",
    "\n",
    "aa = (1,2)\n",
    "bb"
   ]
  },
  {
   "cell_type": "code",
   "execution_count": 66,
   "metadata": {},
   "outputs": [
    {
     "name": "stdout",
     "output_type": "stream",
     "text": [
      "2593326448320 2593326429248\n"
     ]
    }
   ],
   "source": [
    "print(id(aa), id(bb))"
   ]
  },
  {
   "cell_type": "code",
   "execution_count": 70,
   "metadata": {},
   "outputs": [
    {
     "name": "stdout",
     "output_type": "stream",
     "text": [
      "2593373244480 2593373244480\n",
      "2593318261760 2593373244480\n"
     ]
    }
   ],
   "source": [
    "aa = [2,3,4]\n",
    "bb = aa\n",
    "print(id(aa), id(bb))\n",
    "\n",
    "\n",
    "aa = (1,2)\n",
    "bb\n",
    "print(id(aa), id(bb))"
   ]
  },
  {
   "cell_type": "code",
   "execution_count": 72,
   "metadata": {},
   "outputs": [
    {
     "name": "stdout",
     "output_type": "stream",
     "text": [
      "2593373378304 2593373378304\n",
      "2593373378304 2593373378304\n"
     ]
    }
   ],
   "source": [
    "dd = [2,3,4]\n",
    "ee = dd\n",
    "print(id(dd), id(ee))\n",
    "\n",
    "dd[1] = 55\n",
    "ee\n",
    "print(id(dd), id(ee))"
   ]
  },
  {
   "cell_type": "code",
   "execution_count": 74,
   "metadata": {},
   "outputs": [
    {
     "data": {
      "text/plain": [
       "array(['a', 'b', 'c'], dtype='<U1')"
      ]
     },
     "execution_count": 74,
     "metadata": {},
     "output_type": "execute_result"
    }
   ],
   "source": [
    "aa = np.array([\"a\",\"b\",\"c\"])\n",
    "aa"
   ]
  },
  {
   "cell_type": "code",
   "execution_count": 75,
   "metadata": {},
   "outputs": [
    {
     "data": {
      "text/plain": [
       "4"
      ]
     },
     "execution_count": 75,
     "metadata": {},
     "output_type": "execute_result"
    }
   ],
   "source": [
    "aa.itemsize"
   ]
  },
  {
   "cell_type": "code",
   "execution_count": 76,
   "metadata": {},
   "outputs": [
    {
     "data": {
      "text/plain": [
       "3"
      ]
     },
     "execution_count": 76,
     "metadata": {},
     "output_type": "execute_result"
    }
   ],
   "source": [
    "aa.size"
   ]
  },
  {
   "cell_type": "code",
   "execution_count": 77,
   "metadata": {},
   "outputs": [
    {
     "data": {
      "text/plain": [
       "12"
      ]
     },
     "execution_count": 77,
     "metadata": {},
     "output_type": "execute_result"
    }
   ],
   "source": [
    "aa.size * aa.itemsize"
   ]
  },
  {
   "cell_type": "code",
   "execution_count": 17,
   "metadata": {},
   "outputs": [],
   "source": [
    "employees_data = np.array([['kelly', 'Randall', 'Jennifer', 'steven', 'Anna', 'Roger', 'Katrina', 'Andrew', 'feborah', 'Kristy', 'jennifer', 'Jeffrey', 'Lauren', 'Nicholas', 'jeggy', 'Brian', 'Connie', 'Corey', 'derek', 'brittany', 'John', 'amanda', 'Kylie', 'Eddie', 'peter'],\n",
    "['Manning', 'martin', 'Roman', 'Jones', 'Brooks', 'fitzgerald', 'Ho', 'Rodriguez', 'fstes', 'Norris', 'Castro', 'Harper', 'Mendoza', 'mahoney', 'Kelley', 'Rodgers', 'Flores', 'Sharp', 'jimmons', 'Graham', 'Woods', 'Rose', 'Johnson', 'white', 'Acevedo'],\n",
    "[1, 2, 3, 4, 5, 6, 7, 8, 9, 10, 11, 12, 13, 14, 15, 16, 17, 18, 19, 20, 21, 22, 23, 24, 25],   \n",
    "[5339.26, 3553.56, 3914.35, 5403.55, 3664.38, 4955.78, 2678.91, 5269.36, 2793.79, 3246.82, 3436.11, 3681.08, 4509.77, 5325.75, 7875.65, 4394.52, 3864.65, 5371.3, 2741.29, 3779.03, 2603.61, 7256.27, 4279.48, 6890.37, 4630.28], \n",
    "['M', 'F', 'F', 'F', 'M', 'F', 'M', 'M', 'F', 'F', 'M', 'M', 'F', 'F', 'M', 'F', 'M', 'F', 'F', 'M', 'M', 'F', 'M', 'F', 'F'],\n",
    "[2, 3, 3, 4, 1, 0, 0, 0, 4, 0, 2, 4, 5, 3, 4, 4, 4, 5, 2, 1, 4, 0, 3, 5, 3] ,\n",
    "[0, 2, 4, 0, 15, 5, 12, 4, 19, 0, 18, 12, 12, 16, 20, 15, 8, 7, 0, 19, 7, 20, 12, 12, 10]])\n",
    "\n",
    "\n",
    "customers_data = np.array([['Jeremy', 'Shelby', 'Barbara', 'Stephen', 'Paige', 'Deborah', 'Erin', 'Kelly', 'Tyler', 'Susan', 'Tyler', 'Alexandra', 'Jerry', 'Roy', 'Nancy', 'Marc', 'Scott', 'Clayton', 'Angela', 'Timothy', 'Aaron', 'Ariana', 'Patrick', 'Amy', 'Steven'],\n",
    "['Gray', 'Smith', 'Lambert', 'Martinez', 'Jefferson', 'Kelly', 'Stephenson', 'Dixon', 'Hunt', 'Robbins', 'Jennings', 'Parsons', 'Rogers', 'Patrick', 'Graham', 'Terrell', 'Patterson', 'Freeman', 'Willis', 'Hall', 'Green', 'Fields', 'Delacruz', 'Ward', 'Coleman'],\n",
    "[1001, 1002, 1003, 1004, 1005, 1006, 1007, 1008, 1009, 1010, 1011, 1012, 1013, 1014, 1015, 1016, 1017, 1018, 1019, 1020, 1021, 1022, 1023, 1024, 1025],\n",
    "[6, 22, 22, 22, 21, 25, 4, 11, 11, 6, 11, 6, 19, 1, 7, 3, 13, 25, 16, 9, 17, 19, 6, 6, 7],\n",
    "['2023-08-24', '2023-12-29', '2023-05-04', '2024-02-07', '2024-03-12', '2024-04-08', '2023-10-17', '2024-03-01', '2023-10-11', '2024-03-26', '2023-11-02', '2023-10-06', '2023-05-28', '2023-10-14', '2024-04-11', '2024-03-12', '2023-09-24', '2024-02-20', '2024-03-31', '2024-01-27', '2023-09-20', '2023-04-29', '2024-03-07', '2023-07-16', '2024-04-06'],\n",
    "[256.51, 339.17, 110.21, 641.82, 586.05, 655.87, 772.61, 248.58, 781.33, 509.9, 931.28, 370.67, 773.07, 178.61, 896.05, 696.03, 142.34, 559.21, 124.89, 119.31, 407.55, 712.07, 298.42, 294.59, 685.43]])\n",
    "\n"
   ]
  },
  {
   "attachments": {
    "image-2.png": {
     "image/png": "[encoded data removed]"
    },
    "image.png": {
     "image/png": "[encoded data removed]"
    }
   },
   "cell_type": "markdown",
   "metadata": {},
   "source": [
    "![image.png](attachment:image.png)\n",
    "![image-2.png](attachment:image-2.png)"
   ]
  },
  {
   "cell_type": "code",
   "execution_count": 18,
   "metadata": {},
   "outputs": [
    {
     "data": {
      "text/plain": [
       "array([['kelly', 'Randall', 'Jennifer', 'steven', 'Anna', 'Roger',\n",
       "        'Katrina', 'Andrew', 'feborah', 'Kristy', 'jennifer', 'Jeffrey',\n",
       "        'Lauren', 'Nicholas', 'jeggy', 'Brian', 'Connie', 'Corey',\n",
       "        'derek', 'brittany', 'John', 'amanda', 'Kylie', 'Eddie', 'peter'],\n",
       "       ['Manning', 'martin', 'Roman', 'Jones', 'Brooks', 'fitzgerald',\n",
       "        'Ho', 'Rodriguez', 'fstes', 'Norris', 'Castro', 'Harper',\n",
       "        'Mendoza', 'mahoney', 'Kelley', 'Rodgers', 'Flores', 'Sharp',\n",
       "        'jimmons', 'Graham', 'Woods', 'Rose', 'Johnson', 'white',\n",
       "        'Acevedo'],\n",
       "       ['1', '2', '3', '4', '5', '6', '7', '8', '9', '10', '11', '12',\n",
       "        '13', '14', '15', '16', '17', '18', '19', '20', '21', '22', '23',\n",
       "        '24', '25'],\n",
       "       ['5339.26', '3553.56', '3914.35', '5403.55', '3664.38', '4955.78',\n",
       "        '2678.91', '5269.36', '2793.79', '3246.82', '3436.11', '3681.08',\n",
       "        '4509.77', '5325.75', '7875.65', '4394.52', '3864.65', '5371.3',\n",
       "        '2741.29', '3779.03', '2603.61', '7256.27', '4279.48', '6890.37',\n",
       "        '4630.28'],\n",
       "       ['M', 'F', 'F', 'F', 'M', 'F', 'M', 'M', 'F', 'F', 'M', 'M', 'F',\n",
       "        'F', 'M', 'F', 'M', 'F', 'F', 'M', 'M', 'F', 'M', 'F', 'F'],\n",
       "       ['2', '3', '3', '4', '1', '0', '0', '0', '4', '0', '2', '4', '5',\n",
       "        '3', '4', '4', '4', '5', '2', '1', '4', '0', '3', '5', '3'],\n",
       "       ['0', '2', '4', '0', '15', '5', '12', '4', '19', '0', '18', '12',\n",
       "        '12', '16', '20', '15', '8', '7', '0', '19', '7', '20', '12',\n",
       "        '12', '10']], dtype='<U32')"
      ]
     },
     "execution_count": 18,
     "metadata": {},
     "output_type": "execute_result"
    }
   ],
   "source": [
    "employees_data"
   ]
  },
  {
   "cell_type": "code",
   "execution_count": 108,
   "metadata": {},
   "outputs": [
    {
     "data": {
      "text/plain": [
       "array([['kelly'],\n",
       "       ['1'],\n",
       "       ['M'],\n",
       "       ['0']], dtype='<U32')"
      ]
     },
     "execution_count": 108,
     "metadata": {},
     "output_type": "execute_result"
    }
   ],
   "source": [
    "employees_data[0::2,:1]"
   ]
  },
  {
   "cell_type": "code",
   "execution_count": 65,
   "metadata": {},
   "outputs": [
    {
     "data": {
      "text/plain": [
       "array(['Manning', 'martin', 'Roman', 'Jones', 'Brooks', 'fitzgerald',\n",
       "       'Ho', 'Rodriguez', 'fstes', 'Norris', 'Castro', 'Harper',\n",
       "       'Mendoza', 'mahoney', 'Kelley', 'Rodgers', 'Flores', 'Sharp',\n",
       "       'jimmons', 'Graham', 'Woods', 'Rose', 'Johnson', 'white',\n",
       "       'Acevedo'], dtype='<U32')"
      ]
     },
     "execution_count": 65,
     "metadata": {},
     "output_type": "execute_result"
    }
   ],
   "source": [
    "employees_data[1,:]"
   ]
  },
  {
   "cell_type": "code",
   "execution_count": 75,
   "metadata": {},
   "outputs": [
    {
     "data": {
      "text/plain": [
       "array(['kelly', 'Randall', 'Jennifer', 'steven', 'Anna', 'Roger',\n",
       "       'Katrina', 'Andrew', 'feborah', 'Kristy', 'jennifer', 'Jeffrey',\n",
       "       'Lauren', 'Nicholas', 'jeggy', 'Brian', 'Connie', 'Corey', 'derek',\n",
       "       'brittany', 'John', 'amanda', 'Kylie', 'Eddie', 'peter'],\n",
       "      dtype='<U32')"
      ]
     },
     "execution_count": 75,
     "metadata": {},
     "output_type": "execute_result"
    }
   ],
   "source": [
    "employees_data[0]"
   ]
  },
  {
   "cell_type": "code",
   "execution_count": 68,
   "metadata": {},
   "outputs": [
    {
     "data": {
      "text/plain": [
       "array(['Randall', '3914.35'], dtype='<U32')"
      ]
     },
     "execution_count": 68,
     "metadata": {},
     "output_type": "execute_result"
    }
   ],
   "source": [
    "employees_data[[0,3],[1,2]]"
   ]
  },
  {
   "cell_type": "code",
   "execution_count": 21,
   "metadata": {},
   "outputs": [
    {
     "data": {
      "text/plain": [
       "array([['Jeremy', 'Shelby', 'Barbara', 'Stephen', 'Paige', 'Deborah',\n",
       "        'Erin', 'Kelly', 'Tyler', 'Susan', 'Tyler', 'Alexandra', 'Jerry',\n",
       "        'Roy', 'Nancy', 'Marc', 'Scott', 'Clayton', 'Angela', 'Timothy',\n",
       "        'Aaron', 'Ariana', 'Patrick', 'Amy', 'Steven'],\n",
       "       ['Gray', 'Smith', 'Lambert', 'Martinez', 'Jefferson', 'Kelly',\n",
       "        'Stephenson', 'Dixon', 'Hunt', 'Robbins', 'Jennings', 'Parsons',\n",
       "        'Rogers', 'Patrick', 'Graham', 'Terrell', 'Patterson', 'Freeman',\n",
       "        'Willis', 'Hall', 'Green', 'Fields', 'Delacruz', 'Ward',\n",
       "        'Coleman'],\n",
       "       ['1001', '1002', '1003', '1004', '1005', '1006', '1007', '1008',\n",
       "        '1009', '1010', '1011', '1012', '1013', '1014', '1015', '1016',\n",
       "        '1017', '1018', '1019', '1020', '1021', '1022', '1023', '1024',\n",
       "        '1025'],\n",
       "       ['6', '22', '22', '22', '21', '25', '4', '11', '11', '6', '11',\n",
       "        '6', '19', '1', '7', '3', '13', '25', '16', '9', '17', '19', '6',\n",
       "        '6', '7'],\n",
       "       ['2023-08-24', '2023-12-29', '2023-05-04', '2024-02-07',\n",
       "        '2024-03-12', '2024-04-08', '2023-10-17', '2024-03-01',\n",
       "        '2023-10-11', '2024-03-26', '2023-11-02', '2023-10-06',\n",
       "        '2023-05-28', '2023-10-14', '2024-04-11', '2024-03-12',\n",
       "        '2023-09-24', '2024-02-20', '2024-03-31', '2024-01-27',\n",
       "        '2023-09-20', '2023-04-29', '2024-03-07', '2023-07-16',\n",
       "        '2024-04-06'],\n",
       "       ['256.51', '339.17', '110.21', '641.82', '586.05', '655.87',\n",
       "        '772.61', '248.58', '781.33', '509.9', '931.28', '370.67',\n",
       "        '773.07', '178.61', '896.05', '696.03', '142.34', '559.21',\n",
       "        '124.89', '119.31', '407.55', '712.07', '298.42', '294.59',\n",
       "        '685.43']], dtype='<U32')"
      ]
     },
     "execution_count": 21,
     "metadata": {},
     "output_type": "execute_result"
    }
   ],
   "source": [
    "customers_data"
   ]
  },
  {
   "cell_type": "code",
   "execution_count": 22,
   "metadata": {},
   "outputs": [
    {
     "data": {
      "text/plain": [
       "array(['Barbara', '1005'], dtype='<U32')"
      ]
     },
     "execution_count": 22,
     "metadata": {},
     "output_type": "execute_result"
    }
   ],
   "source": [
    "customers_data[[0,2],[2,4]]"
   ]
  },
  {
   "cell_type": "code",
   "execution_count": 23,
   "metadata": {},
   "outputs": [
    {
     "data": {
      "text/plain": [
       "array(['Barbara', '1005'], dtype='<U32')"
      ]
     },
     "execution_count": 23,
     "metadata": {},
     "output_type": "execute_result"
    }
   ],
   "source": [
    "customers_data[(0,2), (2,4)]"
   ]
  },
  {
   "cell_type": "code",
   "execution_count": 77,
   "metadata": {},
   "outputs": [
    {
     "data": {
      "text/plain": [
       "['00001',\n",
       " '00002',\n",
       " '00003',\n",
       " '00004',\n",
       " '00005',\n",
       " '00006',\n",
       " '00007',\n",
       " '00008',\n",
       " '00009',\n",
       " '00010',\n",
       " '00011',\n",
       " '00012',\n",
       " '00013',\n",
       " '00014',\n",
       " '00015',\n",
       " '00016',\n",
       " '00017',\n",
       " '00018',\n",
       " '00019',\n",
       " '00020',\n",
       " '00021',\n",
       " '00022',\n",
       " '00023',\n",
       " '00024',\n",
       " '00025']"
      ]
     },
     "execution_count": 77,
     "metadata": {},
     "output_type": "execute_result"
    }
   ],
   "source": [
    "# Normally, the emp id must consist of 5 digits. but as you can see there are only 1 or 2 digits here.\n",
    "# How do we convert these digits to 5 digits? Ex: like 00035 \n",
    "[(5 - len(i)) * \"0\" + i if len(i) < 5 else i for i in employees_data[2]]"
   ]
  },
  {
   "cell_type": "code",
   "execution_count": 89,
   "metadata": {},
   "outputs": [
    {
     "data": {
      "text/plain": [
       "array([['kelly', 'Randall', 'Jennifer', 'steven', 'Anna', 'Roger',\n",
       "        'Katrina', 'Andrew', 'feborah', 'Kristy', 'jennifer', 'Jeffrey',\n",
       "        'Lauren', 'Nicholas', 'jeggy', 'Brian', 'Connie', 'Corey',\n",
       "        'derek', 'brittany', 'John', 'amanda', 'Kylie', 'Eddie', 'peter'],\n",
       "       ['Manning', 'martin', 'Roman', 'Jones', 'Brooks', 'fitzgerald',\n",
       "        'Ho', 'Rodriguez', 'fstes', 'Norris', 'Castro', 'Harper',\n",
       "        'Mendoza', 'mahoney', 'Kelley', 'Rodgers', 'Flores', 'Sharp',\n",
       "        'jimmons', 'Graham', 'Woods', 'Rose', 'Johnson', 'white',\n",
       "        'Acevedo'],\n",
       "       ['1', '2', '3', '4', '5', '6', '7', '8', '9', '10', '11', '12',\n",
       "        '13', '14', '15', '16', '17', '18', '19', '20', '21', '22', '23',\n",
       "        '24', '25'],\n",
       "       ['5339.26', '3553.56', '3914.35', '5403.55', '3664.38', '4955.78',\n",
       "        '2678.91', '5269.36', '2793.79', '3246.82', '3436.11', '3681.08',\n",
       "        '4509.77', '5325.75', '7875.65', '4394.52', '3864.65', '5371.3',\n",
       "        '2741.29', '3779.03', '2603.61', '7256.27', '4279.48', '6890.37',\n",
       "        '4630.28'],\n",
       "       ['M', 'F', 'F', 'F', 'M', 'F', 'M', 'M', 'F', 'F', 'M', 'M', 'F',\n",
       "        'F', 'M', 'F', 'M', 'F', 'F', 'M', 'M', 'F', 'M', 'F', 'F'],\n",
       "       ['2', '3', '3', '4', '1', '0', '0', '0', '4', '0', '2', '4', '5',\n",
       "        '3', '4', '4', '4', '5', '2', '1', '4', '0', '3', '5', '3'],\n",
       "       ['0', '2', '4', '0', '15', '5', '12', '4', '19', '0', '18', '12',\n",
       "        '12', '16', '20', '15', '8', '7', '0', '19', '7', '20', '12',\n",
       "        '12', '10']], dtype='<U32')"
      ]
     },
     "execution_count": 89,
     "metadata": {},
     "output_type": "execute_result"
    }
   ],
   "source": [
    "employees_data"
   ]
  },
  {
   "cell_type": "code",
   "execution_count": 88,
   "metadata": {},
   "outputs": [
    {
     "data": {
      "text/plain": [
       "'Roman'"
      ]
     },
     "execution_count": 88,
     "metadata": {},
     "output_type": "execute_result"
    }
   ],
   "source": [
    "employees_data[1][2]"
   ]
  },
  {
   "cell_type": "code",
   "execution_count": 83,
   "metadata": {},
   "outputs": [
    {
     "data": {
      "text/plain": [
       "array([['Jeremy', 'Shelby', 'Barbara', 'Stephen', 'Paige', 'Deborah',\n",
       "        'Erin', 'Kelly', 'Tyler', 'Susan', 'Tyler', 'Alexandra', 'Jerry',\n",
       "        'Roy', 'Nancy', 'Marc', 'Scott', 'Clayton', 'Angela', 'Timothy',\n",
       "        'Aaron', 'Ariana', 'Patrick', 'Amy', 'Steven'],\n",
       "       ['Gray', 'Smith', 'Lambert', 'Martinez', 'Jefferson', 'Kelly',\n",
       "        'Stephenson', 'Dixon', 'Hunt', 'Robbins', 'Jennings', 'Parsons',\n",
       "        'Rogers', 'Patrick', 'Graham', 'Terrell', 'Patterson', 'Freeman',\n",
       "        'Willis', 'Hall', 'Green', 'Fields', 'Delacruz', 'Ward',\n",
       "        'Coleman'],\n",
       "       ['1001', '1002', '1003', '1004', '1005', '1006', '1007', '1008',\n",
       "        '1009', '1010', '1011', '1012', '1013', '1014', '1015', '1016',\n",
       "        '1017', '1018', '1019', '1020', '1021', '1022', '1023', '1024',\n",
       "        '1025'],\n",
       "       ['6', '22', '22', '22', '21', '25', '4', '11', '11', '6', '11',\n",
       "        '6', '19', '1', '7', '3', '13', '25', '16', '9', '17', '19', '6',\n",
       "        '6', '7'],\n",
       "       ['2023-08-24', '2023-12-29', '2023-05-04', '2024-02-07',\n",
       "        '2024-03-12', '2024-04-08', '2023-10-17', '2024-03-01',\n",
       "        '2023-10-11', '2024-03-26', '2023-11-02', '2023-10-06',\n",
       "        '2023-05-28', '2023-10-14', '2024-04-11', '2024-03-12',\n",
       "        '2023-09-24', '2024-02-20', '2024-03-31', '2024-01-27',\n",
       "        '2023-09-20', '2023-04-29', '2024-03-07', '2023-07-16',\n",
       "        '2024-04-06'],\n",
       "       ['256.51', '339.17', '110.21', '641.82', '586.05', '655.87',\n",
       "        '772.61', '248.58', '781.33', '509.9', '931.28', '370.67',\n",
       "        '773.07', '178.61', '896.05', '696.03', '142.34', '559.21',\n",
       "        '124.89', '119.31', '407.55', '712.07', '298.42', '294.59',\n",
       "        '685.43']], dtype='<U32')"
      ]
     },
     "execution_count": 83,
     "metadata": {},
     "output_type": "execute_result"
    }
   ],
   "source": [
    "customers_data"
   ]
  },
  {
   "cell_type": "code",
   "execution_count": 25,
   "metadata": {},
   "outputs": [
    {
     "data": {
      "text/plain": [
       "[array([ True,  True,  True, False, False, False,  True, False,  True,\n",
       "        False,  True,  True,  True,  True, False, False,  True, False,\n",
       "        False, False,  True,  True, False,  True, False])]"
      ]
     },
     "execution_count": 25,
     "metadata": {},
     "output_type": "execute_result"
    }
   ],
   "source": [
    "# how can i get last year sales?  before 2024 \n",
    "[customers_data[4] < \"2024-01-01\"]"
   ]
  },
  {
   "cell_type": "code",
   "execution_count": 26,
   "metadata": {},
   "outputs": [
    {
     "data": {
      "text/plain": [
       "array(['256.51', '339.17', '110.21', '772.61', '781.33', '931.28',\n",
       "       '370.67', '773.07', '178.61', '142.34', '407.55', '712.07',\n",
       "       '294.59'], dtype='<U32')"
      ]
     },
     "execution_count": 26,
     "metadata": {},
     "output_type": "execute_result"
    }
   ],
   "source": [
    "customers_data[5][customers_data[4] < \"2024-01-01\"]"
   ]
  },
  {
   "cell_type": "code",
   "execution_count": 87,
   "metadata": {},
   "outputs": [
    {
     "data": {
      "text/plain": [
       "'110.21'"
      ]
     },
     "execution_count": 87,
     "metadata": {},
     "output_type": "execute_result"
    }
   ],
   "source": [
    "customers_data[5][2]"
   ]
  },
  {
   "cell_type": "code",
   "execution_count": 27,
   "metadata": {},
   "outputs": [
    {
     "data": {
      "text/plain": [
       "6070.01"
      ]
     },
     "execution_count": 27,
     "metadata": {},
     "output_type": "execute_result"
    }
   ],
   "source": [
    "# What is the total sales amount last year?\n",
    "customers_data[5][customers_data[4] < \"2024-01-01\"].astype(\"float64\").sum()"
   ]
  },
  {
   "cell_type": "code",
   "execution_count": 28,
   "metadata": {},
   "outputs": [
    {
     "data": {
      "text/plain": [
       "896.05"
      ]
     },
     "execution_count": 28,
     "metadata": {},
     "output_type": "execute_result"
    }
   ],
   "source": [
    "# What is the maximum sales amount made this year?\n",
    "customers_data[5][customers_data[4] > \"2024-01-01\"].astype(\"float\").max()"
   ]
  },
  {
   "cell_type": "code",
   "execution_count": 31,
   "metadata": {},
   "outputs": [
    {
     "data": {
      "text/plain": [
       "array(['641.82', '586.05', '655.87', '248.58', '509.9', '896.05',\n",
       "       '696.03', '559.21', '124.89', '119.31', '298.42', '685.43'],\n",
       "      dtype='<U32')"
      ]
     },
     "execution_count": 31,
     "metadata": {},
     "output_type": "execute_result"
    }
   ],
   "source": [
    "customers_data[5][customers_data[4] > \"2024-01-01\"]"
   ]
  },
  {
   "cell_type": "code",
   "execution_count": 112,
   "metadata": {},
   "outputs": [
    {
     "data": {
      "text/plain": [
       "501.7966666666667"
      ]
     },
     "execution_count": 112,
     "metadata": {},
     "output_type": "execute_result"
    }
   ],
   "source": [
    "# What is the avg sales amount in 2024?\n",
    "customers_data[5][customers_data[4] > \"2024-01-01\"].astype(\"float\").mean()"
   ]
  },
  {
   "cell_type": "code",
   "execution_count": 116,
   "metadata": {},
   "outputs": [
    {
     "data": {
      "text/plain": [
       "10"
      ]
     },
     "execution_count": 116,
     "metadata": {},
     "output_type": "execute_result"
    }
   ],
   "source": [
    "# Which employee made the biggest sale? firts name, last name\n",
    "customers_data[5].astype(\"float64\").argmax()"
   ]
  },
  {
   "cell_type": "code",
   "execution_count": 120,
   "metadata": {},
   "outputs": [
    {
     "data": {
      "text/plain": [
       "'11'"
      ]
     },
     "execution_count": 120,
     "metadata": {},
     "output_type": "execute_result"
    }
   ],
   "source": [
    "customers_data[:,10][3]"
   ]
  },
  {
   "cell_type": "code",
   "execution_count": 90,
   "metadata": {},
   "outputs": [
    {
     "data": {
      "text/plain": [
       "array(['kelly', 'Randall', 'Jennifer', 'steven', 'Anna', 'Roger',\n",
       "       'Katrina', 'Andrew', 'feborah', 'Kristy', 'jennifer', 'Jeffrey',\n",
       "       'Lauren', 'Nicholas', 'jeggy', 'Brian', 'Connie', 'Corey', 'derek',\n",
       "       'brittany', 'John', 'amanda', 'Kylie', 'Eddie', 'peter'],\n",
       "      dtype='<U32')"
      ]
     },
     "execution_count": 90,
     "metadata": {},
     "output_type": "execute_result"
    }
   ],
   "source": [
    "employees_data[0]"
   ]
  },
  {
   "cell_type": "code",
   "execution_count": 127,
   "metadata": {},
   "outputs": [
    {
     "data": {
      "text/plain": [
       "array(['jennifer', 'Castro'], dtype='<U32')"
      ]
     },
     "execution_count": 127,
     "metadata": {},
     "output_type": "execute_result"
    }
   ],
   "source": [
    "np.concatenate((employees_data[0][employees_data[2] == \"11\"],employees_data[1][employees_data[2] == \"11\"]))"
   ]
  },
  {
   "cell_type": "code",
   "execution_count": 131,
   "metadata": {},
   "outputs": [
    {
     "data": {
      "text/plain": [
       "array(['jennifer', 'Castro', '11', '3436.11', 'M', '2', '18'],\n",
       "      dtype='<U32')"
      ]
     },
     "execution_count": 131,
     "metadata": {},
     "output_type": "execute_result"
    }
   ],
   "source": [
    "employees_data[:,list(employees_data[2]).index(\"11\")]"
   ]
  },
  {
   "cell_type": "code",
   "execution_count": 98,
   "metadata": {},
   "outputs": [
    {
     "data": {
      "text/plain": [
       "array([['kelly', 'Randall', 'Jennifer', 'steven', 'Anna', 'Roger',\n",
       "        'Katrina', 'Andrew', 'feborah', 'Kristy', 'jennifer', 'Jeffrey',\n",
       "        'Lauren', 'Nicholas', 'jeggy', 'Brian', 'Connie', 'Corey',\n",
       "        'derek', 'brittany', 'John', 'amanda', 'Kylie', 'Eddie', 'peter'],\n",
       "       ['Manning', 'martin', 'Roman', 'Jones', 'Brooks', 'fitzgerald',\n",
       "        'Ho', 'Rodriguez', 'fstes', 'Norris', 'Castro', 'Harper',\n",
       "        'Mendoza', 'mahoney', 'Kelley', 'Rodgers', 'Flores', 'Sharp',\n",
       "        'jimmons', 'Graham', 'Woods', 'Rose', 'Johnson', 'white',\n",
       "        'Acevedo'],\n",
       "       ['1', '2', '3', '4', '5', '6', '7', '8', '9', '10', '11', '12',\n",
       "        '13', '14', '15', '16', '17', '18', '19', '20', '21', '22', '23',\n",
       "        '24', '25'],\n",
       "       ['5339.26', '3553.56', '3914.35', '5403.55', '3664.38', '4955.78',\n",
       "        '2678.91', '5269.36', '2793.79', '3246.82', '3436.11', '3681.08',\n",
       "        '4509.77', '5325.75', '7875.65', '4394.52', '3864.65', '5371.3',\n",
       "        '2741.29', '3779.03', '2603.61', '7256.27', '4279.48', '6890.37',\n",
       "        '4630.28'],\n",
       "       ['M', 'F', 'F', 'F', 'M', 'F', 'M', 'M', 'F', 'F', 'M', 'M', 'F',\n",
       "        'F', 'M', 'F', 'M', 'F', 'F', 'M', 'M', 'F', 'M', 'F', 'F'],\n",
       "       ['2', '3', '3', '4', '1', '0', '0', '0', '4', '0', '2', '4', '5',\n",
       "        '3', '4', '4', '4', '5', '2', '1', '4', '0', '3', '5', '3'],\n",
       "       ['0', '2', '4', '0', '15', '5', '12', '4', '19', '0', '18', '12',\n",
       "        '12', '16', '20', '15', '8', '7', '0', '19', '7', '20', '12',\n",
       "        '12', '10']], dtype='<U32')"
      ]
     },
     "execution_count": 98,
     "metadata": {},
     "output_type": "execute_result"
    }
   ],
   "source": [
    "employees_data"
   ]
  }
 ],
 "metadata": {
  "kernelspec": {
   "display_name": "base",
   "language": "python",
   "name": "python3"
  },
  "language_info": {
   "codemirror_mode": {
    "name": "ipython",
    "version": 3
   },
   "file_extension": ".py",
   "mimetype": "text/x-python",
   "name": "python",
   "nbconvert_exporter": "python",
   "pygments_lexer": "ipython3",
   "version": "undefined.undefined.undefined"
  }
 },
 "nbformat": 4,
 "nbformat_minor": 2
}
