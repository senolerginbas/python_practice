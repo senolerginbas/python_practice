{
 "cells": [
  {
   "cell_type": "code",
   "execution_count": 1,
   "metadata": {},
   "outputs": [
    {
     "data": {
      "text/plain": [
       "0"
      ]
     },
     "execution_count": 1,
     "metadata": {},
     "output_type": "execute_result"
    }
   ],
   "source": [
    "6 % 2 # False"
   ]
  },
  {
   "cell_type": "code",
   "execution_count": 2,
   "metadata": {},
   "outputs": [
    {
     "data": {
      "text/plain": [
       "True"
      ]
     },
     "execution_count": 2,
     "metadata": {},
     "output_type": "execute_result"
    }
   ],
   "source": [
    "6 % 2 == False"
   ]
  },
  {
   "cell_type": "code",
   "execution_count": 3,
   "metadata": {},
   "outputs": [
    {
     "data": {
      "text/plain": [
       "1"
      ]
     },
     "execution_count": 3,
     "metadata": {},
     "output_type": "execute_result"
    }
   ],
   "source": [
    "5 % 2 # True"
   ]
  },
  {
   "cell_type": "code",
   "execution_count": 6,
   "metadata": {},
   "outputs": [
    {
     "data": {
      "text/plain": [
       "True"
      ]
     },
     "execution_count": 6,
     "metadata": {},
     "output_type": "execute_result"
    }
   ],
   "source": [
    "5 % 2 == True"
   ]
  },
  {
   "cell_type": "code",
   "execution_count": 9,
   "metadata": {},
   "outputs": [],
   "source": [
    "if 0:\n",
    "    print(\"not going to print\")"
   ]
  },
  {
   "cell_type": "code",
   "execution_count": 8,
   "metadata": {},
   "outputs": [],
   "source": [
    "if False:\n",
    "    print(\"not going to print\")"
   ]
  },
  {
   "cell_type": "code",
   "execution_count": 7,
   "metadata": {},
   "outputs": [],
   "source": [
    "if 6 % 2:\n",
    "    print(\"not going to print\")"
   ]
  },
  {
   "cell_type": "code",
   "execution_count": 6,
   "metadata": {},
   "outputs": [
    {
     "name": "stdout",
     "output_type": "stream",
     "text": [
      "going to run\n"
     ]
    }
   ],
   "source": [
    "if 1:\n",
    "    print(\"going to run\")"
   ]
  },
  {
   "cell_type": "code",
   "execution_count": 11,
   "metadata": {},
   "outputs": [
    {
     "name": "stdout",
     "output_type": "stream",
     "text": [
      "going to run\n"
     ]
    }
   ],
   "source": [
    "if True:\n",
    "    print(\"going to run\")"
   ]
  },
  {
   "cell_type": "code",
   "execution_count": 10,
   "metadata": {},
   "outputs": [
    {
     "name": "stdout",
     "output_type": "stream",
     "text": [
      "going to run\n"
     ]
    }
   ],
   "source": [
    "if 5 % 2:\n",
    "    print(\"going to run\")"
   ]
  },
  {
   "cell_type": "code",
   "execution_count": 17,
   "metadata": {},
   "outputs": [
    {
     "name": "stdout",
     "output_type": "stream",
     "text": [
      "[1, 225, 529, 84, 44, 49, 25, 16, 24]\n"
     ]
    }
   ],
   "source": [
    "# if the number is odd, bring it's square else twice it's value\n",
    "numberslist = [1, 15, 23, 42, 22, 7, 5, 8, 12]\n",
    "\n",
    "x = 0\n",
    "\n",
    "result = []\n",
    "\n",
    "while x < len(numberslist):\n",
    "\n",
    "    if numberslist[x] % 2 == 1:\n",
    "        result.append(numberslist[x] ** 2)\n",
    "\n",
    "    else:\n",
    "        result.append(numberslist[x] * 2)\n",
    "    x += 1\n",
    "\n",
    "print(result)\n"
   ]
  },
  {
   "cell_type": "code",
   "execution_count": 18,
   "metadata": {},
   "outputs": [
    {
     "name": "stdout",
     "output_type": "stream",
     "text": [
      "[1, 225, 529, 84, 44, 49, 25, 16, 24]\n"
     ]
    }
   ],
   "source": [
    "# if the number is odd, bring it's square else twice it's value\n",
    "numberslist = [1, 15, 23, 42, 22, 7, 5, 8, 12]\n",
    "\n",
    "x = 0\n",
    "\n",
    "result = []\n",
    "\n",
    "while x < len(numberslist):\n",
    "\n",
    "    if numberslist[x] % 2:\n",
    "        result.append(numberslist[x] ** 2)\n",
    "\n",
    "    else:\n",
    "        result.append(numberslist[x] * 2)\n",
    "    x += 1\n",
    "\n",
    "print(result)"
   ]
  },
  {
   "cell_type": "code",
   "execution_count": 19,
   "metadata": {},
   "outputs": [
    {
     "name": "stdout",
     "output_type": "stream",
     "text": [
      "The odd numbers: [1, 33, 51, 13, 67, 121, 999]\n",
      "The even numbers: [12, 42, 14, 64, 224]\n"
     ]
    }
   ],
   "source": [
    "# bring the even numbers of the following list in even list, and the odd in odd list\n",
    "allnumbers = [1, 12, 33, 42, 51, 13, 14, 67, 64, 121, 224, 999]\n",
    "odd = []\n",
    "even = []\n",
    "x = 0\n",
    "\n",
    "while x < len(allnumbers):\n",
    "\n",
    "    if allnumbers[x] % 2:\n",
    "        odd.append(allnumbers[x])\n",
    "    else:\n",
    "        even.append(allnumbers[x])\n",
    "    x += 1\n",
    "\n",
    "print(f\"The odd numbers: {odd}\")\n",
    "print(f\"The even numbers: {even}\")"
   ]
  },
  {
   "cell_type": "code",
   "execution_count": 20,
   "metadata": {},
   "outputs": [
    {
     "name": "stdout",
     "output_type": "stream",
     "text": [
      "The odd numbers: [1, 33, 51, 13, 67, 121, 999]\n",
      "The even numbers: [12, 42, 14, 64, 224]\n"
     ]
    }
   ],
   "source": [
    "# bring the even numbers of the following list in even list, and the odd in odd list\n",
    "allnumbers = [1, 12, 33, 42, 51, 13, 14, 67, 64, 121, 224, 999]\n",
    "odd = []\n",
    "even = []\n",
    "x = 0\n",
    "\n",
    "while x < len(allnumbers):\n",
    "\n",
    "    if allnumbers[x] % 2:\n",
    "        odd.append(allnumbers[x])\n",
    "    else:\n",
    "        even.append(allnumbers[x])\n",
    "    x += 1\n",
    "\n",
    "print(\"The odd numbers: {}\".format(odd))\n",
    "print(\"The even numbers: {}\".format(even))"
   ]
  },
  {
   "cell_type": "code",
   "execution_count": 21,
   "metadata": {},
   "outputs": [
    {
     "name": "stdout",
     "output_type": "stream",
     "text": [
      "The odd numbers list: [1, 33, 51, 13, 67, 121, 999], and it's length: 7\n",
      "The even numbers list: [12, 42, 14, 64, 224], and it's length: 5\n"
     ]
    }
   ],
   "source": [
    "# bring the even numbers of the following list in even list, and the odd in odd list\n",
    "allnumbers = [1, 12, 33, 42, 51, 13, 14, 67, 64, 121, 224, 999]\n",
    "odd = []\n",
    "even = []\n",
    "x = 0\n",
    "\n",
    "while x < len(allnumbers):\n",
    "\n",
    "    if allnumbers[x] % 2:\n",
    "        odd.append(allnumbers[x])\n",
    "    else:\n",
    "        even.append(allnumbers[x])\n",
    "    x += 1\n",
    "\n",
    "print(\"The odd numbers list: {}, and it's length: {}\".format(odd, len(odd)))\n",
    "print(\"The even numbers list: {}, and it's length: {}\".format(even, len(even)))"
   ]
  },
  {
   "cell_type": "code",
   "execution_count": 22,
   "metadata": {},
   "outputs": [
    {
     "name": "stdout",
     "output_type": "stream",
     "text": [
      "The odd numbers: None\n",
      "The even numbers: [12, 42, 14, 64, 224]\n"
     ]
    }
   ],
   "source": [
    "# bring the even numbers of the following list in even list, and the odd in odd list\n",
    "allnumbers = [1, 12, 33, 42, 51, 13, 14, 67, 64, 121, 224, 999]\n",
    "odd = []\n",
    "even = []\n",
    "x = 0\n",
    "\n",
    "while x < len(allnumbers):\n",
    "\n",
    "    if allnumbers[x] % 2:\n",
    "        odd.append(allnumbers[x])\n",
    "    else:\n",
    "        even.append(allnumbers[x])\n",
    "    x += 1\n",
    "\n",
    "print(f\"The odd numbers: {odd.sort()}\")\n",
    "print(f\"The even numbers: {even}\")"
   ]
  },
  {
   "cell_type": "code",
   "execution_count": 23,
   "metadata": {},
   "outputs": [],
   "source": [
    "odd.sort()"
   ]
  },
  {
   "cell_type": "code",
   "execution_count": 24,
   "metadata": {},
   "outputs": [
    {
     "name": "stdout",
     "output_type": "stream",
     "text": [
      "The odd numbers: [1, 13, 33, 51, 67, 121, 999]\n",
      "The even numbers: [12, 14, 42, 64, 224]\n"
     ]
    }
   ],
   "source": [
    "# bring the even numbers of the following list in even list, and the odd in odd list\n",
    "allnumbers = [1, 12, 33, 42, 51, 13, 14, 67, 64, 121, 224, 999]\n",
    "odd = []\n",
    "even = []\n",
    "x = 0\n",
    "\n",
    "while x < len(allnumbers):\n",
    "\n",
    "    if allnumbers[x] % 2:\n",
    "        odd.append(allnumbers[x])\n",
    "    else:\n",
    "        even.append(allnumbers[x])\n",
    "    x += 1\n",
    "\n",
    "odd.sort()\n",
    "even.sort()\n",
    "print(f\"The odd numbers: {odd}\")\n",
    "print(f\"The even numbers: {even}\")"
   ]
  },
  {
   "cell_type": "code",
   "execution_count": 25,
   "metadata": {},
   "outputs": [
    {
     "data": {
      "text/plain": [
       "[1, 13, 33, 51, 67, 121, 999]"
      ]
     },
     "execution_count": 25,
     "metadata": {},
     "output_type": "execute_result"
    }
   ],
   "source": [
    "sorted(odd)"
   ]
  },
  {
   "cell_type": "code",
   "execution_count": 27,
   "metadata": {},
   "outputs": [
    {
     "name": "stdout",
     "output_type": "stream",
     "text": [
      "The odd numbers: [1, 13, 33, 51, 67, 121, 999]\n",
      "The even numbers: [12, 14, 42, 64, 224]\n"
     ]
    }
   ],
   "source": [
    "# bring the even numbers of the following list in even list, and the odd in odd list\n",
    "allnumbers = [1, 12, 33, 42, 51, 13, 14, 67, 64, 121, 224, 999]\n",
    "odd = []\n",
    "even = []\n",
    "x = 0\n",
    "\n",
    "while x < len(allnumbers):\n",
    "\n",
    "    if allnumbers[x] % 2:\n",
    "        odd.append(allnumbers[x])\n",
    "    else:\n",
    "        even.append(allnumbers[x])\n",
    "    x += 1\n",
    "\n",
    "print(f\"The odd numbers: {sorted(odd)}\")\n",
    "print(f\"The even numbers: {sorted(even)}\")"
   ]
  },
  {
   "cell_type": "code",
   "execution_count": 28,
   "metadata": {},
   "outputs": [
    {
     "data": {
      "text/plain": [
       "[1, 2, 41, 43, 67]"
      ]
     },
     "execution_count": 28,
     "metadata": {},
     "output_type": "execute_result"
    }
   ],
   "source": [
    "mylist = [1, 43, 2, 67 ,41]\n",
    "sorted(mylist)"
   ]
  },
  {
   "cell_type": "code",
   "execution_count": 29,
   "metadata": {},
   "outputs": [
    {
     "data": {
      "text/plain": [
       "[1, 43, 2, 67, 41]"
      ]
     },
     "execution_count": 29,
     "metadata": {},
     "output_type": "execute_result"
    }
   ],
   "source": [
    "mylist"
   ]
  },
  {
   "cell_type": "markdown",
   "metadata": {},
   "source": [
    "### random module"
   ]
  },
  {
   "cell_type": "code",
   "execution_count": 30,
   "metadata": {},
   "outputs": [],
   "source": [
    "import random"
   ]
  },
  {
   "cell_type": "code",
   "execution_count": 31,
   "metadata": {},
   "outputs": [
    {
     "data": {
      "text/plain": [
       "0.9544855369180774"
      ]
     },
     "execution_count": 31,
     "metadata": {},
     "output_type": "execute_result"
    }
   ],
   "source": [
    "random.random()"
   ]
  },
  {
   "cell_type": "code",
   "execution_count": 32,
   "metadata": {},
   "outputs": [],
   "source": [
    "random.seed(42)"
   ]
  },
  {
   "cell_type": "code",
   "execution_count": 33,
   "metadata": {},
   "outputs": [
    {
     "data": {
      "text/plain": [
       "0.6394267984578837"
      ]
     },
     "execution_count": 33,
     "metadata": {},
     "output_type": "execute_result"
    }
   ],
   "source": [
    "random.random()"
   ]
  },
  {
   "cell_type": "code",
   "execution_count": 34,
   "metadata": {},
   "outputs": [],
   "source": [
    "random.seed(10)"
   ]
  },
  {
   "cell_type": "code",
   "execution_count": 35,
   "metadata": {},
   "outputs": [
    {
     "data": {
      "text/plain": [
       "0.5714025946899135"
      ]
     },
     "execution_count": 35,
     "metadata": {},
     "output_type": "execute_result"
    }
   ],
   "source": [
    "random.random()"
   ]
  },
  {
   "cell_type": "code",
   "execution_count": 43,
   "metadata": {},
   "outputs": [
    {
     "data": {
      "text/plain": [
       "3"
      ]
     },
     "execution_count": 43,
     "metadata": {},
     "output_type": "execute_result"
    }
   ],
   "source": [
    "random.randint(1, 5)"
   ]
  },
  {
   "cell_type": "code",
   "execution_count": 50,
   "metadata": {},
   "outputs": [
    {
     "data": {
      "text/plain": [
       "10"
      ]
     },
     "execution_count": 50,
     "metadata": {},
     "output_type": "execute_result"
    }
   ],
   "source": [
    "random.randint(1, 100)"
   ]
  },
  {
   "cell_type": "code",
   "execution_count": 56,
   "metadata": {},
   "outputs": [
    {
     "data": {
      "text/plain": [
       "[48, 5, 74, 0, 30]"
      ]
     },
     "execution_count": 56,
     "metadata": {},
     "output_type": "execute_result"
    }
   ],
   "source": [
    "random.sample(range(100),5)"
   ]
  },
  {
   "cell_type": "code",
   "execution_count": 58,
   "metadata": {},
   "outputs": [
    {
     "data": {
      "text/plain": [
       "[68, 46, 98]"
      ]
     },
     "execution_count": 58,
     "metadata": {},
     "output_type": "execute_result"
    }
   ],
   "source": [
    "random.sample(range(100),3)"
   ]
  },
  {
   "cell_type": "code",
   "execution_count": 59,
   "metadata": {},
   "outputs": [],
   "source": [
    "myrandomnumber = str(random.randint(1, 100))"
   ]
  },
  {
   "cell_type": "code",
   "execution_count": 60,
   "metadata": {},
   "outputs": [
    {
     "data": {
      "text/plain": [
       "'31'"
      ]
     },
     "execution_count": 60,
     "metadata": {},
     "output_type": "execute_result"
    }
   ],
   "source": [
    "myrandomnumber"
   ]
  },
  {
   "cell_type": "code",
   "execution_count": 63,
   "metadata": {},
   "outputs": [
    {
     "name": "stdout",
     "output_type": "stream",
     "text": [
      "your guess is 50 Increase your guess\n",
      "your guess is 75 lower your guess\n",
      "your guess is 62 Increase your guess\n",
      "your guess is 69 Increase your guess\n",
      "your guess is 73 lower your guess\n",
      "your guess is 72 lower your guess\n",
      "your guess is 71 Congrats, your guess is correct.\n"
     ]
    }
   ],
   "source": [
    "num_tm_thinking = random.randint(1, 100)\n",
    "\n",
    "y = True\n",
    "while y:\n",
    "    guess = int(input(\"What is the number I am thinking which is between 1 and 100\"))\n",
    "\n",
    "    if num_tm_thinking < guess:\n",
    "        print(f\"your guess is {guess} lower your guess\")\n",
    "    elif num_tm_thinking > guess:\n",
    "        print(f\"your guess is {guess} Increase your guess\")\n",
    "    else:\n",
    "        print(f\"your guess is {guess} Congrats, your guess is correct.\")\n",
    "        y = False"
   ]
  },
  {
   "cell_type": "markdown",
   "metadata": {},
   "source": [
    "#### break, continue"
   ]
  },
  {
   "cell_type": "code",
   "execution_count": 72,
   "metadata": {},
   "outputs": [
    {
     "name": "stdout",
     "output_type": "stream",
     "text": [
      "your guess is 50 lower your guess\n",
      "your guess is 75 lower your guess\n",
      "your guess is 80 lower your guess\n",
      "your guess is 65 lower your guess\n",
      "your guess is 45 lower your guess\n",
      "your guess is 52 lower your guess\n",
      "your guess is 5 Increase your guess\n",
      "your guess is 10 Increase your guess\n"
     ]
    },
    {
     "ename": "ValueError",
     "evalue": "invalid literal for int() with base 10: ''",
     "output_type": "error",
     "traceback": [
      "\u001b[1;31m---------------------------------------------------------------------------\u001b[0m",
      "\u001b[1;31mValueError\u001b[0m                                Traceback (most recent call last)",
      "Cell \u001b[1;32mIn[72], line 5\u001b[0m\n\u001b[0;32m      3\u001b[0m y \u001b[38;5;241m=\u001b[39m \u001b[38;5;28;01mTrue\u001b[39;00m\n\u001b[0;32m      4\u001b[0m \u001b[38;5;28;01mwhile\u001b[39;00m y:\n\u001b[1;32m----> 5\u001b[0m     guess \u001b[38;5;241m=\u001b[39m \u001b[38;5;28;43mint\u001b[39;49m\u001b[43m(\u001b[49m\u001b[38;5;28;43minput\u001b[39;49m\u001b[43m(\u001b[49m\u001b[38;5;124;43m\"\u001b[39;49m\u001b[38;5;124;43mWhat is the number I am thinking which is between 1 and 100\u001b[39;49m\u001b[38;5;124;43m\"\u001b[39;49m\u001b[43m)\u001b[49m\u001b[43m)\u001b[49m\n\u001b[0;32m      7\u001b[0m     \u001b[38;5;28;01mif\u001b[39;00m num_tm_thinking \u001b[38;5;241m<\u001b[39m guess:\n\u001b[0;32m      8\u001b[0m         \u001b[38;5;28mprint\u001b[39m(\u001b[38;5;124mf\u001b[39m\u001b[38;5;124m\"\u001b[39m\u001b[38;5;124myour guess is \u001b[39m\u001b[38;5;132;01m{\u001b[39;00mguess\u001b[38;5;132;01m}\u001b[39;00m\u001b[38;5;124m lower your guess\u001b[39m\u001b[38;5;124m\"\u001b[39m)\n",
      "\u001b[1;31mValueError\u001b[0m: invalid literal for int() with base 10: ''"
     ]
    }
   ],
   "source": [
    "num_tm_thinking = random.randint(1, 100)\n",
    "\n",
    "y = True\n",
    "while y:\n",
    "    guess = int(input(\"What is the number I am thinking which is between 1 and 100\"))\n",
    "\n",
    "    if num_tm_thinking < guess:\n",
    "        print(f\"your guess is {guess} lower your guess\")\n",
    "    elif num_tm_thinking > guess:\n",
    "        print(f\"your guess is {guess} Increase your guess\")\n",
    "    else:\n",
    "        print(f\"your guess is {guess} Congrats, your guess is correct.\")\n",
    "        break"
   ]
  },
  {
   "cell_type": "code",
   "execution_count": 71,
   "metadata": {},
   "outputs": [
    {
     "ename": "ValueError",
     "evalue": "invalid literal for int() with base 10: ''",
     "output_type": "error",
     "traceback": [
      "\u001b[1;31m---------------------------------------------------------------------------\u001b[0m",
      "\u001b[1;31mValueError\u001b[0m                                Traceback (most recent call last)",
      "Cell \u001b[1;32mIn[71], line 5\u001b[0m\n\u001b[0;32m      3\u001b[0m y \u001b[38;5;241m=\u001b[39m \u001b[38;5;28;01mTrue\u001b[39;00m\n\u001b[0;32m      4\u001b[0m \u001b[38;5;28;01mwhile\u001b[39;00m y:\n\u001b[1;32m----> 5\u001b[0m     guess \u001b[38;5;241m=\u001b[39m \u001b[38;5;28;43mint\u001b[39;49m\u001b[43m(\u001b[49m\u001b[38;5;28;43minput\u001b[39;49m\u001b[43m(\u001b[49m\u001b[38;5;124;43m\"\u001b[39;49m\u001b[38;5;124;43mWhat is the number I am thinking which is between 1 and 100\u001b[39;49m\u001b[38;5;124;43m\"\u001b[39;49m\u001b[43m)\u001b[49m\u001b[43m)\u001b[49m\n\u001b[0;32m      7\u001b[0m     \u001b[38;5;28;01mif\u001b[39;00m num_tm_thinking \u001b[38;5;241m<\u001b[39m guess:\n\u001b[0;32m      8\u001b[0m         \u001b[38;5;28mprint\u001b[39m(\u001b[38;5;124mf\u001b[39m\u001b[38;5;124m\"\u001b[39m\u001b[38;5;124myour guess is \u001b[39m\u001b[38;5;132;01m{\u001b[39;00mguess\u001b[38;5;132;01m}\u001b[39;00m\u001b[38;5;124m lower your guess\u001b[39m\u001b[38;5;124m\"\u001b[39m)\n",
      "\u001b[1;31mValueError\u001b[0m: invalid literal for int() with base 10: ''"
     ]
    }
   ],
   "source": [
    "num_tm_thinking = random.randint(1, 100)\n",
    "\n",
    "y = True\n",
    "while y:\n",
    "    guess = int(input(\"What is the number I am thinking which is between 1 and 100\"))\n",
    "\n",
    "    if num_tm_thinking < guess:\n",
    "        print(f\"your guess is {guess} lower your guess\")\n",
    "    elif num_tm_thinking > guess:\n",
    "        print(f\"your guess is {guess} Increase your guess\")\n",
    "    else:\n",
    "        print(f\"your guess is {guess} Congrats, your guess is correct.\")\n",
    "    break"
   ]
  },
  {
   "cell_type": "code",
   "execution_count": 65,
   "metadata": {},
   "outputs": [
    {
     "name": "stdout",
     "output_type": "stream",
     "text": [
      "your guess is 50 Increase your guess\n",
      "your guess is 80 lower your guess\n"
     ]
    }
   ],
   "source": [
    "num_tm_thinking = random.randint(1, 100)\n",
    "\n",
    "y = True\n",
    "while y:\n",
    "    guess = int(input(\"What is the number I am thinking which is between 1 and 100\"))\n",
    "\n",
    "    if num_tm_thinking < guess:\n",
    "        print(f\"your guess is {guess} lower your guess\")\n",
    "        break\n",
    "    elif num_tm_thinking > guess:\n",
    "        print(f\"your guess is {guess} Increase your guess\")\n",
    "    else:\n",
    "        print(f\"your guess is {guess} Congrats, your guess is correct.\")\n"
   ]
  },
  {
   "cell_type": "code",
   "execution_count": 66,
   "metadata": {},
   "outputs": [
    {
     "name": "stdout",
     "output_type": "stream",
     "text": [
      "your guess is 50 Increase your guess\n"
     ]
    }
   ],
   "source": [
    "num_tm_thinking = random.randint(1, 100)\n",
    "\n",
    "y = True\n",
    "while y:\n",
    "    guess = int(input(\"What is the number I am thinking which is between 1 and 100\"))\n",
    "\n",
    "    if num_tm_thinking < guess:\n",
    "        print(f\"your guess is {guess} lower your guess\")\n",
    "    elif num_tm_thinking > guess:\n",
    "        print(f\"your guess is {guess} Increase your guess\")\n",
    "        break\n",
    "    else:\n",
    "        print(f\"your guess is {guess} Congrats, your guess is correct.\")"
   ]
  },
  {
   "cell_type": "code",
   "execution_count": 70,
   "metadata": {},
   "outputs": [
    {
     "name": "stdout",
     "output_type": "stream",
     "text": [
      "your guess is 5 Increase your guess\n",
      "your guess is 7 lower your guess\n",
      "your guess is 8 lower your guess\n",
      "your guess is 9 lower your guess\n",
      "your guess is 6 Congrats, your guess is correct.\n"
     ]
    }
   ],
   "source": [
    "num_tm_thinking = random.randint(1, 10)\n",
    "\n",
    "count = 0\n",
    "y = True\n",
    "while y:\n",
    "    guess = int(input(\"What is the number I am thinking which is between 1 and 100\"))\n",
    "    count += 1\n",
    "    if num_tm_thinking < guess:\n",
    "        print(f\"your guess is {guess} lower your guess\")\n",
    "    elif num_tm_thinking > guess:\n",
    "        print(f\"your guess is {guess} Increase your guess\")\n",
    "    else:\n",
    "        print(f\"your guess is {guess} Congrats, your guess is correct.\")\n",
    "        break # stopped the loop after this.\n",
    "\n",
    "    if count == 5:\n",
    "        print(\"You are out of guesses, couldn't find the number in 5 tries\")\n",
    "        break"
   ]
  },
  {
   "cell_type": "code",
   "execution_count": 73,
   "metadata": {},
   "outputs": [
    {
     "name": "stdout",
     "output_type": "stream",
     "text": [
      "your guess is 50 lower your guess\n",
      "your guess is 25 lower your guess\n",
      "your guess is 12 lower your guess\n",
      "your guess is 6 lower your guess\n",
      "your guess is 3 Increase your guess\n",
      "You are out of guesses, couldn't find the number in 5 tries\n"
     ]
    }
   ],
   "source": [
    "import time\n",
    "\n",
    "num_tm_thinking = random.randint(1, 10)\n",
    "\n",
    "time.sleep(2)\n",
    "count = 0\n",
    "y = True\n",
    "while y:\n",
    "    guess = int(input(\"What is the number I am thinking which is between 1 and 100\"))\n",
    "    count += 1\n",
    "    time.sleep(2)\n",
    "    if num_tm_thinking < guess:\n",
    "        print(f\"your guess is {guess} lower your guess\")\n",
    "    elif num_tm_thinking > guess:\n",
    "        print(f\"your guess is {guess} Increase your guess\")\n",
    "    else:\n",
    "        print(f\"your guess is {guess} Congrats, your guess is correct.\")\n",
    "        break # stopped the loop after this.\n",
    "    time.sleep(2)\n",
    "    if count == 5:\n",
    "        print(\"You are out of guesses, couldn't find the number in 5 tries\")\n",
    "        break"
   ]
  },
  {
   "cell_type": "code",
   "execution_count": 74,
   "metadata": {},
   "outputs": [
    {
     "name": "stdout",
     "output_type": "stream",
     "text": [
      "10\n"
     ]
    }
   ],
   "source": [
    "# add the integers inside the following list, but if encounter a string then stop loop.\n",
    "\n",
    "list1 = [1, 2, 3, 4, \"Techpro\", 5, 6, 7]\n",
    "\n",
    "x = 0\n",
    "\n",
    "summation = 0\n",
    "\n",
    "while x < len(list1):\n",
    "    if type(list1[x]) == int:\n",
    "        summation += list1[x]\n",
    "    elif type(list1[x]) == str:\n",
    "        break\n",
    "\n",
    "    x += 1\n",
    "print(summation)"
   ]
  },
  {
   "cell_type": "code",
   "execution_count": 75,
   "metadata": {},
   "outputs": [
    {
     "ename": "KeyboardInterrupt",
     "evalue": "",
     "output_type": "error",
     "traceback": [
      "\u001b[1;31m---------------------------------------------------------------------------\u001b[0m",
      "\u001b[1;31mKeyboardInterrupt\u001b[0m                         Traceback (most recent call last)",
      "Cell \u001b[1;32mIn[75], line 13\u001b[0m\n\u001b[0;32m     11\u001b[0m         summation \u001b[38;5;241m+\u001b[39m\u001b[38;5;241m=\u001b[39m list1[x]\n\u001b[0;32m     12\u001b[0m     \u001b[38;5;28;01melif\u001b[39;00m \u001b[38;5;28mtype\u001b[39m(list1[x]) \u001b[38;5;241m==\u001b[39m \u001b[38;5;28mstr\u001b[39m:\n\u001b[1;32m---> 13\u001b[0m         \u001b[38;5;28;01mcontinue\u001b[39;00m\n\u001b[0;32m     15\u001b[0m     x \u001b[38;5;241m+\u001b[39m\u001b[38;5;241m=\u001b[39m \u001b[38;5;241m1\u001b[39m\n\u001b[0;32m     16\u001b[0m \u001b[38;5;28mprint\u001b[39m(summation)\n",
      "\u001b[1;31mKeyboardInterrupt\u001b[0m: "
     ]
    }
   ],
   "source": [
    "# add the integers inside the following list, but if encounter a string then jump.\n",
    "\n",
    "list1 = [1, 2, 3, 4, \"Techpro\", 5, 6, 7]\n",
    "\n",
    "x = 0\n",
    "\n",
    "summation = 0\n",
    "\n",
    "while x < len(list1):\n",
    "    if type(list1[x]) == int:\n",
    "        summation += list1[x]\n",
    "    elif type(list1[x]) == str:\n",
    "        continue\n",
    "\n",
    "    x += 1\n",
    "print(summation)"
   ]
  },
  {
   "cell_type": "code",
   "execution_count": 76,
   "metadata": {},
   "outputs": [
    {
     "name": "stdout",
     "output_type": "stream",
     "text": [
      "28\n"
     ]
    }
   ],
   "source": [
    "# add the integers inside the following list, but if encounter a string then jump.\n",
    "\n",
    "list1 = [1, 2, 3, 4, \"Techpro\", 5, 6, 7]\n",
    "\n",
    "x = 0\n",
    "\n",
    "summation = 0\n",
    "\n",
    "while x < len(list1):\n",
    "    if type(list1[x]) == int:\n",
    "        summation += list1[x]\n",
    "    elif type(list1[x]) == str:\n",
    "        x += 1\n",
    "        continue\n",
    "\n",
    "    x += 1\n",
    "print(summation)"
   ]
  },
  {
   "cell_type": "markdown",
   "metadata": {},
   "source": [
    "#### min() max()"
   ]
  },
  {
   "cell_type": "code",
   "execution_count": 77,
   "metadata": {},
   "outputs": [],
   "source": [
    "liste_1 = [1,4,5,6,9,85,23,65,47,32,91]"
   ]
  },
  {
   "cell_type": "code",
   "execution_count": 78,
   "metadata": {},
   "outputs": [
    {
     "data": {
      "text/plain": [
       "1"
      ]
     },
     "execution_count": 78,
     "metadata": {},
     "output_type": "execute_result"
    }
   ],
   "source": [
    "min(liste_1)"
   ]
  },
  {
   "cell_type": "code",
   "execution_count": 79,
   "metadata": {},
   "outputs": [
    {
     "data": {
      "text/plain": [
       "91"
      ]
     },
     "execution_count": 79,
     "metadata": {},
     "output_type": "execute_result"
    }
   ],
   "source": [
    "max(liste_1)"
   ]
  },
  {
   "cell_type": "code",
   "execution_count": 80,
   "metadata": {},
   "outputs": [],
   "source": [
    "liste_1 = [1,4,5,6,-9,85,23,65,-47,32,-91]"
   ]
  },
  {
   "cell_type": "code",
   "execution_count": 81,
   "metadata": {},
   "outputs": [
    {
     "data": {
      "text/plain": [
       "-91"
      ]
     },
     "execution_count": 81,
     "metadata": {},
     "output_type": "execute_result"
    }
   ],
   "source": [
    "min(liste_1)"
   ]
  },
  {
   "cell_type": "code",
   "execution_count": 82,
   "metadata": {},
   "outputs": [
    {
     "data": {
      "text/plain": [
       "85"
      ]
     },
     "execution_count": 82,
     "metadata": {},
     "output_type": "execute_result"
    }
   ],
   "source": [
    "max(liste_1)"
   ]
  },
  {
   "cell_type": "markdown",
   "metadata": {},
   "source": [
    "find the minimum element of the above list withouth using the min and sort function and method, but using while loops."
   ]
  },
  {
   "cell_type": "code",
   "execution_count": 1,
   "metadata": {},
   "outputs": [
    {
     "name": "stdout",
     "output_type": "stream",
     "text": [
      "-91\n"
     ]
    }
   ],
   "source": [
    "liste_1 = [1,4,5,6,-9,85,23,65,-47,32,-91]\n",
    "\n",
    "x = 0\n",
    "\n",
    "min_num = liste_1[0]\n",
    "while x < len(liste_1):\n",
    "    if min_num > liste_1[x]:\n",
    "        min_num = liste_1[x]\n",
    "    x += 1\n",
    "else:\n",
    "    print(min_num)"
   ]
  },
  {
   "cell_type": "code",
   "execution_count": 4,
   "metadata": {},
   "outputs": [
    {
     "name": "stdout",
     "output_type": "stream",
     "text": [
      "senol"
     ]
    }
   ],
   "source": [
    "for i in \"senol\" :\n",
    "    print(i,end='')"
   ]
  },
  {
   "cell_type": "code",
   "execution_count": null,
   "metadata": {},
   "outputs": [],
   "source": []
  }
 ],
 "metadata": {
  "kernelspec": {
   "display_name": "Python 3",
   "language": "python",
   "name": "python3"
  },
  "language_info": {
   "codemirror_mode": {
    "name": "ipython",
    "version": 3
   },
   "file_extension": ".py",
   "mimetype": "text/x-python",
   "name": "python",
   "nbconvert_exporter": "python",
   "pygments_lexer": "ipython3",
   "version": "3.10.4"
  }
 },
 "nbformat": 4,
 "nbformat_minor": 2
}
