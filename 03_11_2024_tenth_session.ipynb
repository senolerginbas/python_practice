{
 "cells": [
  {
   "cell_type": "markdown",
   "metadata": {},
   "source": [
    "## NESTED IF\n",
    "\n",
    "When a condition is dependent on a prior condition, and not considered until a prior condition is met, these are called nested conditions.\n",
    "Consider the following scenario:\n",
    "- A company wants to hire a power bi analyst with at least one year of experience in data analysis or power bi analysis, and a machine learning engineer with at least one year of experience as data scientist. or a company wants to hire a female nlp engineer with at least 2 years of experience.\n",
    "Nested if conditionals in Python refer to the situation where one if statement is embedded within another if statement.\n",
    "Whenever we are dealing with nested if conditionals in Python, it's very common to face challenges, especially when handling complex logic or multiple conditions.What should we do to get through difficult situations:\n",
    "1. Test Incrementally: Test your code incrementally as you build it. Start with simple cases to verify that each condition behaves as expected, then gradually introduce more complex scenarios.\n",
    "2. Break Down the Problem: Start by breaking down the problem into smaller, more manageable parts. Understand each condition and its purpose within the nested structure.\n",
    "3. Visualize the Logic: Visual aids like flowcharts or diagrams can help you visualize the flow of the nested conditionals. You can draw out the conditions and their relationships to better understand the logic."
   ]
  },
  {
   "cell_type": "markdown",
   "metadata": {},
   "source": [
    "1. - Take a number from the user.\n",
    "2. - If this number is divisible by 3, print \"Tech\".\n",
    "3. - If divisible by 5, print \"Pro\".\n",
    "4. - If divisible by both 5 and 3, print \"Techpro\".\n",
    "5. - Write a Python code that prints the number itself if it doesn't satisfy any of these conditions."
   ]
  },
  {
   "cell_type": "code",
   "execution_count": null,
   "metadata": {},
   "outputs": [],
   "source": [
    "x = int(input(\"Please provide a number.\"))\n",
    "if x % 3 == 0:\n",
    "    print(\"Tech\")\n",
    "elif x % 5 == 0:\n",
    "    print(\"Pro\")\n",
    "elif x % 3 == 0 and x % 5 == 0:\n",
    "    print(\"TechPro\")\n",
    "else:\n",
    "    print(x)"
   ]
  },
  {
   "cell_type": "code",
   "execution_count": 18,
   "metadata": {},
   "outputs": [
    {
     "name": "stdout",
     "output_type": "stream",
     "text": [
      "TechPro\n"
     ]
    }
   ],
   "source": [
    "x = int(input(\"Please provide a number.\"))\n",
    "if x % 3 == 0 and x % 5 !=0 :\n",
    "    print(\"Tech\")\n",
    "elif x % 5 == 0 and x % 3 !=0 :\n",
    "    print(\"Pro\")\n",
    "elif x % 3 == 0 and x % 5 == 0:\n",
    "    print(\"TechPro\")\n",
    "else:\n",
    "    print(x)"
   ]
  },
  {
   "cell_type": "code",
   "execution_count": 21,
   "metadata": {},
   "outputs": [
    {
     "name": "stdout",
     "output_type": "stream",
     "text": [
      "TechPro\n"
     ]
    }
   ],
   "source": [
    "x = int(input(\"Please provide a number.\"))\n",
    "if x % 3 == 0 and x % 5 == 0:\n",
    "    print(\"TechPro\")\n",
    "elif x % 5 == 0:\n",
    "    print(\"Pro\")\n",
    "elif x % 3 == 0:\n",
    "    print(\"Tech\")\n",
    "else:\n",
    "    print(x)"
   ]
  },
  {
   "cell_type": "code",
   "execution_count": 24,
   "metadata": {},
   "outputs": [
    {
     "name": "stdout",
     "output_type": "stream",
     "text": [
      "Techpro\n"
     ]
    }
   ],
   "source": [
    "x = int(input(\"Please provide a number.\"))\n",
    "if x % 3 == 0:\n",
    "    if x % 5 == 0:\n",
    "        print(\"Techpro\")\n",
    "    else:\n",
    "        print(\"Tech\")\n",
    "elif x % 5 == 0:\n",
    "    print(\"Pro\")\n",
    "else:\n",
    "    print(x)\n"
   ]
  },
  {
   "cell_type": "code",
   "execution_count": 34,
   "metadata": {},
   "outputs": [
    {
     "name": "stdout",
     "output_type": "stream",
     "text": [
      "Please give the age as numericals\n"
     ]
    },
    {
     "ename": "TypeError",
     "evalue": "'<' not supported between instances of 'str' and 'int'",
     "output_type": "error",
     "traceback": [
      "\u001b[1;31m---------------------------------------------------------------------------\u001b[0m",
      "\u001b[1;31mTypeError\u001b[0m                                 Traceback (most recent call last)",
      "Cell \u001b[1;32mIn[34], line 6\u001b[0m\n\u001b[0;32m      4\u001b[0m \u001b[38;5;28;01melse\u001b[39;00m:\n\u001b[0;32m      5\u001b[0m     \u001b[38;5;28mprint\u001b[39m(\u001b[38;5;124m\"\u001b[39m\u001b[38;5;124mPlease give the age as numericals\u001b[39m\u001b[38;5;124m\"\u001b[39m)\n\u001b[1;32m----> 6\u001b[0m \u001b[38;5;28;01mif\u001b[39;00m \u001b[43mage\u001b[49m\u001b[43m \u001b[49m\u001b[38;5;241;43m<\u001b[39;49m\u001b[43m \u001b[49m\u001b[38;5;241;43m18\u001b[39;49m:\n\u001b[0;32m      7\u001b[0m     \u001b[38;5;28mprint\u001b[39m(\u001b[38;5;124m\"\u001b[39m\u001b[38;5;124mYou are a teenager.\u001b[39m\u001b[38;5;124m\"\u001b[39m)\n\u001b[0;32m      8\u001b[0m \u001b[38;5;28;01melif\u001b[39;00m \u001b[38;5;241m18\u001b[39m \u001b[38;5;241m<\u001b[39m\u001b[38;5;241m=\u001b[39m age \u001b[38;5;241m<\u001b[39m\u001b[38;5;241m=\u001b[39m\u001b[38;5;241m40\u001b[39m:\n",
      "\u001b[1;31mTypeError\u001b[0m: '<' not supported between instances of 'str' and 'int'"
     ]
    }
   ],
   "source": [
    "age = input(\"Hi, Welcome to our age categorization program.\\n How old are you\")\n",
    "if age.isnumeric():\n",
    "    age = int(age)\n",
    "else:\n",
    "    print(\"Please give the age as numericals\")\n",
    "if age < 18:\n",
    "    print(\"You are a teenager.\")\n",
    "elif 18 <= age <=40:\n",
    "    print(\"You are an adult.\")\n",
    "elif 40 < age <= 55:\n",
    "    print(\"You are an experienced person.\")\n",
    "elif 55 < age:\n",
    "    print(\"Enjoy the retirement\")"
   ]
  },
  {
   "cell_type": "code",
   "execution_count": 36,
   "metadata": {},
   "outputs": [
    {
     "name": "stdout",
     "output_type": "stream",
     "text": [
      "Please give the age as numericals\n"
     ]
    }
   ],
   "source": [
    "age = input(\"Hi, Welcome to our age categorization program.\\n How old are you\")\n",
    "if age.isnumeric():\n",
    "    age = int(age)\n",
    "    if age < 18:\n",
    "        print(\"You are a teenager.\")\n",
    "    elif 18 <= age <=40:\n",
    "        print(\"You are an adult.\")\n",
    "    elif 40 < age <= 55:\n",
    "        print(\"You are an experienced person.\")\n",
    "    elif 55 < age:\n",
    "        print(\"Enjoy the retirement\")\n",
    "else:\n",
    "    print(\"Please give the age as numericals\")\n"
   ]
  },
  {
   "cell_type": "code",
   "execution_count": 38,
   "metadata": {},
   "outputs": [
    {
     "name": "stdout",
     "output_type": "stream",
     "text": [
      "You are a teenager.\n"
     ]
    }
   ],
   "source": [
    "age = input(\"Hi, Welcome to our age categorization program.\\n How old are you\")\n",
    "if age.isalpha():\n",
    "    print(\"Please give the age as numericals\")\n",
    "else:\n",
    "    age = int(age)\n",
    "    if age < 18:\n",
    "        print(\"You are a teenager.\")\n",
    "    elif 18 <= age <=40:\n",
    "        print(\"You are an adult.\")\n",
    "    elif 40 < age <= 55:\n",
    "        print(\"You are an experienced person.\")\n",
    "    elif 55 < age:\n",
    "        print(\"Enjoy the retirement\")"
   ]
  },
  {
   "cell_type": "code",
   "execution_count": 43,
   "metadata": {},
   "outputs": [
    {
     "name": "stdout",
     "output_type": "stream",
     "text": [
      "Enjoy the retirement\n"
     ]
    }
   ],
   "source": [
    "age = input(\"Hi, Welcome to our age categorization program.\\n How old are you\")\n",
    "if age.isalpha():\n",
    "    print(\"Please give the age as numericals\")\n",
    "else:\n",
    "    age = int(age)\n",
    "    if age <= 0:\n",
    "        print(\"Invalid Age. Please provide age in positive numerical.\")\n",
    "    elif age >= 100:\n",
    "        print(\"Please stay in the range(1-99)\")\n",
    "    else:\n",
    "        if age < 18:\n",
    "            print(\"You are a teenager.\")\n",
    "        elif 18 <= age <=40:\n",
    "            print(\"You are an adult.\")\n",
    "        elif 40 < age <= 55:\n",
    "            print(\"You are an experienced person.\")\n",
    "        elif 55 < age:\n",
    "            print(\"Enjoy the retirement\")\n"
   ]
  },
  {
   "cell_type": "code",
   "execution_count": 46,
   "metadata": {},
   "outputs": [
    {
     "ename": "ValueError",
     "evalue": "invalid literal for int() with base 10: 'twenty five'",
     "output_type": "error",
     "traceback": [
      "\u001b[1;31m---------------------------------------------------------------------------\u001b[0m",
      "\u001b[1;31mValueError\u001b[0m                                Traceback (most recent call last)",
      "Cell \u001b[1;32mIn[46], line 5\u001b[0m\n\u001b[0;32m      3\u001b[0m     \u001b[38;5;28mprint\u001b[39m(\u001b[38;5;124m\"\u001b[39m\u001b[38;5;124mPlease give the age as numericals\u001b[39m\u001b[38;5;124m\"\u001b[39m)\n\u001b[0;32m      4\u001b[0m \u001b[38;5;28;01melse\u001b[39;00m:\n\u001b[1;32m----> 5\u001b[0m     age \u001b[38;5;241m=\u001b[39m \u001b[38;5;28;43mint\u001b[39;49m\u001b[43m(\u001b[49m\u001b[43mage\u001b[49m\u001b[43m)\u001b[49m\n\u001b[0;32m      6\u001b[0m     \u001b[38;5;28;01mif\u001b[39;00m age \u001b[38;5;241m<\u001b[39m\u001b[38;5;241m=\u001b[39m \u001b[38;5;241m0\u001b[39m:\n\u001b[0;32m      7\u001b[0m         \u001b[38;5;28mprint\u001b[39m(\u001b[38;5;124m\"\u001b[39m\u001b[38;5;124mInvalid Age. Please provide age in positive numerical.\u001b[39m\u001b[38;5;124m\"\u001b[39m)\n",
      "\u001b[1;31mValueError\u001b[0m: invalid literal for int() with base 10: 'twenty five'"
     ]
    }
   ],
   "source": [
    "age = input(\"Hi, Welcome to our age categorization program.\\n How old are you\")\n",
    "if age.isalpha():\n",
    "    print(\"Please give the age as numericals\")\n",
    "else:\n",
    "    age = int(age)\n",
    "    if age <= 0:\n",
    "        print(\"Invalid Age. Please provide age in positive numerical.\")\n",
    "    elif len(str(age)) > 2:\n",
    "        print(\"Please stay in the range(1-99)\")\n",
    "    else:\n",
    "        if age < 18:\n",
    "            print(\"You are a teenager.\")\n",
    "        elif 18 <= age <=40:\n",
    "            print(\"You are an adult.\")\n",
    "        elif 40 < age <= 55:\n",
    "            print(\"You are an experienced person.\")\n",
    "        elif 55 < age:\n",
    "            print(\"Enjoy the retirement\")\n"
   ]
  },
  {
   "cell_type": "code",
   "execution_count": 66,
   "metadata": {},
   "outputs": [
    {
     "ename": "ValueError",
     "evalue": "invalid literal for int() with base 10: ''",
     "output_type": "error",
     "traceback": [
      "\u001b[1;31m---------------------------------------------------------------------------\u001b[0m",
      "\u001b[1;31mValueError\u001b[0m                                Traceback (most recent call last)",
      "Cell \u001b[1;32mIn[66], line 7\u001b[0m\n\u001b[0;32m      5\u001b[0m     \u001b[38;5;28mprint\u001b[39m(\u001b[38;5;124m\"\u001b[39m\u001b[38;5;124mPlease give the age as numericals\u001b[39m\u001b[38;5;124m\"\u001b[39m)\n\u001b[0;32m      6\u001b[0m \u001b[38;5;28;01melse\u001b[39;00m:\n\u001b[1;32m----> 7\u001b[0m     age \u001b[38;5;241m=\u001b[39m \u001b[38;5;28;43mint\u001b[39;49m\u001b[43m(\u001b[49m\u001b[43mage\u001b[49m\u001b[43m)\u001b[49m\n\u001b[0;32m      8\u001b[0m     \u001b[38;5;28;01mif\u001b[39;00m age \u001b[38;5;241m<\u001b[39m\u001b[38;5;241m=\u001b[39m \u001b[38;5;241m0\u001b[39m:\n\u001b[0;32m      9\u001b[0m         \u001b[38;5;28mprint\u001b[39m(\u001b[38;5;124m\"\u001b[39m\u001b[38;5;124mInvalid Age. Please provide age in positive numerical.\u001b[39m\u001b[38;5;124m\"\u001b[39m)\n",
      "\u001b[1;31mValueError\u001b[0m: invalid literal for int() with base 10: ''"
     ]
    }
   ],
   "source": [
    "age = input(\"Hi, Welcome to our age categorization program.\\n How old are you\")\n",
    "age = age.replace(\" \",\"\") # as strings are immutables.\n",
    "\n",
    "if age.isalpha():\n",
    "    print(\"Please give the age as numericals\")\n",
    "else:\n",
    "    age = int(age)\n",
    "    if age <= 0:\n",
    "        print(\"Invalid Age. Please provide age in positive numerical.\")\n",
    "    elif len(str(age)) > 2:\n",
    "        print(\"Please stay in the range(1-99)\")\n",
    "    else:\n",
    "        if age < 18:\n",
    "            print(\"You are a teenager.\")\n",
    "        elif 18 <= age <=40:\n",
    "            print(\"You are an adult.\")\n",
    "        elif 40 < age <= 55:\n",
    "            print(\"You are an experienced person.\")\n",
    "        elif 55 < age:\n",
    "            print(\"Enjoy the retirement\")"
   ]
  },
  {
   "cell_type": "code",
   "execution_count": null,
   "metadata": {},
   "outputs": [],
   "source": [
    "'\"25\"'"
   ]
  },
  {
   "cell_type": "markdown",
   "metadata": {},
   "source": [
    "## LIST()"
   ]
  },
  {
   "cell_type": "markdown",
   "metadata": {},
   "source": [
    "we will talk about lists, tuples, sets, and dictionaries; most used collection type. Collection type can have any type of data. \n",
    "characteristics of lists:\n",
    "- ordered.\n",
    "- **mutable;** unlike strings; can change the value without assigning.\n",
    "- **iterable;** can reach any element with indexing and slicing.\n",
    "- heterogeneous.\n",
    "\n",
    "A Python List is a built-in, ordered, mutable collection of elements or items. Each item in a list can be of any data type, including numbers, strings, or other objects like tuples, dictionaries, or even other lists. Lists are versatile and widely used in Python for tasks like data manipulation, organizing, and storage. They are created using square brackets [] with items separated by commas, like this:"
   ]
  },
  {
   "cell_type": "code",
   "execution_count": 2,
   "metadata": {},
   "outputs": [
    {
     "data": {
      "text/plain": [
       "[2, 3.4, False, 'Hello', []]"
      ]
     },
     "execution_count": 2,
     "metadata": {},
     "output_type": "execute_result"
    }
   ],
   "source": [
    "[2, 3.4, False, \"Hello\", []]"
   ]
  },
  {
   "cell_type": "code",
   "execution_count": 3,
   "metadata": {},
   "outputs": [
    {
     "data": {
      "text/plain": [
       "[]"
      ]
     },
     "execution_count": 3,
     "metadata": {},
     "output_type": "execute_result"
    }
   ],
   "source": [
    "[] # first way of creating an empty list.append\n",
    "list()"
   ]
  },
  {
   "cell_type": "code",
   "execution_count": 4,
   "metadata": {},
   "outputs": [
    {
     "data": {
      "text/plain": [
       "[1, 23, 7.98, 'Hello', True]"
      ]
     },
     "execution_count": 4,
     "metadata": {},
     "output_type": "execute_result"
    }
   ],
   "source": [
    "list1 = [1, 23, 7.98, \"Hello\", True]\n",
    "list1"
   ]
  },
  {
   "cell_type": "code",
   "execution_count": 5,
   "metadata": {},
   "outputs": [
    {
     "name": "stdout",
     "output_type": "stream",
     "text": [
      "[1, 23, 7.98, 'Hello', True]\n"
     ]
    }
   ],
   "source": [
    "print(list1)"
   ]
  },
  {
   "cell_type": "code",
   "execution_count": 6,
   "metadata": {},
   "outputs": [
    {
     "data": {
      "text/plain": [
       "['A', 'h', 'm', 'a', 'd']"
      ]
     },
     "execution_count": 6,
     "metadata": {},
     "output_type": "execute_result"
    }
   ],
   "source": [
    "list(\"Ahmad\") # the data written inside a list function, should be iterable."
   ]
  },
  {
   "cell_type": "code",
   "execution_count": 7,
   "metadata": {},
   "outputs": [
    {
     "ename": "TypeError",
     "evalue": "'int' object is not iterable",
     "output_type": "error",
     "traceback": [
      "\u001b[1;31m---------------------------------------------------------------------------\u001b[0m",
      "\u001b[1;31mTypeError\u001b[0m                                 Traceback (most recent call last)",
      "Cell \u001b[1;32mIn[7], line 1\u001b[0m\n\u001b[1;32m----> 1\u001b[0m \u001b[38;5;28;43mlist\u001b[39;49m\u001b[43m(\u001b[49m\u001b[38;5;241;43m342\u001b[39;49m\u001b[43m)\u001b[49m\n",
      "\u001b[1;31mTypeError\u001b[0m: 'int' object is not iterable"
     ]
    }
   ],
   "source": [
    "list(342)"
   ]
  },
  {
   "cell_type": "code",
   "execution_count": 8,
   "metadata": {},
   "outputs": [
    {
     "data": {
      "text/plain": [
       "['M', 'e', 'r', 'h', 'a', 'b', 'a']"
      ]
     },
     "execution_count": 8,
     "metadata": {},
     "output_type": "execute_result"
    }
   ],
   "source": [
    "liste1 = list(\"Merhaba\")\n",
    "liste1"
   ]
  },
  {
   "cell_type": "code",
   "execution_count": 9,
   "metadata": {},
   "outputs": [
    {
     "data": {
      "text/plain": [
       "['M', 'e', 'r', 'h', 'a', 'b', 'a']"
      ]
     },
     "execution_count": 9,
     "metadata": {},
     "output_type": "execute_result"
    }
   ],
   "source": [
    "liste1"
   ]
  },
  {
   "cell_type": "code",
   "execution_count": 10,
   "metadata": {},
   "outputs": [
    {
     "data": {
      "text/plain": [
       "7"
      ]
     },
     "execution_count": 10,
     "metadata": {},
     "output_type": "execute_result"
    }
   ],
   "source": [
    "len(liste1)"
   ]
  },
  {
   "cell_type": "code",
   "execution_count": 11,
   "metadata": {},
   "outputs": [
    {
     "data": {
      "text/plain": [
       "['techpro']"
      ]
     },
     "execution_count": 11,
     "metadata": {},
     "output_type": "execute_result"
    }
   ],
   "source": [
    "liste2 = [\"techpro\"]\n",
    "liste2"
   ]
  },
  {
   "cell_type": "code",
   "execution_count": 12,
   "metadata": {},
   "outputs": [
    {
     "data": {
      "text/plain": [
       "['techpro', 4, 6.7, True]"
      ]
     },
     "execution_count": 12,
     "metadata": {},
     "output_type": "execute_result"
    }
   ],
   "source": [
    "liste2 = [\"techpro\", 4, 6.7, True]\n",
    "liste2"
   ]
  },
  {
   "cell_type": "code",
   "execution_count": null,
   "metadata": {},
   "outputs": [],
   "source": []
  },
  {
   "cell_type": "code",
   "execution_count": 13,
   "metadata": {},
   "outputs": [
    {
     "data": {
      "text/plain": [
       "4"
      ]
     },
     "execution_count": 13,
     "metadata": {},
     "output_type": "execute_result"
    }
   ],
   "source": [
    "len(liste2)"
   ]
  },
  {
   "cell_type": "code",
   "execution_count": 14,
   "metadata": {},
   "outputs": [
    {
     "data": {
      "text/plain": [
       "list"
      ]
     },
     "execution_count": 14,
     "metadata": {},
     "output_type": "execute_result"
    }
   ],
   "source": [
    "type(liste2)"
   ]
  },
  {
   "cell_type": "code",
   "execution_count": 15,
   "metadata": {},
   "outputs": [
    {
     "name": "stdout",
     "output_type": "stream",
     "text": [
      "['123', 56, 9.8, False, True]\n",
      "<class 'list'>\n",
      "5\n"
     ]
    }
   ],
   "source": [
    "liste3 = [\"123\", 56, 9.8, False, True]\n",
    "print(liste3)\n",
    "print(type(liste3))\n",
    "print(len(liste3))"
   ]
  },
  {
   "cell_type": "code",
   "execution_count": 16,
   "metadata": {},
   "outputs": [
    {
     "data": {
      "text/plain": [
       "1"
      ]
     },
     "execution_count": 16,
     "metadata": {},
     "output_type": "execute_result"
    }
   ],
   "source": [
    "liste4 = [\"Ahmad, Mustafa, Osman, Ekrem, Enes\"]\n",
    "len(liste4)"
   ]
  },
  {
   "cell_type": "code",
   "execution_count": 17,
   "metadata": {},
   "outputs": [
    {
     "data": {
      "text/plain": [
       "7"
      ]
     },
     "execution_count": 17,
     "metadata": {},
     "output_type": "execute_result"
    }
   ],
   "source": [
    "liste5 = [\"Ahmad\", \"Mustafa\", 67, \"Osman\", \"Ekrem\", \"Enes\", \"Leo\"]\n",
    "len(liste5)"
   ]
  },
  {
   "cell_type": "code",
   "execution_count": 31,
   "metadata": {},
   "outputs": [
    {
     "data": {
      "text/plain": [
       "[1, 2, 6, 8]"
      ]
     },
     "execution_count": 31,
     "metadata": {},
     "output_type": "execute_result"
    }
   ],
   "source": [
    "list =[1,2,6,8,11]\n",
    "list.pop()\n",
    "list"
   ]
  },
  {
   "cell_type": "code",
   "execution_count": 20,
   "metadata": {},
   "outputs": [
    {
     "ename": "ValueError",
     "evalue": "list.remove(x): x not in list",
     "output_type": "error",
     "traceback": [
      "\u001b[1;31m---------------------------------------------------------------------------\u001b[0m",
      "\u001b[1;31mValueError\u001b[0m                                Traceback (most recent call last)",
      "Cell \u001b[1;32mIn[20], line 3\u001b[0m\n\u001b[0;32m      1\u001b[0m \u001b[38;5;66;03m#list.insert(23,56)\u001b[39;00m\n\u001b[1;32m----> 3\u001b[0m \u001b[38;5;28;43mlist\u001b[39;49m\u001b[38;5;241;43m.\u001b[39;49m\u001b[43mremove\u001b[49m\u001b[43m(\u001b[49m\u001b[38;5;241;43m56\u001b[39;49m\u001b[43m)\u001b[49m\n\u001b[0;32m      4\u001b[0m \u001b[38;5;28mlist\u001b[39m\u001b[38;5;241m.\u001b[39mpop(\u001b[38;5;241m1\u001b[39m)\n",
      "\u001b[1;31mValueError\u001b[0m: list.remove(x): x not in list"
     ]
    }
   ],
   "source": [
    "#list.insert(23,56)\n",
    "\n",
    "list.remove(56)\n",
    "list.pop(1)"
   ]
  }
 ],
 "metadata": {
  "kernelspec": {
   "display_name": "Python 3",
   "language": "python",
   "name": "python3"
  },
  "language_info": {
   "codemirror_mode": {
    "name": "ipython",
    "version": 3
   },
   "file_extension": ".py",
   "mimetype": "text/x-python",
   "name": "python",
   "nbconvert_exporter": "python",
   "pygments_lexer": "ipython3",
   "version": "3.10.4"
  }
 },
 "nbformat": 4,
 "nbformat_minor": 2
}
