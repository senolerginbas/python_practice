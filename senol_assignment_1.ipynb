{
 "cells": [
  {
   "cell_type": "markdown",
   "metadata": {},
   "source": [
    "1 - Take two inputs from the user. If these inputs are integers, print their product."
   ]
  },
  {
   "cell_type": "code",
   "execution_count": 1,
   "metadata": {},
   "outputs": [
    {
     "name": "stdout",
     "output_type": "stream",
     "text": [
      "The product of 45 and 6 is 270\n"
     ]
    }
   ],
   "source": [
    "\n",
    "input_1 = input(\"Please enter the first number: \")\n",
    "input_2 = input(\"Please enter the second number: \")\n",
    "\n",
    "\n",
    "num1 = int(input_1) \n",
    "num2 = int(input_2)\n",
    "\n",
    "print(\"The product of\", num1, \"and\", num2, \"is\", num1 * num2)\n"
   ]
  },
  {
   "cell_type": "markdown",
   "metadata": {},
   "source": [
    "2 - Ask the user for a number. If the number is odd, print twice its value; if even, print its square."
   ]
  },
  {
   "cell_type": "code",
   "execution_count": 20,
   "metadata": {},
   "outputs": [
    {
     "name": "stdout",
     "output_type": "stream",
     "text": [
      "36\n"
     ]
    }
   ],
   "source": [
    "\n",
    "number_input = input(\"Please enter a number: \")\n",
    "\n",
    "\n",
    "number = int(number_input)\n",
    "    \n",
    "    \n",
    "if number % 2 == 0:\n",
    "        \n",
    "        print(number**2)\n",
    "else:   print(number * 2)\n"
   ]
  },
  {
   "cell_type": "markdown",
   "metadata": {},
   "source": [
    "3 - Ask the user for two integers. Write an algorithm that returns True if the numbers are equal or if the difference between the numbers is a multiple of 5. Otherwise, it should return False."
   ]
  },
  {
   "cell_type": "code",
   "execution_count": 26,
   "metadata": {},
   "outputs": [
    {
     "name": "stdout",
     "output_type": "stream",
     "text": [
      "False\n"
     ]
    }
   ],
   "source": [
    "input_1 = input(\"Please enter the first number: \")\n",
    "input_2 = input(\"Please enter the second number: \")\n",
    "\n",
    "\n",
    "num1 = int(input_1) \n",
    "num2 = int(input_2)\n",
    "if num1 == num2 or abs(num1-num2)% 5 == 0:\n",
    "        print(True)\n",
    "else :\n",
    "        print(False) "
   ]
  },
  {
   "cell_type": "markdown",
   "metadata": {},
   "source": [
    "4 - Ask the user for their exam score. Print the corresponding letter grade. Remember to indicate that scores entered outside the range of 0-100 are invalid.\n",
    "\n",
    "- For scores between 80 and 100, print \"A\".\n",
    "- For scores between 65 and 79, print \"B\".\n",
    "- For scores between 55 and 64, print \"C\".\n",
    "- For scores between 35 and 54, print \"D\".\n",
    "- For scores between 0 and 34, print \"F\"."
   ]
  },
  {
   "cell_type": "code",
   "execution_count": 29,
   "metadata": {},
   "outputs": [
    {
     "name": "stdout",
     "output_type": "stream",
     "text": [
      "Invalid score. Please enter a score between 0 and 100.\n"
     ]
    }
   ],
   "source": [
    "# Ask the user for their exam score\n",
    "score_input = input(\"Please enter your exam score: \")\n",
    "\n",
    "\n",
    "score = int(score_input)\n",
    "    \n",
    "   \n",
    "if 0 <= score <= 100:\n",
    "       \n",
    "    if 80 <= score <= 100:\n",
    "            print(\"A\")\n",
    "    elif 65 <= score <= 79:\n",
    "            print(\"B\")\n",
    "    elif 55 <= score <= 64:\n",
    "            print(\"C\")\n",
    "    elif 35 <= score <= 54:\n",
    "            print(\"D\")\n",
    "    else:\n",
    "            print(\"F\")\n",
    "else:\n",
    "        \n",
    "        print(\"Invalid score. Please enter a score between 0 and 100.\")\n"
   ]
  },
  {
   "cell_type": "markdown",
   "metadata": {},
   "source": [
    "5 - Ask the user to enter a value in seconds. Print the entered seconds in terms of hours, minutes, and seconds.\n",
    "\n",
    "For example: \n",
    "- If the user enters 19520 seconds, the output should be \"5 hours, 25 minutes, 20 seconds\"."
   ]
  },
  {
   "cell_type": "code",
   "execution_count": 35,
   "metadata": {},
   "outputs": [
    {
     "name": "stdout",
     "output_type": "stream",
     "text": [
      "0 hours, 11 minutes, 6 seconds\n"
     ]
    }
   ],
   "source": [
    "\n",
    "seconds_input = input(\"Please enter the time in seconds: \")\n",
    "\n",
    "\n",
    "total_seconds = abs(int(seconds_input))\n",
    "    \n",
    "    # Calculate hours, minutes, and seconds\n",
    "hours = total_seconds // 3600  # 3600 seconds in an hour\n",
    "minutes = (total_seconds % 3600) // 60  # remainder from hours divided by 60\n",
    "seconds = total_seconds % 60  # remainder from minutes\n",
    "    \n",
    "    # Print the result\n",
    "print(\"{} hours, {} minutes, {} seconds\".format(hours, minutes, seconds))\n",
    "\n",
    " \n",
    "  \n"
   ]
  }
 ],
 "metadata": {
  "kernelspec": {
   "display_name": "base",
   "language": "python",
   "name": "python3"
  },
  "language_info": {
   "codemirror_mode": {
    "name": "ipython",
    "version": 3
   },
   "file_extension": ".py",
   "mimetype": "text/x-python",
   "name": "python",
   "nbconvert_exporter": "python",
   "pygments_lexer": "ipython3",
   "version": "3.10.4"
  },
  "orig_nbformat": 4
 },
 "nbformat": 4,
 "nbformat_minor": 2
}
