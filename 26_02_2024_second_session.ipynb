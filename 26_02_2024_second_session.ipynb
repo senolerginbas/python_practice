{
 "cells": [
  {
   "cell_type": "code",
   "execution_count": 11,
   "metadata": {},
   "outputs": [
    {
     "name": "stdout",
     "output_type": "stream",
     "text": [
      " nnn\n"
     ]
    }
   ],
   "source": [
    "print(\"\"\" nnn\"\"\")\n"
   ]
  },
  {
   "cell_type": "code",
   "execution_count": 12,
   "metadata": {},
   "outputs": [
    {
     "data": {
      "text/plain": [
       "'print'"
      ]
     },
     "execution_count": 12,
     "metadata": {},
     "output_type": "execute_result"
    }
   ],
   "source": [
    "\"print\"\"\"\"\"\"\""
   ]
  },
  {
   "cell_type": "code",
   "execution_count": 13,
   "metadata": {},
   "outputs": [
    {
     "name": "stdout",
     "output_type": "stream",
     "text": [
      "hi hope you are enjoying the classone \n"
     ]
    }
   ],
   "source": [
    "print(\"hi hope you are enjoying the class\"'one ')"
   ]
  },
  {
   "cell_type": "code",
   "execution_count": null,
   "metadata": {},
   "outputs": [],
   "source": []
  },
  {
   "cell_type": "markdown",
   "metadata": {},
   "source": [
    "### PEP 8 RULES\n"
   ]
  },
  {
   "cell_type": "markdown",
   "metadata": {},
   "source": []
  },
  {
   "cell_type": "code",
   "execution_count": 14,
   "metadata": {},
   "outputs": [
    {
     "ename": "NameError",
     "evalue": "name 'PRINT' is not defined",
     "output_type": "error",
     "traceback": [
      "\u001b[1;31m---------------------------------------------------------------------------\u001b[0m",
      "\u001b[1;31mNameError\u001b[0m                                 Traceback (most recent call last)",
      "Cell \u001b[1;32mIn[14], line 2\u001b[0m\n\u001b[0;32m      1\u001b[0m \u001b[38;5;241m3\u001b[39m\u001b[38;5;241m+\u001b[39m\u001b[38;5;241m5\u001b[39m\u001b[38;5;66;03m# ADD SPACE\u001b[39;00m\n\u001b[1;32m----> 2\u001b[0m \u001b[43mPRINT\u001b[49m(\u001b[38;5;124m\"\"\"\u001b[39m\u001b[38;5;124m HI 12343HK KLDFGL;S FDGKLSDFSFEGJLSDFGJ\u001b[39m\n\u001b[0;32m      3\u001b[0m \u001b[38;5;124m       GBDKFLGJLFKGJLDFS FDKLJHSDLGJS;\u001b[39m\n\u001b[0;32m      4\u001b[0m \u001b[38;5;124m       FKLGHSD;LFGJLSDFGJK FL;SDGJDSL;FGJKDSL;FGJ \u001b[39m\u001b[38;5;124m\"\"\"\u001b[39m)\n",
      "\u001b[1;31mNameError\u001b[0m: name 'PRINT' is not defined"
     ]
    }
   ],
   "source": [
    "3+5# ADD SPACE\n",
    "PRINT(\"\"\" HI 12343HK KLDFGL;S FDGKLSDFSFEGJLSDFGJ\n",
    "       GBDKFLGJLFKGJLDFS FDKLJHSDLGJS;\n",
    "       FKLGHSD;LFGJLSDFGJK FL;SDGJDSL;FGJKDSL;FGJ \"\"\")"
   ]
  },
  {
   "cell_type": "code",
   "execution_count": null,
   "metadata": {},
   "outputs": [
    {
     "name": "stdout",
     "output_type": "stream",
     "text": [
      "hi\n"
     ]
    }
   ],
   "source": [
    "print(\"hi\")"
   ]
  },
  {
   "cell_type": "code",
   "execution_count": null,
   "metadata": {},
   "outputs": [],
   "source": []
  },
  {
   "cell_type": "markdown",
   "metadata": {},
   "source": [
    "### write\n"
   ]
  },
  {
   "cell_type": "markdown",
   "metadata": {},
   "source": [
    "# write"
   ]
  },
  {
   "cell_type": "markdown",
   "metadata": {},
   "source": [
    "### write"
   ]
  },
  {
   "cell_type": "code",
   "execution_count": null,
   "metadata": {},
   "outputs": [
    {
     "name": "stdout",
     "output_type": "stream",
     "text": [
      "hi\n"
     ]
    }
   ],
   "source": [
    "print(input(2))"
   ]
  },
  {
   "cell_type": "markdown",
   "metadata": {},
   "source": []
  },
  {
   "cell_type": "markdown",
   "metadata": {},
   "source": []
  },
  {
   "cell_type": "code",
   "execution_count": 17,
   "metadata": {},
   "outputs": [
    {
     "name": "stdout",
     "output_type": "stream",
     "text": [
      "\n"
     ]
    }
   ],
   "source": [
    "print(input(1))"
   ]
  },
  {
   "cell_type": "code",
   "execution_count": 32,
   "metadata": {},
   "outputs": [
    {
     "name": "stdout",
     "output_type": "stream",
     "text": [
      "1573296582400 1573296636480\n"
     ]
    }
   ],
   "source": [
    "L1 = [1,8,9,66,6]\n",
    "L1.insert(3,5)\n",
    "L2=L1.copy()\n",
    "print(id(L2),id(L1))\n"
   ]
  },
  {
   "cell_type": "code",
   "execution_count": 37,
   "metadata": {},
   "outputs": [],
   "source": [
    "L1=[1,6,9,77]\n",
    "L1[-1:-3:-2]\n",
    "L1.pop(3)\n",
    "del L1[1]\n"
   ]
  },
  {
   "cell_type": "code",
   "execution_count": 41,
   "metadata": {},
   "outputs": [
    {
     "data": {
      "text/plain": [
       "[]"
      ]
     },
     "execution_count": 41,
     "metadata": {},
     "output_type": "execute_result"
    }
   ],
   "source": [
    "L1=[1,6,9,9,33]\n",
    "L1.remove(9)\n",
    "L1.clear()\n",
    "L1"
   ]
  },
  {
   "cell_type": "code",
   "execution_count": 53,
   "metadata": {},
   "outputs": [
    {
     "data": {
      "text/plain": [
       "['aa', 'c', '6', '-9']"
      ]
     },
     "execution_count": 53,
     "metadata": {},
     "output_type": "execute_result"
    }
   ],
   "source": [
    "l1 = [\"aa\",\"c\",'6','-9']\n",
    "sorted(l1)\n",
    "l1\n"
   ]
  },
  {
   "cell_type": "code",
   "execution_count": 54,
   "metadata": {},
   "outputs": [
    {
     "data": {
      "text/plain": [
       "['ali', 'veli', 'deli']"
      ]
     },
     "execution_count": 54,
     "metadata": {},
     "output_type": "execute_result"
    }
   ],
   "source": [
    "L1= input(\"enter names\").split()\n",
    "L1"
   ]
  },
  {
   "cell_type": "code",
   "execution_count": 62,
   "metadata": {},
   "outputs": [
    {
     "name": "stdout",
     "output_type": "stream",
     "text": [
      "1065\n"
     ]
    }
   ],
   "source": [
    "work_hours = [int(x) for x in input(\"enter the number of hours in entier week\").split()]\n",
    "print(sum(work_hours)*15)"
   ]
  },
  {
   "cell_type": "code",
   "execution_count": 64,
   "metadata": {},
   "outputs": [
    {
     "name": "stdout",
     "output_type": "stream",
     "text": [
      "[3, 9, 5, 6, 8]\n"
     ]
    }
   ],
   "source": [
    "l1 = [3,9,5,3,9,3,6,8,5]\n",
    "l2 =[]\n",
    "for x in l1:\n",
    "        if x not in l2:\n",
    "                l2.append(x)\n",
    "print(l2)"
   ]
  },
  {
   "cell_type": "code",
   "execution_count": 66,
   "metadata": {},
   "outputs": [
    {
     "name": "stdout",
     "output_type": "stream",
     "text": [
      "[3, 9, 5, 6, 8]\n"
     ]
    }
   ],
   "source": [
    "l1 = [3,9,5,3,9,3,6,8,5,8,8,8]\n",
    "\n",
    "for x in l1:\n",
    "        if x  in l1:\n",
    "                l1.__delitem__\n",
    "print(l2)"
   ]
  },
  {
   "cell_type": "code",
   "execution_count": 69,
   "metadata": {},
   "outputs": [
    {
     "name": "stdout",
     "output_type": "stream",
     "text": [
      "36459"
     ]
    }
   ],
   "source": [
    "l1 = [3,6,4,5,9]\n",
    "for x in l1:\n",
    "    print(x,end='')"
   ]
  }
 ],
 "metadata": {
  "kernelspec": {
   "display_name": "Python 3",
   "language": "python",
   "name": "python3"
  },
  "language_info": {
   "codemirror_mode": {
    "name": "ipython",
    "version": 3
   },
   "file_extension": ".py",
   "mimetype": "text/x-python",
   "name": "python",
   "nbconvert_exporter": "python",
   "pygments_lexer": "ipython3",
   "version": "3.10.4"
  }
 },
 "nbformat": 4,
 "nbformat_minor": 2
}
