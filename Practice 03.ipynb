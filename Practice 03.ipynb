{
 "cells": [
  {
   "cell_type": "markdown",
   "id": "16215fe4",
   "metadata": {},
   "source": [
    "determine a person's clothing size based on their height and weight?\n",
    "\n",
    "- take their height and weight as input in meters and kg respectively.\n",
    "- xs for shorter than 1.5m and less than 50kgs\n",
    "- s for shorter than 1.6m and less than 65kgs\n",
    "- m for shorter than 1.7m and less than 80 kgs\n",
    "- l for shorter than 1.8m and less than 95 kgs\n",
    "- xl for other"
   ]
  },
  {
   "cell_type": "markdown",
   "id": "b580cdba",
   "metadata": {},
   "source": [
    "different levels of insurance coverage based on their age and pre-existing medical conditions.\n",
    "- take the age and pre_ex_med_con as input\n",
    "- basic coverage for those younger than 18\n",
    "- standard for those between 18 and 65, with no pre_ex_med_con\n",
    "- senior for those over 65 and with no pre_ex_med_con\n",
    "- maybe eligible for specialized coverage. should consult the insurance advisor"
   ]
  },
  {
   "cell_type": "markdown",
   "id": "e32c914b",
   "metadata": {},
   "source": [
    "we determine the shipping method and cost for a customer's order based on their location and order total in an e-commerce platform. "
   ]
  },
  {
   "cell_type": "markdown",
   "id": "71c31d2a",
   "metadata": {},
   "source": [
    "we determine a marketing strategy based on a customer's purchasing behavior and demographic information. "
   ]
  }
 ],
 "metadata": {
  "hide_input": false,
  "kernelspec": {
   "display_name": "Python 3 (ipykernel)",
   "language": "python",
   "name": "python3"
  },
  "language_info": {
   "codemirror_mode": {
    "name": "ipython",
    "version": 3
   },
   "file_extension": ".py",
   "mimetype": "text/x-python",
   "name": "python",
   "nbconvert_exporter": "python",
   "pygments_lexer": "ipython3",
   "version": "3.11.5"
  },
  "nbTranslate": {
   "displayLangs": [
    "*"
   ],
   "hotkey": "alt-t",
   "langInMainMenu": true,
   "sourceLang": "en",
   "targetLang": "fr",
   "useGoogleTranslate": true
  },
  "toc": {
   "base_numbering": 1,
   "nav_menu": {},
   "number_sections": true,
   "sideBar": true,
   "skip_h1_title": false,
   "title_cell": "Table of Contents",
   "title_sidebar": "Contents",
   "toc_cell": false,
   "toc_position": {},
   "toc_section_display": true,
   "toc_window_display": false
  },
  "varInspector": {
   "cols": {
    "lenName": 16,
    "lenType": 16,
    "lenVar": 40
   },
   "kernels_config": {
    "python": {
     "delete_cmd_postfix": "",
     "delete_cmd_prefix": "del ",
     "library": "var_list.py",
     "varRefreshCmd": "print(var_dic_list())"
    },
    "r": {
     "delete_cmd_postfix": ") ",
     "delete_cmd_prefix": "rm(",
     "library": "var_list.r",
     "varRefreshCmd": "cat(var_dic_list()) "
    }
   },
   "types_to_exclude": [
    "module",
    "function",
    "builtin_function_or_method",
    "instance",
    "_Feature"
   ],
   "window_display": false
  }
 },
 "nbformat": 4,
 "nbformat_minor": 5
}
