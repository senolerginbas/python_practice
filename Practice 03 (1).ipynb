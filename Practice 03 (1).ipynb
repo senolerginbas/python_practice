{
 "cells": [
  {
   "cell_type": "markdown",
   "id": "16215fe4",
   "metadata": {},
   "source": [
    "determine a person's clothing size based on their height and weight?\n",
    "\n",
    "- take their height and weight as input in meters and kg respectively.\n",
    "- xs for shorter than 1.5m and less than 50kgs\n",
    "- s for shorter than 1.6m and less than 65kgs\n",
    "- m for shorter than 1.7m and less than 80 kgs\n",
    "- l for shorter than 1.8m and less than 95 kgs\n",
    "- xl for other"
   ]
  },
  {
   "cell_type": "code",
   "execution_count": 11,
   "id": "f111cb78",
   "metadata": {},
   "outputs": [
    {
     "name": "stdout",
     "output_type": "stream",
     "text": [
      "You might need an L Size\n"
     ]
    }
   ],
   "source": [
    "height = float(input(\"Enter your height in meters: \"))\n",
    "weight = float(input(\"Enter your weight in kgs: \"))\n",
    "\n",
    "if height < 0 and weight < 0:\n",
    "    print(\"Invalid input! Please provide a valid height and weight.\")\n",
    "else:\n",
    "    if height < 1.5 and weight < 50:\n",
    "        print(\"You might need an XS Size\")\n",
    "    elif height < 1.6 and weight < 65:\n",
    "        print(\"You might need an S Size\")\n",
    "    elif height < 1.7 and weight < 80:\n",
    "        print(\"You might need an M Size\")\n",
    "    elif height < 1.8 and weight < 95:\n",
    "        print(\"You might need an L Size\")\n",
    "    else:\n",
    "        print(\"You might need an XL Size\")"
   ]
  },
  {
   "cell_type": "code",
   "execution_count": 14,
   "id": "1e51d65e",
   "metadata": {},
   "outputs": [
    {
     "name": "stdout",
     "output_type": "stream",
     "text": [
      "Invalid input! Please provide a valid height and weight.\n"
     ]
    }
   ],
   "source": [
    "height = float(input(\"Enter your height in meters: \"))\n",
    "weight = float(input(\"Enter your weight in kgs: \"))\n",
    "\n",
    "if height < 0 or weight < 0:\n",
    "    print(\"Invalid input! Please provide a valid height and weight.\")\n",
    "else:\n",
    "    if height < 1.5 and weight < 50:\n",
    "        print(\"You might need an XS Size\")\n",
    "    elif height < 1.6 and weight < 65:\n",
    "        print(\"You might need an S Size\")\n",
    "    elif height < 1.7 and weight < 80:\n",
    "        print(\"You might need an M Size\")\n",
    "    elif height < 1.8 and weight < 95:\n",
    "        print(\"You might need an L Size\")\n",
    "    else:\n",
    "        print(\"You might need an XL Size\")"
   ]
  },
  {
   "cell_type": "code",
   "execution_count": 16,
   "id": "24e00bfc",
   "metadata": {},
   "outputs": [
    {
     "name": "stdout",
     "output_type": "stream",
     "text": [
      "Invalid input! Please provide a valid height and weight.\n"
     ]
    }
   ],
   "source": [
    "height = float(input(\"Enter your height in meters: \"))\n",
    "weight = float(input(\"Enter your weight in kgs: \"))\n",
    "\n",
    "if height > 0 and weight > 0:\n",
    "    if height < 1.5 and weight < 50:\n",
    "        print(\"You might need an XS Size\")\n",
    "    elif height < 1.6 and weight < 65:\n",
    "        print(\"You might need an S Size\")\n",
    "    elif height < 1.7 and weight < 80:\n",
    "        print(\"You might need an M Size\")\n",
    "    elif height < 1.8 and weight < 95:\n",
    "        print(\"You might need an L Size\")\n",
    "    else:\n",
    "        print(\"You might need an XL Size\")\n",
    "else:\n",
    "    print(\"Invalid input! Please provide a valid height and weight.\")\n",
    "    "
   ]
  },
  {
   "cell_type": "code",
   "execution_count": 17,
   "id": "6e11ee71",
   "metadata": {},
   "outputs": [
    {
     "name": "stdout",
     "output_type": "stream",
     "text": [
      "You might need an M Size\n"
     ]
    }
   ],
   "source": [
    "height = float(input(\"Enter your height in meters: \"))\n",
    "weight = float(input(\"Enter your weight in kgs: \"))\n",
    "\n",
    "if height > 0 and weight > 0:\n",
    "    if height <= 1.5 and weight < 50:\n",
    "        print(\"You might need an XS Size\")\n",
    "    elif 1.5 < height <= 1.6 and 45 < weight <= 65:\n",
    "        print(\"You might need an S Size\")\n",
    "    elif 1.6 < height <= 1.7 and 60 < weight <= 80:\n",
    "        print(\"You might need an M Size\")\n",
    "    elif 1.7 < height <= 1.8 and 75 < weight <= 95:\n",
    "        print(\"You might need an L Size\")\n",
    "    else:\n",
    "        print(\"You might need an XL Size\")\n",
    "else:\n",
    "    print(\"Invalid input! Please provide a valid height and weight.\")"
   ]
  },
  {
   "cell_type": "markdown",
   "id": "b580cdba",
   "metadata": {},
   "source": [
    "different levels of insurance coverage based on their age and pre-existing medical conditions.\n",
    "- take the age and pre_ex_med_con as input\n",
    "- basic coverage for those younger than 18\n",
    "- standard for those between 18 and 65, with no pre_ex_med_con\n",
    "- senior for those over 65 and with no pre_ex_med_con\n",
    "- maybe eligible for specialized coverage. should consult the insurance advisor"
   ]
  },
  {
   "cell_type": "code",
   "execution_count": 28,
   "id": "29ae810b",
   "metadata": {},
   "outputs": [
    {
     "name": "stdout",
     "output_type": "stream",
     "text": [
      "You might be eligible for specialized coverage. Please consult the insurance advisor.\n"
     ]
    }
   ],
   "source": [
    "age = int(input(\"How old are you?\"))\n",
    "pre_ex_med = input(\"Do you have a pre existing medical condition.(yes/no): \").lower()\n",
    "\n",
    "if age > 0:\n",
    "    if age < 18:\n",
    "        print(\"You are eligible for basic coverage.\")\n",
    "    elif 18 <= age < 65 and pre_ex_med == \"no\":\n",
    "        print(\"You are eligible for standard coverage\")\n",
    "    elif age >=65 and pre_ex_med == \"no\":\n",
    "        print(\"You are eligible for senior coverage\")\n",
    "    else:\n",
    "        print(\"You might be eligible for specialized coverage. Please consult the insurance advisor.\")\n",
    "else:\n",
    "    print(\"Invalid age!! Please enter a valid age.\")"
   ]
  },
  {
   "cell_type": "markdown",
   "id": "e32c914b",
   "metadata": {},
   "source": [
    "we determine the shipping method and cost for a customer's order based on their location and order total in an e-commerce platform. "
   ]
  },
  {
   "cell_type": "markdown",
   "id": "71c31d2a",
   "metadata": {},
   "source": [
    "we determine a marketing strategy based on a customer's purchasing behavior and demographic information. "
   ]
  }
 ],
 "metadata": {
  "hide_input": false,
  "kernelspec": {
   "display_name": "Python 3 (ipykernel)",
   "language": "python",
   "name": "python3"
  },
  "language_info": {
   "codemirror_mode": {
    "name": "ipython",
    "version": 3
   },
   "file_extension": ".py",
   "mimetype": "text/x-python",
   "name": "python",
   "nbconvert_exporter": "python",
   "pygments_lexer": "ipython3",
   "version": "3.11.1"
  },
  "nbTranslate": {
   "displayLangs": [
    "*"
   ],
   "hotkey": "alt-t",
   "langInMainMenu": true,
   "sourceLang": "en",
   "targetLang": "fr",
   "useGoogleTranslate": true
  },
  "toc": {
   "base_numbering": 1,
   "nav_menu": {},
   "number_sections": true,
   "sideBar": true,
   "skip_h1_title": false,
   "title_cell": "Table of Contents",
   "title_sidebar": "Contents",
   "toc_cell": false,
   "toc_position": {},
   "toc_section_display": true,
   "toc_window_display": false
  },
  "varInspector": {
   "cols": {
    "lenName": 16,
    "lenType": 16,
    "lenVar": 40
   },
   "kernels_config": {
    "python": {
     "delete_cmd_postfix": "",
     "delete_cmd_prefix": "del ",
     "library": "var_list.py",
     "varRefreshCmd": "print(var_dic_list())"
    },
    "r": {
     "delete_cmd_postfix": ") ",
     "delete_cmd_prefix": "rm(",
     "library": "var_list.r",
     "varRefreshCmd": "cat(var_dic_list()) "
    }
   },
   "types_to_exclude": [
    "module",
    "function",
    "builtin_function_or_method",
    "instance",
    "_Feature"
   ],
   "window_display": false
  }
 },
 "nbformat": 4,
 "nbformat_minor": 5
}
