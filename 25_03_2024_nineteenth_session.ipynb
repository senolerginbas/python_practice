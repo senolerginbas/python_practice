{
 "cells": [
  {
   "cell_type": "code",
   "execution_count": 4,
   "metadata": {},
   "outputs": [
    {
     "name": "stdout",
     "output_type": "stream",
     "text": [
      "name: ahmad, occupation: data scientist, age: 25\n",
      "name: enes , occupation: ML Eng        , age: 27\n",
      "name: Osman, occupation: NLP Eng       , age: 26\n"
     ]
    }
   ],
   "source": [
    "[(\"ahmad\", \"data scientist\",25),(\"enes\",\"ML Eng\", 27), (\"Osman\",\"NLP Eng\", 26)]\n",
    "for name, occ, age in [(\"ahmad\", \"data scientist\",25),(\"enes\",\"ML Eng\", 27), (\"Osman\",\"NLP Eng\", 26)]:\n",
    "    print(f\"name: {name:5}, occupation: {occ:14}, age: {age}\")"
   ]
  },
  {
   "cell_type": "code",
   "execution_count": 5,
   "metadata": {},
   "outputs": [
    {
     "ename": "ValueError",
     "evalue": "not enough values to unpack (expected 3, got 2)",
     "output_type": "error",
     "traceback": [
      "\u001b[1;31m---------------------------------------------------------------------------\u001b[0m",
      "\u001b[1;31mValueError\u001b[0m                                Traceback (most recent call last)",
      "Cell \u001b[1;32mIn[5], line 1\u001b[0m\n\u001b[1;32m----> 1\u001b[0m \u001b[38;5;28;01mfor\u001b[39;00m name, occ, age \u001b[38;5;129;01min\u001b[39;00m [(\u001b[38;5;124m\"\u001b[39m\u001b[38;5;124menes\u001b[39m\u001b[38;5;124m\"\u001b[39m,\u001b[38;5;124m\"\u001b[39m\u001b[38;5;124mML Eng\u001b[39m\u001b[38;5;124m\"\u001b[39m), (\u001b[38;5;124m\"\u001b[39m\u001b[38;5;124mOsman\u001b[39m\u001b[38;5;124m\"\u001b[39m,\u001b[38;5;124m\"\u001b[39m\u001b[38;5;124mNLP Eng\u001b[39m\u001b[38;5;124m\"\u001b[39m)]:\n\u001b[0;32m      2\u001b[0m     \u001b[38;5;28mprint\u001b[39m(\u001b[38;5;124mf\u001b[39m\u001b[38;5;124m\"\u001b[39m\u001b[38;5;124mname: \u001b[39m\u001b[38;5;132;01m{\u001b[39;00mname\u001b[38;5;132;01m:\u001b[39;00m\u001b[38;5;124m5\u001b[39m\u001b[38;5;132;01m}\u001b[39;00m\u001b[38;5;124m, occupation: \u001b[39m\u001b[38;5;132;01m{\u001b[39;00mocc\u001b[38;5;132;01m:\u001b[39;00m\u001b[38;5;124m14\u001b[39m\u001b[38;5;132;01m}\u001b[39;00m\u001b[38;5;124m, age: \u001b[39m\u001b[38;5;132;01m{\u001b[39;00mage\u001b[38;5;132;01m}\u001b[39;00m\u001b[38;5;124m\"\u001b[39m)\n",
      "\u001b[1;31mValueError\u001b[0m: not enough values to unpack (expected 3, got 2)"
     ]
    }
   ],
   "source": [
    "for name, occ, age in [(\"enes\",\"ML Eng\"), (\"Osman\",\"NLP Eng\")]:\n",
    "    print(f\"name: {name:5}, occupation: {occ:14}, age: {age}\")"
   ]
  },
  {
   "cell_type": "code",
   "execution_count": 6,
   "metadata": {},
   "outputs": [
    {
     "name": "stdout",
     "output_type": "stream",
     "text": [
      "name: enes , occupation: ML Eng        , age: 26\n"
     ]
    },
    {
     "ename": "ValueError",
     "evalue": "not enough values to unpack (expected 3, got 2)",
     "output_type": "error",
     "traceback": [
      "\u001b[1;31m---------------------------------------------------------------------------\u001b[0m",
      "\u001b[1;31mValueError\u001b[0m                                Traceback (most recent call last)",
      "Cell \u001b[1;32mIn[6], line 1\u001b[0m\n\u001b[1;32m----> 1\u001b[0m \u001b[38;5;28;01mfor\u001b[39;00m name, occ, age \u001b[38;5;129;01min\u001b[39;00m [(\u001b[38;5;124m\"\u001b[39m\u001b[38;5;124menes\u001b[39m\u001b[38;5;124m\"\u001b[39m,\u001b[38;5;124m\"\u001b[39m\u001b[38;5;124mML Eng\u001b[39m\u001b[38;5;124m\"\u001b[39m, \u001b[38;5;241m26\u001b[39m), (\u001b[38;5;124m\"\u001b[39m\u001b[38;5;124mOsman\u001b[39m\u001b[38;5;124m\"\u001b[39m,\u001b[38;5;124m\"\u001b[39m\u001b[38;5;124mNLP Eng\u001b[39m\u001b[38;5;124m\"\u001b[39m)]:\n\u001b[0;32m      2\u001b[0m     \u001b[38;5;28mprint\u001b[39m(\u001b[38;5;124mf\u001b[39m\u001b[38;5;124m\"\u001b[39m\u001b[38;5;124mname: \u001b[39m\u001b[38;5;132;01m{\u001b[39;00mname\u001b[38;5;132;01m:\u001b[39;00m\u001b[38;5;124m5\u001b[39m\u001b[38;5;132;01m}\u001b[39;00m\u001b[38;5;124m, occupation: \u001b[39m\u001b[38;5;132;01m{\u001b[39;00mocc\u001b[38;5;132;01m:\u001b[39;00m\u001b[38;5;124m14\u001b[39m\u001b[38;5;132;01m}\u001b[39;00m\u001b[38;5;124m, age: \u001b[39m\u001b[38;5;132;01m{\u001b[39;00mage\u001b[38;5;132;01m}\u001b[39;00m\u001b[38;5;124m\"\u001b[39m)\n",
      "\u001b[1;31mValueError\u001b[0m: not enough values to unpack (expected 3, got 2)"
     ]
    }
   ],
   "source": [
    "for name, occ, age in [(\"enes\",\"ML Eng\", 26), (\"Osman\",\"NLP Eng\")]:\n",
    "    print(f\"name: {name:5}, occupation: {occ:14}, age: {age}\")"
   ]
  },
  {
   "cell_type": "code",
   "execution_count": 7,
   "metadata": {},
   "outputs": [
    {
     "ename": "ValueError",
     "evalue": "too many values to unpack (expected 2)",
     "output_type": "error",
     "traceback": [
      "\u001b[1;31m---------------------------------------------------------------------------\u001b[0m",
      "\u001b[1;31mValueError\u001b[0m                                Traceback (most recent call last)",
      "Cell \u001b[1;32mIn[7], line 1\u001b[0m\n\u001b[1;32m----> 1\u001b[0m \u001b[38;5;28;01mfor\u001b[39;00m name, occ \u001b[38;5;129;01min\u001b[39;00m [(\u001b[38;5;124m\"\u001b[39m\u001b[38;5;124menes\u001b[39m\u001b[38;5;124m\"\u001b[39m,\u001b[38;5;124m\"\u001b[39m\u001b[38;5;124mML Eng\u001b[39m\u001b[38;5;124m\"\u001b[39m, \u001b[38;5;241m26\u001b[39m), (\u001b[38;5;124m\"\u001b[39m\u001b[38;5;124mOsman\u001b[39m\u001b[38;5;124m\"\u001b[39m,\u001b[38;5;124m\"\u001b[39m\u001b[38;5;124mNLP Eng\u001b[39m\u001b[38;5;124m\"\u001b[39m)]:\n\u001b[0;32m      2\u001b[0m     \u001b[38;5;28mprint\u001b[39m(\u001b[38;5;124mf\u001b[39m\u001b[38;5;124m\"\u001b[39m\u001b[38;5;124mname: \u001b[39m\u001b[38;5;132;01m{\u001b[39;00mname\u001b[38;5;132;01m:\u001b[39;00m\u001b[38;5;124m5\u001b[39m\u001b[38;5;132;01m}\u001b[39;00m\u001b[38;5;124m, occupation: \u001b[39m\u001b[38;5;132;01m{\u001b[39;00mocc\u001b[38;5;132;01m:\u001b[39;00m\u001b[38;5;124m14\u001b[39m\u001b[38;5;132;01m}\u001b[39;00m\u001b[38;5;124m, age: \u001b[39m\u001b[38;5;132;01m{\u001b[39;00mage\u001b[38;5;132;01m}\u001b[39;00m\u001b[38;5;124m\"\u001b[39m)\n",
      "\u001b[1;31mValueError\u001b[0m: too many values to unpack (expected 2)"
     ]
    }
   ],
   "source": [
    "for name, occ in [(\"enes\",\"ML Eng\", 26), (\"Osman\",\"NLP Eng\")]:\n",
    "    print(f\"name: {name:5}, occupation: {occ:14}, age: {age}\")"
   ]
  },
  {
   "cell_type": "code",
   "execution_count": 23,
   "metadata": {},
   "outputs": [
    {
     "name": "stdout",
     "output_type": "stream",
     "text": [
      "name:    enes   , occupation: ML Eng        \n",
      "name:   Osman   , occupation: NLP Eng       \n"
     ]
    }
   ],
   "source": [
    "for name, occ, age in [(\"enes\",\"ML Eng\", 26), (\"Osman\",\"NLP Eng\", 24)]:\n",
    "    print(f\"name: {name:^10}, occupation: {occ:14}\")"
   ]
  },
  {
   "cell_type": "code",
   "execution_count": 10,
   "metadata": {},
   "outputs": [
    {
     "name": "stdout",
     "output_type": "stream",
     "text": [
      "not using the variables\n",
      "not using the variables\n"
     ]
    }
   ],
   "source": [
    "for name, occ, age in [(\"enes\",\"ML Eng\", 26), (\"Osman\",\"NLP Eng\", 24)]:\n",
    "    print(f\"not using the variables\")"
   ]
  },
  {
   "cell_type": "code",
   "execution_count": 11,
   "metadata": {},
   "outputs": [
    {
     "name": "stdout",
     "output_type": "stream",
     "text": [
      "not using the variable\n",
      "not using the variable\n",
      "not using the variable\n",
      "not using the variable\n",
      "not using the variable\n",
      "not using the variable\n",
      "not using the variable\n"
     ]
    }
   ],
   "source": [
    "for num in [1, 2, 3, 4, 5, 6, 7]:\n",
    "    print(\"not using the variable\")"
   ]
  },
  {
   "cell_type": "code",
   "execution_count": 24,
   "metadata": {},
   "outputs": [
    {
     "data": {
      "text/plain": [
       "' techpro  '"
      ]
     },
     "execution_count": 24,
     "metadata": {},
     "output_type": "execute_result"
    }
   ],
   "source": [
    "\"techpro\".center(10)"
   ]
  },
  {
   "cell_type": "code",
   "execution_count": 26,
   "metadata": {},
   "outputs": [
    {
     "data": {
      "text/plain": [
       "'   techpro'"
      ]
     },
     "execution_count": 26,
     "metadata": {},
     "output_type": "execute_result"
    }
   ],
   "source": [
    "\"techpro\".rjust(10)"
   ]
  },
  {
   "cell_type": "code",
   "execution_count": 27,
   "metadata": {},
   "outputs": [
    {
     "data": {
      "text/plain": [
       "'techpro   '"
      ]
     },
     "execution_count": 27,
     "metadata": {},
     "output_type": "execute_result"
    }
   ],
   "source": [
    "\"techpro\".ljust(10)"
   ]
  },
  {
   "cell_type": "code",
   "execution_count": null,
   "metadata": {},
   "outputs": [],
   "source": [
    "# don't run, infinite loop\n",
    "mylist = [\"infinite loop\"]\n",
    "\n",
    "for element in mylist:\n",
    "    print(element)\n",
    "    mylist.append(element)"
   ]
  },
  {
   "cell_type": "code",
   "execution_count": 30,
   "metadata": {},
   "outputs": [
    {
     "name": "stdout",
     "output_type": "stream",
     "text": [
      " 1 will run for fifty times\n",
      " 2 will run for fifty times\n",
      " 3 will run for fifty times\n",
      " 4 will run for fifty times\n",
      " 5 will run for fifty times\n",
      " 6 will run for fifty times\n",
      " 7 will run for fifty times\n",
      " 8 will run for fifty times\n",
      " 9 will run for fifty times\n",
      "10 will run for fifty times\n",
      "11 will run for fifty times\n",
      "12 will run for fifty times\n",
      "13 will run for fifty times\n",
      "14 will run for fifty times\n",
      "15 will run for fifty times\n",
      "16 will run for fifty times\n",
      "17 will run for fifty times\n",
      "18 will run for fifty times\n",
      "19 will run for fifty times\n",
      "20 will run for fifty times\n",
      "21 will run for fifty times\n",
      "22 will run for fifty times\n",
      "23 will run for fifty times\n",
      "24 will run for fifty times\n",
      "25 will run for fifty times\n",
      "26 will run for fifty times\n",
      "27 will run for fifty times\n",
      "28 will run for fifty times\n",
      "29 will run for fifty times\n",
      "30 will run for fifty times\n",
      "31 will run for fifty times\n",
      "32 will run for fifty times\n",
      "33 will run for fifty times\n",
      "34 will run for fifty times\n",
      "35 will run for fifty times\n",
      "36 will run for fifty times\n",
      "37 will run for fifty times\n",
      "38 will run for fifty times\n",
      "39 will run for fifty times\n",
      "40 will run for fifty times\n",
      "41 will run for fifty times\n",
      "42 will run for fifty times\n",
      "43 will run for fifty times\n",
      "44 will run for fifty times\n",
      "45 will run for fifty times\n",
      "46 will run for fifty times\n",
      "47 will run for fifty times\n",
      "48 will run for fifty times\n",
      "49 will run for fifty times\n",
      "50 will run for fifty times\n"
     ]
    }
   ],
   "source": [
    "for num in range(1, 51):\n",
    "    print(f\"{num:2} will run for fifty times\")"
   ]
  },
  {
   "cell_type": "markdown",
   "metadata": {},
   "source": [
    "ask the user for a number between 1 and 9, 9 included, and create a multiplication table for it."
   ]
  },
  {
   "cell_type": "code",
   "execution_count": 36,
   "metadata": {},
   "outputs": [
    {
     "name": "stdout",
     "output_type": "stream",
     "text": [
      "  0 x 5 : 0\n",
      "  1 x 5 : 5\n",
      "  2 x 5 : 10\n",
      "  3 x 5 : 15\n",
      "  4 x 5 : 20\n",
      "  5 x 5 : 25\n",
      "  6 x 5 : 30\n",
      "  7 x 5 : 35\n",
      "  8 x 5 : 40\n",
      "  9 x 5 : 45\n",
      " 10 x 5 : 50\n"
     ]
    }
   ],
   "source": [
    "x = int(input(\"please provide a number between 1 and 9\"))\n",
    "for i in range(11):\n",
    "    print(f\" {i:2} x {x} : {i * x}\")"
   ]
  },
  {
   "cell_type": "code",
   "execution_count": 37,
   "metadata": {},
   "outputs": [
    {
     "name": "stdout",
     "output_type": "stream",
     "text": [
      "You have not provided a number between 1 and 9\n"
     ]
    }
   ],
   "source": [
    "x = int(input(\"please provide a number between 1 and 9\"))\n",
    "if 1 <= x <= 9:\n",
    "    for i in range(11):\n",
    "        print(f\" {i:2} x {x} : {i * x}\")\n",
    "else:\n",
    "    print(\"You have not provided a number between 1 and 9\")"
   ]
  },
  {
   "cell_type": "code",
   "execution_count": 40,
   "metadata": {},
   "outputs": [
    {
     "name": "stdout",
     "output_type": "stream",
     "text": [
      "  0 x 5 : 0\n",
      "  1 x 5 : 5\n",
      "  2 x 5 : 10\n",
      "  3 x 5 : 15\n",
      "  4 x 5 : 20\n",
      "  5 x 5 : 25\n",
      "  6 x 5 : 30\n",
      "  7 x 5 : 35\n",
      "  8 x 5 : 40\n",
      "  9 x 5 : 45\n",
      " 10 x 5 : 50\n"
     ]
    }
   ],
   "source": [
    "while True:\n",
    "    x = int(input(\"please provide a number between 1 and 9\"))\n",
    "    if 1 <= x <= 9:\n",
    "        for i in range(11):\n",
    "            print(f\" {i:2} x {x} : {i * x}\")\n",
    "        break\n",
    "    else:\n",
    "        print(\"You have not provided a number between 1 and 9\")"
   ]
  },
  {
   "cell_type": "markdown",
   "metadata": {},
   "source": [
    "sum of numbers starting with 1 till 50 , both included."
   ]
  },
  {
   "cell_type": "code",
   "execution_count": 41,
   "metadata": {},
   "outputs": [
    {
     "data": {
      "text/plain": [
       "1275"
      ]
     },
     "execution_count": 41,
     "metadata": {},
     "output_type": "execute_result"
    }
   ],
   "source": [
    "sum(range(1, 51))"
   ]
  },
  {
   "cell_type": "code",
   "execution_count": 42,
   "metadata": {},
   "outputs": [
    {
     "name": "stdout",
     "output_type": "stream",
     "text": [
      "1275\n"
     ]
    }
   ],
   "source": [
    "x = 0\n",
    "for i in range(51):\n",
    "    x += i\n",
    "print(x)"
   ]
  },
  {
   "cell_type": "code",
   "execution_count": 43,
   "metadata": {},
   "outputs": [
    {
     "name": "stdout",
     "output_type": "stream",
     "text": [
      "50\n"
     ]
    }
   ],
   "source": [
    "for i in range(51):\n",
    "    x = 0\n",
    "    x += i\n",
    "print(x)\n"
   ]
  },
  {
   "cell_type": "code",
   "execution_count": 45,
   "metadata": {},
   "outputs": [
    {
     "data": {
      "text/plain": [
       "1275.0"
      ]
     },
     "execution_count": 45,
     "metadata": {},
     "output_type": "execute_result"
    }
   ],
   "source": [
    "# 1 - 50\n",
    "(50 * (50 + 1)) / 2"
   ]
  },
  {
   "cell_type": "code",
   "execution_count": 46,
   "metadata": {},
   "outputs": [
    {
     "data": {
      "text/plain": [
       "15"
      ]
     },
     "execution_count": 46,
     "metadata": {},
     "output_type": "execute_result"
    }
   ],
   "source": [
    "sum((1, 2, 3, 4, 5))"
   ]
  },
  {
   "cell_type": "code",
   "execution_count": 47,
   "metadata": {},
   "outputs": [
    {
     "data": {
      "text/plain": [
       "15"
      ]
     },
     "execution_count": 47,
     "metadata": {},
     "output_type": "execute_result"
    }
   ],
   "source": [
    "sum([1, 2, 3, 4, 5])"
   ]
  },
  {
   "cell_type": "code",
   "execution_count": 48,
   "metadata": {},
   "outputs": [
    {
     "data": {
      "text/plain": [
       "15"
      ]
     },
     "execution_count": 48,
     "metadata": {},
     "output_type": "execute_result"
    }
   ],
   "source": [
    "sum({1, 2, 3, 4, 5})"
   ]
  },
  {
   "cell_type": "code",
   "execution_count": 49,
   "metadata": {},
   "outputs": [
    {
     "data": {
      "text/plain": [
       "115"
      ]
     },
     "execution_count": 49,
     "metadata": {},
     "output_type": "execute_result"
    }
   ],
   "source": [
    "sum({1, 2, 3, 4, 5}, 100)"
   ]
  },
  {
   "cell_type": "code",
   "execution_count": 50,
   "metadata": {},
   "outputs": [
    {
     "data": {
      "text/plain": [
       "625"
      ]
     },
     "execution_count": 50,
     "metadata": {},
     "output_type": "execute_result"
    }
   ],
   "source": [
    "sum(range(1, 51, 2))"
   ]
  },
  {
   "cell_type": "code",
   "execution_count": 51,
   "metadata": {},
   "outputs": [
    {
     "data": {
      "text/plain": [
       "650"
      ]
     },
     "execution_count": 51,
     "metadata": {},
     "output_type": "execute_result"
    }
   ],
   "source": [
    "sum(range(2, 51, 2))"
   ]
  },
  {
   "cell_type": "code",
   "execution_count": null,
   "metadata": {},
   "outputs": [],
   "source": [
    "# find the sum of even and odd numbers between 1 and 50, both included using for loops."
   ]
  },
  {
   "cell_type": "code",
   "execution_count": 53,
   "metadata": {},
   "outputs": [
    {
     "name": "stdout",
     "output_type": "stream",
     "text": [
      "Sum of Even Numbers: 650\n",
      "Sum of Odd Numbers: 625\n"
     ]
    }
   ],
   "source": [
    "odd = 0\n",
    "even = 0\n",
    "for i in range(1,51):\n",
    "\tif i % 2 == 1:\n",
    "\t\todd += i\n",
    "\telse:\n",
    "\t\teven += i\n",
    "print(f\"Sum of Even Numbers: {even}\")\n",
    "print(f\"Sum of Odd Numbers: {odd}\")"
   ]
  },
  {
   "cell_type": "code",
   "execution_count": 54,
   "metadata": {},
   "outputs": [
    {
     "name": "stdout",
     "output_type": "stream",
     "text": [
      "Sum of Even Numbers: 650\n",
      "Sum of Odd Numbers: 625\n"
     ]
    }
   ],
   "source": [
    "odd = 0\n",
    "even = 0\n",
    "for i in range(1,51):\n",
    "\tif i % 2:\n",
    "\t\todd += i\n",
    "\telse:\n",
    "\t\teven += i\n",
    "print(f\"Sum of Even Numbers: {even}\")\n",
    "print(f\"Sum of Odd Numbers: {odd}\")"
   ]
  },
  {
   "cell_type": "markdown",
   "metadata": {},
   "source": [
    "#### break, continue"
   ]
  },
  {
   "cell_type": "code",
   "execution_count": 55,
   "metadata": {},
   "outputs": [
    {
     "data": {
      "text/plain": [
       "[1, 2, 3, 4, 5]"
      ]
     },
     "execution_count": 55,
     "metadata": {},
     "output_type": "execute_result"
    }
   ],
   "source": [
    "mylist = [1, 2, 3, 4, 5]\n",
    "mylist"
   ]
  },
  {
   "cell_type": "code",
   "execution_count": 56,
   "metadata": {},
   "outputs": [
    {
     "name": "stdout",
     "output_type": "stream",
     "text": [
      "1\n",
      "4\n"
     ]
    }
   ],
   "source": [
    "for i in mylist:\n",
    "    if i % 3 != 0:\n",
    "        print(i ** 2)\n",
    "    else:\n",
    "        break"
   ]
  },
  {
   "cell_type": "code",
   "execution_count": 58,
   "metadata": {},
   "outputs": [
    {
     "data": {
      "text/plain": [
       "[1, 2, 3, 4, 5]"
      ]
     },
     "execution_count": 58,
     "metadata": {},
     "output_type": "execute_result"
    }
   ],
   "source": [
    "mylist"
   ]
  },
  {
   "cell_type": "code",
   "execution_count": 57,
   "metadata": {},
   "outputs": [
    {
     "name": "stdout",
     "output_type": "stream",
     "text": [
      "1\n",
      "4\n",
      "16\n",
      "25\n"
     ]
    }
   ],
   "source": [
    "for i in mylist:\n",
    "    if i % 3 != 0:\n",
    "        print(i ** 2)\n",
    "    else:\n",
    "        continue"
   ]
  },
  {
   "cell_type": "code",
   "execution_count": null,
   "metadata": {},
   "outputs": [],
   "source": [
    "mlist = [1,15,2,36,5,89,45,62,52,71,30,56,45,95,61,48]"
   ]
  },
  {
   "cell_type": "code",
   "execution_count": 62,
   "metadata": {},
   "outputs": [
    {
     "name": "stdout",
     "output_type": "stream",
     "text": [
      "even list:  [2, 36, 62, 52, 30, 56, 48]\n",
      "odd list:  [1, 15, 5, 89, 45, 71, 45, 95, 61]\n"
     ]
    }
   ],
   "source": [
    "mlist = [1,15,2,36,5,89,45,62,52,71,30,56,45,95,61,48]\n",
    "even = []\n",
    "odd = []\n",
    "for i in mlist:\n",
    "\tif i % 2 == 0:\n",
    "\t\teven.append(i)\n",
    "\telse:\n",
    "\t\todd.append(i)\n",
    "print(\"even list: \",even)\n",
    "print(\"odd list: \",odd)"
   ]
  },
  {
   "cell_type": "code",
   "execution_count": 64,
   "metadata": {},
   "outputs": [
    {
     "name": "stdout",
     "output_type": "stream",
     "text": [
      "The product apple is added to your cart.\n",
      "The product eggs is added to your cart.\n",
      "The product banana is added to your cart.\n",
      "Thanks for shopping with us.\n",
      "The product you purchased are ['apple', 'eggs', 'banana']\n"
     ]
    }
   ],
   "source": [
    "# q for stop the shopping\n",
    "products = {1:\"apple\", 2:\"banana\", 3:\"cherries\", 4:\"eggs\", 5:\"tomatoes\"}\n",
    "\n",
    "basket = []\n",
    "\n",
    "while True:\n",
    "    x = input(\"Write the code for the products you want to buy, and press q for ending shopping.\")\n",
    "\n",
    "    if x != \"q\":\n",
    "        basket.append(products[int(x)])\n",
    "        print(f\"The product {basket[-1]} is added to your cart.\")\n",
    "    else:\n",
    "        print(\"Thanks for shopping with us.\")\n",
    "        print(f\"The product you purchased are {basket}\")\n",
    "        break"
   ]
  },
  {
   "cell_type": "code",
   "execution_count": 66,
   "metadata": {},
   "outputs": [
    {
     "name": "stdout",
     "output_type": "stream",
     "text": [
      "The product apple is added to your cart.\n",
      "The product cherries is added to your cart.\n"
     ]
    }
   ],
   "source": [
    "# q for stop the shopping\n",
    "products = {1:\"apple\", 2:\"banana\", 3:\"cherries\", 4:\"eggs\", 5:\"tomatoes\"}\n",
    "\n",
    "basket = []\n",
    "\n",
    "for i in products:\n",
    "    x = input(f\"Do you want to add {products[i]} to your cart. yes or no\").upper()\n",
    "\n",
    "    if x == \"YES\":\n",
    "        basket.append(products[i])\n",
    "        print(f\"The product {basket[-1]} is added to your cart.\")\n",
    "    else:\n",
    "        continue"
   ]
  },
  {
   "cell_type": "markdown",
   "metadata": {},
   "source": [
    "### zip()"
   ]
  },
  {
   "cell_type": "code",
   "execution_count": 67,
   "metadata": {},
   "outputs": [
    {
     "data": {
      "text/plain": [
       "range(1, 11)"
      ]
     },
     "execution_count": 67,
     "metadata": {},
     "output_type": "execute_result"
    }
   ],
   "source": [
    "range(1, 11)"
   ]
  },
  {
   "cell_type": "code",
   "execution_count": 68,
   "metadata": {},
   "outputs": [
    {
     "data": {
      "text/plain": [
       "[1, 2, 3, 4, 5, 6, 7, 8, 9, 10]"
      ]
     },
     "execution_count": 68,
     "metadata": {},
     "output_type": "execute_result"
    }
   ],
   "source": [
    "list(range(1, 11))"
   ]
  },
  {
   "cell_type": "code",
   "execution_count": 69,
   "metadata": {},
   "outputs": [
    {
     "data": {
      "text/plain": [
       "(1, 2, 3, 4, 5, 6, 7, 8, 9, 10)"
      ]
     },
     "execution_count": 69,
     "metadata": {},
     "output_type": "execute_result"
    }
   ],
   "source": [
    "tuple(range(1, 11))"
   ]
  },
  {
   "cell_type": "code",
   "execution_count": 70,
   "metadata": {},
   "outputs": [],
   "source": [
    "a = [\"apple\", \"banana\", \"lemon\"]\n",
    "b = [1, 2, 3]"
   ]
  },
  {
   "cell_type": "code",
   "execution_count": 71,
   "metadata": {},
   "outputs": [
    {
     "data": {
      "text/plain": [
       "<zip at 0x2571c27bd80>"
      ]
     },
     "execution_count": 71,
     "metadata": {},
     "output_type": "execute_result"
    }
   ],
   "source": [
    "zip(a, b)"
   ]
  },
  {
   "cell_type": "code",
   "execution_count": 72,
   "metadata": {},
   "outputs": [
    {
     "data": {
      "text/plain": [
       "[('apple', 1), ('banana', 2), ('lemon', 3)]"
      ]
     },
     "execution_count": 72,
     "metadata": {},
     "output_type": "execute_result"
    }
   ],
   "source": [
    "list(zip(a, b))"
   ]
  },
  {
   "cell_type": "code",
   "execution_count": 73,
   "metadata": {},
   "outputs": [
    {
     "data": {
      "text/plain": [
       "[(1, 'apple'), (2, 'banana'), (3, 'lemon')]"
      ]
     },
     "execution_count": 73,
     "metadata": {},
     "output_type": "execute_result"
    }
   ],
   "source": [
    "list(zip(b, a))"
   ]
  },
  {
   "cell_type": "code",
   "execution_count": 74,
   "metadata": {},
   "outputs": [
    {
     "data": {
      "text/plain": [
       "[('s', 's', 'e'), ('e', 'e', 'c'), ('n', 'n', 'e')]"
      ]
     },
     "execution_count": 74,
     "metadata": {},
     "output_type": "execute_result"
    }
   ],
   "source": [
    "x = \"senol\"\n",
    "y = \"senol erginbas\"\n",
    "z = \"ece\"\n",
    "\n",
    "list(zip(x, y, z))"
   ]
  },
  {
   "cell_type": "code",
   "execution_count": 75,
   "metadata": {},
   "outputs": [],
   "source": [
    "a = [\"apple\", \"banana\", \"lemon\", \"cherries\", \"orange\"]\n",
    "b = [1, 2, 3]"
   ]
  },
  {
   "cell_type": "code",
   "execution_count": 76,
   "metadata": {},
   "outputs": [
    {
     "data": {
      "text/plain": [
       "((1, 'apple'), (2, 'banana'), (3, 'lemon'))"
      ]
     },
     "execution_count": 76,
     "metadata": {},
     "output_type": "execute_result"
    }
   ],
   "source": [
    "tuple(zip(b, a))"
   ]
  },
  {
   "cell_type": "code",
   "execution_count": 77,
   "metadata": {},
   "outputs": [
    {
     "data": {
      "text/plain": [
       "{1: 'apple', 2: 'banana', 3: 'lemon'}"
      ]
     },
     "execution_count": 77,
     "metadata": {},
     "output_type": "execute_result"
    }
   ],
   "source": [
    "dict(zip(b, a))"
   ]
  },
  {
   "cell_type": "code",
   "execution_count": 78,
   "metadata": {},
   "outputs": [
    {
     "data": {
      "text/plain": [
       "{'apple': 1, 'banana': 2, 'lemon': 3}"
      ]
     },
     "execution_count": 78,
     "metadata": {},
     "output_type": "execute_result"
    }
   ],
   "source": [
    "dict(zip(a, b))"
   ]
  },
  {
   "cell_type": "code",
   "execution_count": 79,
   "metadata": {},
   "outputs": [
    {
     "data": {
      "text/plain": [
       "{('apple', 1), ('banana', 2), ('lemon', 3)}"
      ]
     },
     "execution_count": 79,
     "metadata": {},
     "output_type": "execute_result"
    }
   ],
   "source": [
    "set(zip(a, b))"
   ]
  },
  {
   "cell_type": "code",
   "execution_count": 80,
   "metadata": {},
   "outputs": [],
   "source": [
    "a = {\"apple\", \"banana\", \"lemon\", \"cherries\", \"orange\"}\n",
    "b = (1, 2, 3)"
   ]
  },
  {
   "cell_type": "code",
   "execution_count": 81,
   "metadata": {},
   "outputs": [
    {
     "data": {
      "text/plain": [
       "{'apple': 1, 'cherries': 2, 'banana': 3}"
      ]
     },
     "execution_count": 81,
     "metadata": {},
     "output_type": "execute_result"
    }
   ],
   "source": [
    "dict(zip(a,b))"
   ]
  },
  {
   "cell_type": "code",
   "execution_count": 91,
   "metadata": {},
   "outputs": [
    {
     "data": {
      "text/plain": [
       "{1: 'apple', 2: 'cherries', 3: 'banana'}"
      ]
     },
     "execution_count": 91,
     "metadata": {},
     "output_type": "execute_result"
    }
   ],
   "source": [
    "dict(zip(b, a))"
   ]
  },
  {
   "cell_type": "code",
   "execution_count": 82,
   "metadata": {},
   "outputs": [],
   "source": [
    "c = {\"name\":\"ahmad\", \"age\":25}\n",
    "d = [1, 2]"
   ]
  },
  {
   "cell_type": "code",
   "execution_count": 83,
   "metadata": {},
   "outputs": [
    {
     "data": {
      "text/plain": [
       "[(1, 'name'), (2, 'age')]"
      ]
     },
     "execution_count": 83,
     "metadata": {},
     "output_type": "execute_result"
    }
   ],
   "source": [
    "list(zip(d, c))"
   ]
  },
  {
   "cell_type": "code",
   "execution_count": 84,
   "metadata": {},
   "outputs": [
    {
     "data": {
      "text/plain": [
       "[(1, 'ahmad'), (2, 25)]"
      ]
     },
     "execution_count": 84,
     "metadata": {},
     "output_type": "execute_result"
    }
   ],
   "source": [
    "list(zip(d, c.values()))"
   ]
  },
  {
   "cell_type": "code",
   "execution_count": 90,
   "metadata": {},
   "outputs": [],
   "source": [
    "name = [\"elnur\", \"tahereh\",\"senol\",\"jalil\",\"fatima\", \"enes\", \"ekrem\", \"seda\"]\n",
    "course = (\"ds\", \"ds\", \"ml\", \"ai\", \"dl\")\n",
    "location = (\"azerbaijan\", \"greece\", \"canada\", \"india\", \"turkiye\")"
   ]
  },
  {
   "cell_type": "code",
   "execution_count": 89,
   "metadata": {},
   "outputs": [
    {
     "data": {
      "text/plain": [
       "[('elnur', 'ds', 'azerbaijan'),\n",
       " ('tahereh', 'ds', 'greece'),\n",
       " ('senol', 'ml', 'canada'),\n",
       " ('jalil', 'ai', 'india'),\n",
       " ('fatima', 'dl', 'turkiye')]"
      ]
     },
     "execution_count": 89,
     "metadata": {},
     "output_type": "execute_result"
    }
   ],
   "source": [
    "list(zip(name, course, location))"
   ]
  },
  {
   "cell_type": "code",
   "execution_count": 92,
   "metadata": {},
   "outputs": [
    {
     "data": {
      "text/plain": [
       "(('elnur', 'ds', 'azerbaijan'),\n",
       " ('tahereh', 'ds', 'greece'),\n",
       " ('senol', 'ml', 'canada'),\n",
       " ('jalil', 'ai', 'india'),\n",
       " ('fatima', 'dl', 'turkiye'))"
      ]
     },
     "execution_count": 92,
     "metadata": {},
     "output_type": "execute_result"
    }
   ],
   "source": [
    "tuple(zip(name, course, location))"
   ]
  },
  {
   "cell_type": "code",
   "execution_count": 93,
   "metadata": {},
   "outputs": [
    {
     "data": {
      "text/plain": [
       "{('elnur', 'ds', 'azerbaijan'),\n",
       " ('fatima', 'dl', 'turkiye'),\n",
       " ('jalil', 'ai', 'india'),\n",
       " ('senol', 'ml', 'canada'),\n",
       " ('tahereh', 'ds', 'greece')}"
      ]
     },
     "execution_count": 93,
     "metadata": {},
     "output_type": "execute_result"
    }
   ],
   "source": [
    "set(zip(name, course, location))"
   ]
  },
  {
   "cell_type": "code",
   "execution_count": 94,
   "metadata": {},
   "outputs": [
    {
     "ename": "ValueError",
     "evalue": "dictionary update sequence element #0 has length 3; 2 is required",
     "output_type": "error",
     "traceback": [
      "\u001b[1;31m---------------------------------------------------------------------------\u001b[0m",
      "\u001b[1;31mValueError\u001b[0m                                Traceback (most recent call last)",
      "Cell \u001b[1;32mIn[94], line 1\u001b[0m\n\u001b[1;32m----> 1\u001b[0m \u001b[38;5;28;43mdict\u001b[39;49m\u001b[43m(\u001b[49m\u001b[38;5;28;43mzip\u001b[39;49m\u001b[43m(\u001b[49m\u001b[43mname\u001b[49m\u001b[43m,\u001b[49m\u001b[43m \u001b[49m\u001b[43mcourse\u001b[49m\u001b[43m,\u001b[49m\u001b[43m \u001b[49m\u001b[43mlocation\u001b[49m\u001b[43m)\u001b[49m\u001b[43m)\u001b[49m\n",
      "\u001b[1;31mValueError\u001b[0m: dictionary update sequence element #0 has length 3; 2 is required"
     ]
    }
   ],
   "source": [
    "dict(zip(name, course, location))"
   ]
  },
  {
   "cell_type": "code",
   "execution_count": 95,
   "metadata": {},
   "outputs": [
    {
     "data": {
      "text/plain": [
       "{'elnur': 'ds', 'tahereh': 'ds', 'senol': 'ml', 'jalil': 'ai', 'fatima': 'dl'}"
      ]
     },
     "execution_count": 95,
     "metadata": {},
     "output_type": "execute_result"
    }
   ],
   "source": [
    "dict(zip(name, course))"
   ]
  },
  {
   "cell_type": "code",
   "execution_count": 96,
   "metadata": {},
   "outputs": [
    {
     "data": {
      "text/plain": [
       "[('elnur', 'ds', 'azerbaijan'),\n",
       " ('tahereh', 'ds', 'greece'),\n",
       " ('senol', 'ml', 'canada'),\n",
       " ('jalil', 'ai', 'india'),\n",
       " ('fatima', 'dl', 'turkiye')]"
      ]
     },
     "execution_count": 96,
     "metadata": {},
     "output_type": "execute_result"
    }
   ],
   "source": [
    "list(zip(name, course, location))\n"
   ]
  },
  {
   "cell_type": "code",
   "execution_count": 97,
   "metadata": {},
   "outputs": [
    {
     "name": "stdout",
     "output_type": "stream",
     "text": [
      "elnur, ds, azerbaijan\n",
      "tahereh, ds, greece\n",
      "senol, ml, canada\n",
      "jalil, ai, india\n",
      "fatima, dl, turkiye\n"
     ]
    }
   ],
   "source": [
    "for i, j, k in zip(name, course, location):\n",
    "    print(f\"{i}, {j}, {k}\")"
   ]
  },
  {
   "cell_type": "code",
   "execution_count": 98,
   "metadata": {},
   "outputs": [
    {
     "name": "stdout",
     "output_type": "stream",
     "text": [
      "elnur   , ds, azerbaijan\n",
      "tahereh , ds, greece\n",
      "senol   , ml, canada\n",
      "jalil   , ai, india\n",
      "fatima  , dl, turkiye\n"
     ]
    }
   ],
   "source": [
    "for i, j, k in zip(name, course, location):\n",
    "    print(f\"{i:8}, {j}, {k}\")"
   ]
  },
  {
   "cell_type": "code",
   "execution_count": 99,
   "metadata": {},
   "outputs": [
    {
     "ename": "ValueError",
     "evalue": "not enough values to unpack (expected 3, got 2)",
     "output_type": "error",
     "traceback": [
      "\u001b[1;31m---------------------------------------------------------------------------\u001b[0m",
      "\u001b[1;31mValueError\u001b[0m                                Traceback (most recent call last)",
      "Cell \u001b[1;32mIn[99], line 1\u001b[0m\n\u001b[1;32m----> 1\u001b[0m \u001b[38;5;28;01mfor\u001b[39;00m i, j, k \u001b[38;5;129;01min\u001b[39;00m \u001b[38;5;28mzip\u001b[39m(name, course):\n\u001b[0;32m      2\u001b[0m     \u001b[38;5;28mprint\u001b[39m(\u001b[38;5;124mf\u001b[39m\u001b[38;5;124m\"\u001b[39m\u001b[38;5;132;01m{\u001b[39;00mi\u001b[38;5;132;01m:\u001b[39;00m\u001b[38;5;124m8\u001b[39m\u001b[38;5;132;01m}\u001b[39;00m\u001b[38;5;124m, \u001b[39m\u001b[38;5;132;01m{\u001b[39;00mj\u001b[38;5;132;01m}\u001b[39;00m\u001b[38;5;124m, \u001b[39m\u001b[38;5;132;01m{\u001b[39;00mk\u001b[38;5;132;01m}\u001b[39;00m\u001b[38;5;124m\"\u001b[39m)\n",
      "\u001b[1;31mValueError\u001b[0m: not enough values to unpack (expected 3, got 2)"
     ]
    }
   ],
   "source": [
    "for i, j, k in zip(name, course):\n",
    "    print(f\"{i:8}, {j}, {k}\")"
   ]
  },
  {
   "cell_type": "code",
   "execution_count": null,
   "metadata": {},
   "outputs": [],
   "source": []
  },
  {
   "cell_type": "code",
   "execution_count": 3,
   "metadata": {},
   "outputs": [
    {
     "data": {
      "text/plain": [
       "[(5, 'data'), (6, 'science'), (7, 'is'), (8, 'the'), (9, 'best')]"
      ]
     },
     "execution_count": 3,
     "metadata": {},
     "output_type": "execute_result"
    }
   ],
   "source": [
    "list1 = [\"data\", \"science\", \"is\", \"the\", \"best\"]\n",
    "\n",
    "enumerate(list1,len(list1))\n",
    "list(enumerate(list1,len(list1)))"
   ]
  }
 ],
 "metadata": {
  "kernelspec": {
   "display_name": "Python 3",
   "language": "python",
   "name": "python3"
  },
  "language_info": {
   "codemirror_mode": {
    "name": "ipython",
    "version": 3
   },
   "file_extension": ".py",
   "mimetype": "text/x-python",
   "name": "python",
   "nbconvert_exporter": "python",
   "pygments_lexer": "ipython3",
   "version": "3.10.4"
  }
 },
 "nbformat": 4,
 "nbformat_minor": 2
}
