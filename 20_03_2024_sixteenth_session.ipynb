{
 "cells": [
  {
   "cell_type": "code",
   "execution_count": 2,
   "metadata": {},
   "outputs": [
    {
     "name": "stdout",
     "output_type": "stream",
     "text": [
      "20 is not a correct guess, try again\n",
      "50 is not a correct guess, try again\n"
     ]
    }
   ],
   "source": [
    "x = int(input(\"suggest a number between 1 and 100, in 10 increments.\"))\n",
    "\n",
    "while x < 90:\n",
    "    print(f\"{x} is not a correct guess, try again\")\n",
    "    x = int(input(\"try with another number\"))"
   ]
  },
  {
   "cell_type": "code",
   "execution_count": 3,
   "metadata": {},
   "outputs": [
    {
     "name": "stdout",
     "output_type": "stream",
     "text": [
      "your guess is 25. Increase your guess\n",
      "your guess is 40. Increase your guess\n",
      "your guess is 70. Lower your guess\n",
      "your guess is 50. Increase your guess\n",
      "your guess is 60. Lower your guess\n",
      "your guess is 55. You are correct. Congratulations\n"
     ]
    }
   ],
   "source": [
    "number = 55\n",
    "\n",
    "y = True\n",
    "\n",
    "while y:\n",
    "    guess = int(input(\"guess the number i am thinking of, between 1 and 100\"))\n",
    "    if guess < number:\n",
    "        print(f\"your guess is {guess}. Increase your guess\")\n",
    "    elif guess > number:\n",
    "        print(f\"your guess is {guess}. Lower your guess\")\n",
    "    else:\n",
    "        print(f\"your guess is {guess}. You are correct. Congratulations\")\n",
    "        y = False"
   ]
  },
  {
   "cell_type": "code",
   "execution_count": 4,
   "metadata": {},
   "outputs": [
    {
     "name": "stdout",
     "output_type": "stream",
     "text": [
      "your guess is 40. Increase your guess\n"
     ]
    }
   ],
   "source": [
    "number = 55\n",
    "\n",
    "y = True\n",
    "\n",
    "while y:\n",
    "    guess = int(input(\"guess the number i am thinking of, between 1 and 100\"))\n",
    "    if guess < number:\n",
    "        print(f\"your guess is {guess}. Increase your guess\")\n",
    "    elif guess > number:\n",
    "        print(f\"your guess is {guess}. Lower your guess\")\n",
    "    else:\n",
    "        print(f\"your guess is {guess}. You are correct. Congratulations\")\n",
    "    y = False"
   ]
  },
  {
   "cell_type": "code",
   "execution_count": 5,
   "metadata": {},
   "outputs": [
    {
     "name": "stdout",
     "output_type": "stream",
     "text": [
      "your guess is 59. Lower your guess\n",
      "your guess is 40. Increase your guess\n",
      "your guess is 55. You are correct. Congratulations\n"
     ]
    },
    {
     "ename": "ValueError",
     "evalue": "invalid literal for int() with base 10: ''",
     "output_type": "error",
     "traceback": [
      "\u001b[1;31m---------------------------------------------------------------------------\u001b[0m",
      "\u001b[1;31mValueError\u001b[0m                                Traceback (most recent call last)",
      "Cell \u001b[1;32mIn[5], line 6\u001b[0m\n\u001b[0;32m      3\u001b[0m y \u001b[38;5;241m=\u001b[39m \u001b[38;5;28;01mTrue\u001b[39;00m\n\u001b[0;32m      5\u001b[0m \u001b[38;5;28;01mwhile\u001b[39;00m y:\n\u001b[1;32m----> 6\u001b[0m     guess \u001b[38;5;241m=\u001b[39m \u001b[38;5;28;43mint\u001b[39;49m\u001b[43m(\u001b[49m\u001b[38;5;28;43minput\u001b[39;49m\u001b[43m(\u001b[49m\u001b[38;5;124;43m\"\u001b[39;49m\u001b[38;5;124;43mguess the number i am thinking of, between 1 and 100\u001b[39;49m\u001b[38;5;124;43m\"\u001b[39;49m\u001b[43m)\u001b[49m\u001b[43m)\u001b[49m\n\u001b[0;32m      7\u001b[0m     \u001b[38;5;28;01mif\u001b[39;00m guess \u001b[38;5;241m<\u001b[39m number:\n\u001b[0;32m      8\u001b[0m         \u001b[38;5;28mprint\u001b[39m(\u001b[38;5;124mf\u001b[39m\u001b[38;5;124m\"\u001b[39m\u001b[38;5;124myour guess is \u001b[39m\u001b[38;5;132;01m{\u001b[39;00mguess\u001b[38;5;132;01m}\u001b[39;00m\u001b[38;5;124m. Increase your guess\u001b[39m\u001b[38;5;124m\"\u001b[39m)\n",
      "\u001b[1;31mValueError\u001b[0m: invalid literal for int() with base 10: ''"
     ]
    }
   ],
   "source": [
    "number = 55\n",
    "\n",
    "y = True\n",
    "\n",
    "while y:\n",
    "    guess = int(input(\"guess the number i am thinking of, between 1 and 100\"))\n",
    "    if guess < number:\n",
    "        print(f\"your guess is {guess}. Increase your guess\")\n",
    "    elif guess > number:\n",
    "        print(f\"your guess is {guess}. Lower your guess\")\n",
    "    else:\n",
    "        print(f\"your guess is {guess}. You are correct. Congratulations\")\n",
    "y = False"
   ]
  },
  {
   "cell_type": "code",
   "execution_count": 1,
   "metadata": {},
   "outputs": [
    {
     "name": "stdout",
     "output_type": "stream",
     "text": [
      "your guess is 55. You are correct.You found the answer in 1 guesses Congratulations\n"
     ]
    }
   ],
   "source": [
    "number = 55\n",
    "\n",
    "y = True\n",
    "count = 0\n",
    "\n",
    "while y:\n",
    "    count += 1\n",
    "    guess = int(input(\"guess the number i am thinking of, between 1 and 100\"))\n",
    "    if guess < number:\n",
    "        print(f\"your guess is {guess}. Increase your guess\")\n",
    "    elif guess > number:\n",
    "        print(f\"your guess is {guess}. Lower your guess\")\n",
    "    else:\n",
    "        print(f\"your guess is {guess}. You are correct.You found the answer in {count} guesses Congratulations\")\n",
    "        y = False"
   ]
  },
  {
   "cell_type": "code",
   "execution_count": 7,
   "metadata": {},
   "outputs": [
    {
     "name": "stdout",
     "output_type": "stream",
     "text": [
      "your guess is 25. Increase your guess\n",
      "your guess is 70. Lower your guess\n",
      "your guess is 55. You are correct.You found the answer in 1 guesses Congratulations\n"
     ]
    }
   ],
   "source": [
    "number = 55\n",
    "\n",
    "y = True\n",
    "\n",
    "while y:\n",
    "    count = 0\n",
    "    guess = int(input(\"guess the number i am thinking of, between 1 and 100\"))\n",
    "    count += 1\n",
    "    if guess < number:\n",
    "        print(f\"your guess is {guess}. Increase your guess\")\n",
    "    elif guess > number:\n",
    "        print(f\"your guess is {guess}. Lower your guess\")\n",
    "    else:\n",
    "        print(f\"your guess is {guess}. You are correct.You found the answer in {count} guesses Congratulations\")\n",
    "        y = False"
   ]
  },
  {
   "cell_type": "code",
   "execution_count": 8,
   "metadata": {},
   "outputs": [
    {
     "name": "stdout",
     "output_type": "stream",
     "text": [
      "your guess is 15. Increase your guess\n",
      "your guess is 89. Lower your guess\n",
      "your guess is 26. Increase your guess\n",
      "your guess is 67. Lower your guess\n",
      "your guess is 49. Increase your guess\n"
     ]
    }
   ],
   "source": [
    "number = 55\n",
    "\n",
    "y = True\n",
    "count = 0\n",
    "\n",
    "while y:\n",
    "    count += 1\n",
    "    guess = int(input(\"guess the number i am thinking of, between 1 and 100\"))\n",
    "\n",
    "    if guess < number:\n",
    "        print(f\"your guess is {guess}. Increase your guess\")\n",
    "    elif guess > number:\n",
    "        print(f\"your guess is {guess}. Lower your guess\")\n",
    "    else:\n",
    "        print(f\"your guess is {guess}. You are correct.You found the answer in {count} guesses Congratulations\")\n",
    "        y = False\n",
    "    \n",
    "    if count == 5:\n",
    "        y = False"
   ]
  },
  {
   "cell_type": "code",
   "execution_count": 9,
   "metadata": {},
   "outputs": [
    {
     "name": "stdout",
     "output_type": "stream",
     "text": [
      "your guess is 25. Increase your guess\n",
      "your guess is 79. Lower your guess\n",
      "your guess is 46. Increase your guess\n",
      "your guess is 82. Lower your guess\n",
      "your guess is 53. Increase your guess\n",
      "You have made 5 guesses, and did not find the correct answer. you are out of guesses.\n"
     ]
    }
   ],
   "source": [
    "number = 55\n",
    "\n",
    "y = True\n",
    "count = 0\n",
    "\n",
    "while y:\n",
    "    count += 1\n",
    "    guess = int(input(\"guess the number i am thinking of, between 1 and 100\"))\n",
    "\n",
    "    if guess < number:\n",
    "        print(f\"your guess is {guess}. Increase your guess\")\n",
    "    elif guess > number:\n",
    "        print(f\"your guess is {guess}. Lower your guess\")\n",
    "    else:\n",
    "        print(f\"your guess is {guess}. You are correct.You found the answer in {count} guesses Congratulations\")\n",
    "        y = False\n",
    "    \n",
    "    if count == 5:\n",
    "        print(\"You have made 5 guesses, and did not find the correct answer. you are out of guesses.\")\n",
    "        y = False"
   ]
  },
  {
   "cell_type": "code",
   "execution_count": 1,
   "metadata": {},
   "outputs": [
    {
     "name": "stdout",
     "output_type": "stream",
     "text": [
      "incorrect password. try again\n",
      "incorrect password. try again\n",
      "incorrect password. try again\n",
      "You are out of guesses. please go to your bank branch\n"
     ]
    }
   ],
   "source": [
    "password = \"1234\"\n",
    "\n",
    "y = True\n",
    "\n",
    "count = 0\n",
    "\n",
    "while y:\n",
    "\n",
    "    userpass = input(\"Enter your online banking password\")\n",
    "    count += 1\n",
    "    if userpass == password:\n",
    "        print(\"Welcome to your internet online banking.\")\n",
    "        y = False\n",
    "    else:\n",
    "        print(\"incorrect password. try again\")\n",
    "\n",
    "    if count == 3:\n",
    "        print(\"You are out of guesses. please go to your bank branch\")\n",
    "        y = False"
   ]
  },
  {
   "cell_type": "code",
   "execution_count": 4,
   "metadata": {},
   "outputs": [
    {
     "name": "stdout",
     "output_type": "stream",
     "text": [
      "incorrect password. you made 1 guesses. you have 2 guesses left\n",
      "incorrect password. you made 2 guesses. you have 1 guesses left\n",
      "Welcome to your internet online banking.You were able to enter in 3 guesses\n",
      "You are out of guesses. please go to your bank branch\n"
     ]
    }
   ],
   "source": [
    "password = \"1234\"\n",
    "\n",
    "y = True\n",
    "\n",
    "count = 0\n",
    "\n",
    "while y:\n",
    "    userpass = input(\"Enter your online banking password\")\n",
    "    count += 1\n",
    "    if userpass == password:\n",
    "        print(f\"Welcome to your internet online banking.You were able to enter in {count} guesses\")\n",
    "        y = False\n",
    "    else:\n",
    "        print(f\"incorrect password. you made {count} guesses. you have {3 - count} guesses left\")\n",
    "\n",
    "    if count == 3:\n",
    "        print(\"You are out of guesses. please go to your bank branch\")\n",
    "        y = False"
   ]
  },
  {
   "cell_type": "code",
   "execution_count": 7,
   "metadata": {},
   "outputs": [
    {
     "name": "stdout",
     "output_type": "stream",
     "text": [
      "incorrect password. you made 1 guesses. you have 2 guesses left\n",
      "incorrect password. you made 2 guesses. you have 1 guesses left\n",
      "incorrect once again. You are out of guesses. please go to your bank branch\n"
     ]
    }
   ],
   "source": [
    "password = \"1234\"\n",
    "\n",
    "y = True\n",
    "\n",
    "count = 0\n",
    "\n",
    "while y:\n",
    "    userpass = input(\"Enter your online banking password\")\n",
    "    count += 1\n",
    "    if userpass == password:\n",
    "        print(f\"Welcome to your internet online banking.You were able to enter in {count} guesses\")\n",
    "        y = False\n",
    "    else:\n",
    "        if count == 3:\n",
    "            print(\"incorrect once again. You are out of guesses. please go to your bank branch\")\n",
    "            y = False\n",
    "        else:\n",
    "            print(f\"incorrect password. you made {count} guesses. you have {3 - count} guesses left\")"
   ]
  },
  {
   "cell_type": "code",
   "execution_count": null,
   "metadata": {},
   "outputs": [],
   "source": [
    "password = \"1234\"\n",
    "\n",
    "y = True\n",
    "\n",
    "count = 0\n",
    "\n",
    "while y:\n",
    "    userpass = input(\"Enter your online banking password\")\n",
    "    count += 1\n",
    "    if userpass == password:\n",
    "        print(f\"Welcome to your internet online banking.You were able to enter in {count} guesses\")\n",
    "        y = False\n",
    "    else:\n",
    "        if count < 4:\n",
    "            print(f\"incorrect password. you made {count} guesses. you have {3 - count} guesses left\")\n",
    "            \n",
    "        else:\n",
    "            print(\"incorrect once again. You are out of guesses. please go to your bank branch\")\n",
    "            y = False"
   ]
  },
  {
   "cell_type": "code",
   "execution_count": null,
   "metadata": {},
   "outputs": [],
   "source": [
    "password = \"1234\"\n",
    "\n",
    "y = True\n",
    "\n",
    "count = 0\n",
    "\n",
    "while y:\n",
    "    userpass = input(\"Enter your online banking password\")\n",
    "    if len(userpass) != 4:\n",
    "        print(\"the length of password doesn't match\")\n",
    "    else:\n",
    "\n",
    "        count += 1\n",
    "        if userpass == password:\n",
    "            print(f\"Welcome to your internet online banking.You were able to enter in {count} guesses\")\n",
    "            y = False\n",
    "        else:\n",
    "            if count < 4:\n",
    "                print(f\"incorrect password. you made {count} guesses. you have {3 - count} guesses left\")\n",
    "            \n",
    "            else:\n",
    "                print(\"incorrect once again. You are out of guesses. please go to your bank branch\")\n",
    "                y = False"
   ]
  },
  {
   "cell_type": "code",
   "execution_count": 8,
   "metadata": {},
   "outputs": [
    {
     "name": "stdout",
     "output_type": "stream",
     "text": [
      "1\n",
      "4\n",
      "16\n",
      "49\n",
      "144\n",
      "256\n"
     ]
    }
   ],
   "source": [
    "# write a code with while loop to give the square of the elements inside the list.\n",
    "mylist = [1, 2, 4, 7, 12, 16]\n",
    "\n",
    "x = 0\n",
    "\n",
    "while x < 6:\n",
    "    print(mylist[x] ** 2)\n",
    "\n",
    "    x +=1"
   ]
  },
  {
   "cell_type": "code",
   "execution_count": 9,
   "metadata": {},
   "outputs": [
    {
     "name": "stdout",
     "output_type": "stream",
     "text": [
      "1\n",
      "4\n",
      "16\n",
      "49\n",
      "144\n",
      "256\n",
      "144\n",
      "4\n",
      "1156\n",
      "1\n",
      "4\n",
      "9\n",
      "309136\n"
     ]
    }
   ],
   "source": [
    "# write a code with while loop to give the square of the elements inside the list.\n",
    "mylist = [1, 2, 4, 7, 12, 16, 12, 2, 34, 1, 2, 3, 556]\n",
    "\n",
    "x = 0\n",
    "\n",
    "while x < len(mylist):\n",
    "    print(mylist[x] ** 2)\n",
    "\n",
    "    x +=1"
   ]
  },
  {
   "cell_type": "code",
   "execution_count": 10,
   "metadata": {},
   "outputs": [
    {
     "name": "stdout",
     "output_type": "stream",
     "text": [
      "[1, 4, 9, 16, 25, 64]\n"
     ]
    }
   ],
   "source": [
    "# write a code to bring the square of the elements of the following list inside another list.\n",
    "mylist = [1,2, 3, 4, 5, 8]\n",
    "\n",
    "x = 0\n",
    "\n",
    "squarelist = []\n",
    "\n",
    "while x < len(mylist):\n",
    "    squarelist.append(mylist[x] ** 2)\n",
    "\n",
    "    x += 1\n",
    "\n",
    "print(squarelist)"
   ]
  },
  {
   "cell_type": "markdown",
   "metadata": {},
   "source": [
    "write a code to bring the square of the even elements and cube of odd elements of the following list inside another list called resultant."
   ]
  },
  {
   "cell_type": "code",
   "execution_count": 11,
   "metadata": {},
   "outputs": [
    {
     "name": "stdout",
     "output_type": "stream",
     "text": [
      "[1, 27, 125, 16, 4, 64, 100, 1331]\n"
     ]
    }
   ],
   "source": [
    "mylist = [1, 3, 5, 4, 2, 8, 10, 11]\n",
    "x = 0\n",
    "resultant = []\n",
    "\n",
    "while x < len(mylist):\n",
    "    if mylist[x] % 2 == 0:\n",
    "        resultant.append(mylist[x] ** 2)\n",
    "    elif mylist[x] % 2 ==1:\n",
    "        resultant.append(mylist[x] ** 3)\n",
    "    x +=1\n",
    "\n",
    "print(resultant)"
   ]
  },
  {
   "cell_type": "code",
   "execution_count": 7,
   "metadata": {},
   "outputs": [
    {
     "name": "stdout",
     "output_type": "stream",
     "text": [
      "['HI', 'HE', 'IT']\n"
     ]
    }
   ],
   "source": [
    "# go to each element of the following list, if the length of that particular string is more than 2, \n",
    "# replace that string with \"no\".\n",
    "\n",
    "stringlist = [\"hi\", \"hello\", \"merhaba\", \"he\", \"it\"]\n",
    "\n",
    "x = 0\n",
    "\n",
    "while x < len(stringlist):\n",
    "    if len(stringlist[x]) > 2:\n",
    "        stringlist.remove(stringlist[x])\n",
    "    else:\n",
    "        stringlist[x] = stringlist[x].upper()\n",
    "        x += 1\n",
    "\n",
    "print(stringlist)"
   ]
  },
  {
   "cell_type": "code",
   "execution_count": 20,
   "metadata": {},
   "outputs": [
    {
     "name": "stdout",
     "output_type": "stream",
     "text": [
      "Iteration No. 0\n",
      "stringlist after upper iteration: ['HI', 'hello', 'merhaba', 'he', 'it']\n",
      "=========================================\n",
      "Iteration No. 1\n",
      "stringlist after remove iteration: ['HI', 'merhaba', 'he', 'it']\n",
      "Iteration No. 1\n",
      "stringlist after remove iteration: ['HI', 'he', 'it']\n",
      "Iteration No. 1\n",
      "stringlist after upper iteration: ['HI', 'HE', 'it']\n",
      "=========================================\n",
      "Iteration No. 2\n",
      "stringlist after upper iteration: ['HI', 'HE', 'IT']\n",
      "=========================================\n",
      "['HI', 'HE', 'IT']\n"
     ]
    }
   ],
   "source": [
    "stringlist = [\"hi\", \"hello\", \"merhaba\", \"he\", \"it\"]\n",
    "x =0\n",
    "while x < len(stringlist):\n",
    "    print(f'Iteration No. {x}')\n",
    "    if len(stringlist[x]) > 2:\n",
    "        stringlist.remove(stringlist[x])\n",
    "        print(f'stringlist after remove iteration: {stringlist}')\n",
    "    else:\n",
    "        stringlist[x] = stringlist[x].upper()\n",
    "        print(f'stringlist after upper iteration: {stringlist}')\n",
    "        print(\"=========================================\")\n",
    "        x+=1\n",
    "print(stringlist)"
   ]
  },
  {
   "cell_type": "code",
   "execution_count": null,
   "metadata": {},
   "outputs": [],
   "source": []
  },
  {
   "cell_type": "code",
   "execution_count": null,
   "metadata": {},
   "outputs": [
    {
     "ename": "",
     "evalue": "",
     "output_type": "error",
     "traceback": [
      "\u001b[1;31mThe Kernel crashed while executing code in the current cell or a previous cell. \n",
      "\u001b[1;31mPlease review the code in the cell(s) to identify a possible cause of the failure. \n",
      "\u001b[1;31mClick <a href='https://aka.ms/vscodeJupyterKernelCrash'>here</a> for more info. \n",
      "\u001b[1;31mView Jupyter <a href='command:jupyter.viewOutput'>log</a> for further details."
     ]
    }
   ],
   "source": [
    "def add(a):\n",
    "  \n",
    " print(type(add()))\n",
    "\n",
    "add()\n",
    "add(12.13)"
   ]
  }
 ],
 "metadata": {
  "kernelspec": {
   "display_name": "Python 3",
   "language": "python",
   "name": "python3"
  },
  "language_info": {
   "codemirror_mode": {
    "name": "ipython",
    "version": 3
   },
   "file_extension": ".py",
   "mimetype": "text/x-python",
   "name": "python",
   "nbconvert_exporter": "python",
   "pygments_lexer": "ipython3",
   "version": "3.11.1"
  }
 },
 "nbformat": 4,
 "nbformat_minor": 2
}
